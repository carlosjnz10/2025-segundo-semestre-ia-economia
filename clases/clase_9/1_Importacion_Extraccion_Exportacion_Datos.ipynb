{
  "cells": [
    {
      "cell_type": "markdown",
      "source": [
        "# 🛢️**Métodos de importación, extracción y exportación de datos en Python**"
      ],
      "metadata": {
        "id": "fgMCFLbQBIu0"
      },
      "id": "fgMCFLbQBIu0"
    },
    {
      "cell_type": "markdown",
      "source": [
        "Elaborado por: Lina María Castro\n",
        "\n",
        "Fecha: 4 de septiembre de 2025"
      ],
      "metadata": {
        "id": "uyw26RU99yRC"
      },
      "id": "uyw26RU99yRC"
    },
    {
      "cell_type": "markdown",
      "id": "002f12a4",
      "metadata": {
        "id": "002f12a4"
      },
      "source": [
        "En esta clase aprenderás a:\n",
        "\n",
        "- Importar y extraer datos desde diferentes fuentes:\n",
        "\n",
        "  - Archivos locales (CSV, Excel, TXT)\n",
        "  - Archivos en la web (CSV desde URL)\n",
        "  - APIs\n",
        "\n",
        "- Explorar el dataset\n",
        "- Unir varios archivos\n",
        "- Manejar algunos casos especiales de importación\n",
        "- Guardar/exportar datos.\n",
        "\n",
        "Este es el primer paso para todo análisis de datos en economía y ciencias sociales.\n"
      ]
    },
    {
      "cell_type": "markdown",
      "source": [
        "## Instalaciones necesarias"
      ],
      "metadata": {
        "id": "JVPqyZLHCk0H"
      },
      "id": "JVPqyZLHCk0H"
    },
    {
      "cell_type": "markdown",
      "source": [
        "No es necesario si:\n",
        "- Instalaste los programas del archivo requirements.txt\n",
        "- Corriste el notebook \"0_instalacion_librerias.ipynb\"\n",
        "- Estás usando Google Colab"
      ],
      "metadata": {
        "id": "7n12K77tDhxu"
      },
      "id": "7n12K77tDhxu"
    },
    {
      "cell_type": "code",
      "source": [
        "# Para poder leer y abrir archivos de Excel\n",
        "!pip install xlrd openpyxl"
      ],
      "metadata": {
        "id": "E3GXtrdeCled"
      },
      "id": "E3GXtrdeCled",
      "execution_count": null,
      "outputs": []
    },
    {
      "cell_type": "code",
      "source": [
        "# Para trabajar datos tabulares\n",
        "!pip install pandas"
      ],
      "metadata": {
        "id": "sC9qIBcJC2n_"
      },
      "id": "sC9qIBcJC2n_",
      "execution_count": null,
      "outputs": []
    },
    {
      "cell_type": "markdown",
      "source": [
        "## Importar librerías"
      ],
      "metadata": {
        "id": "CvffQiPyDLJG"
      },
      "id": "CvffQiPyDLJG"
    },
    {
      "cell_type": "code",
      "source": [
        "import numpy as np\n",
        "import pandas as pd"
      ],
      "metadata": {
        "id": "YFPOnxMFDBFP"
      },
      "id": "YFPOnxMFDBFP",
      "execution_count": null,
      "outputs": []
    },
    {
      "cell_type": "markdown",
      "source": [
        "## Mejorar visualización de los dataframes"
      ],
      "metadata": {
        "id": "jHE2ZLJuEPIe"
      },
      "id": "jHE2ZLJuEPIe"
    },
    {
      "cell_type": "code",
      "source": [
        "# Que muestre todas las columnas\n",
        "pd.options.display.max_columns = None\n",
        "# En los dataframes, mostrar los float con dos decimales\n",
        "pd.options.display.float_format = '{:,.2f}'.format"
      ],
      "metadata": {
        "id": "72TA8V1fETCm"
      },
      "id": "72TA8V1fETCm",
      "execution_count": null,
      "outputs": []
    },
    {
      "cell_type": "markdown",
      "id": "a63258f9",
      "metadata": {
        "id": "a63258f9"
      },
      "source": [
        "## Importar datos desde archivos locales (CSV, Excel, TXT)"
      ]
    },
    {
      "cell_type": "markdown",
      "source": [
        "En Google Colab hay dos opciones:\n",
        "- Subir el archivo al entorno (se borra cuando se desconecta del entorno de ejecución o se cierra el notebook)\n",
        "- Importar el archivo desde Google Drive"
      ],
      "metadata": {
        "id": "cZFsvB9oEfet"
      },
      "id": "cZFsvB9oEfet"
    },
    {
      "cell_type": "markdown",
      "source": [
        "### Subir el archivo al entorno"
      ],
      "metadata": {
        "id": "B-QFv_rNGCt8"
      },
      "id": "B-QFv_rNGCt8"
    },
    {
      "cell_type": "code",
      "source": [
        "# Archivo csv\n",
        "df_ssc = pd.read_csv('Supersociedades_2023.csv', encoding ='utf-8', dtype=str)\n",
        "df_ssc.head()"
      ],
      "metadata": {
        "id": "r8Y8G0qjH1gl"
      },
      "id": "r8Y8G0qjH1gl",
      "execution_count": null,
      "outputs": []
    },
    {
      "cell_type": "code",
      "source": [
        "df_ssc['ACTIVOS_2023'] = df_ssc['ACTIVOS_2023'].astype('float64')\n",
        "df_ssc.head()"
      ],
      "metadata": {
        "id": "qtdrae4e8V17"
      },
      "id": "qtdrae4e8V17",
      "execution_count": null,
      "outputs": []
    },
    {
      "cell_type": "code",
      "source": [
        "# Archivo txt\n",
        "df_mun = pd.read_csv('Base_municipios.txt', sep=\"|\", decimal=',', encoding ='utf-8', converters={'Cod. Municipio':str})\n",
        "df_mun.head()"
      ],
      "metadata": {
        "id": "DfW8aeMNE7dO"
      },
      "id": "DfW8aeMNE7dO",
      "execution_count": null,
      "outputs": []
    },
    {
      "cell_type": "code",
      "source": [
        "# Archivo Excel\n",
        "df_divipola_depto = pd.read_excel(\"2025-01-14 DIVIPOLA.xlsx\",\n",
        "                            sheet_name=\"Departamentos\",\n",
        "                            skiprows=9)\n",
        "df_divipola_depto.head()\n"
      ],
      "metadata": {
        "id": "mPympUJDIajY"
      },
      "id": "mPympUJDIajY",
      "execution_count": null,
      "outputs": []
    },
    {
      "cell_type": "code",
      "source": [
        "# Archivo Excel\n",
        "df_divipola_mun = pd.read_excel(\"2025-01-14 DIVIPOLA.xlsx\",\n",
        "                            sheet_name=\"Municipios\",\n",
        "                            skiprows=10, dtype=str)\n",
        "df_divipola_mun.head()"
      ],
      "metadata": {
        "id": "6hocsAqbLlgb"
      },
      "id": "6hocsAqbLlgb",
      "execution_count": null,
      "outputs": []
    },
    {
      "cell_type": "code",
      "source": [
        "# Renombrar las columnas\n",
        "df_divipola_mun.rename(columns={'Código':'Cod. Depto',\n",
        "                                'Nombre': 'Departamento',\n",
        "                                'Código .1':'Cod. Municipio',\n",
        "                                'Nombre.1': 'Municipio',\n",
        "                                'Unnamed: 4': 'Tipo',\n",
        "                                'Unnamed: 5': 'Area Metropolitana'},\n",
        "                       inplace=True)\n",
        "df_divipola_mun.head(6)"
      ],
      "metadata": {
        "id": "nKtEUj78T04z"
      },
      "id": "nKtEUj78T04z",
      "execution_count": null,
      "outputs": []
    },
    {
      "cell_type": "markdown",
      "source": [
        "### Importar el archivo desde Google Drive"
      ],
      "metadata": {
        "id": "gQgT1OYvGIC9"
      },
      "id": "gQgT1OYvGIC9"
    },
    {
      "cell_type": "code",
      "source": [
        "import os"
      ],
      "metadata": {
        "id": "EReutEuwVl_o"
      },
      "id": "EReutEuwVl_o",
      "execution_count": null,
      "outputs": []
    },
    {
      "cell_type": "markdown",
      "source": [
        "📌 Librería `os` en Python – Comandos más usados\n",
        "\n",
        "La librería \"os\" conecta Python con el sistema operativo para manipular archivos, directorios y configuraciones.  \n",
        "\n",
        "| Comando | Descripción | Ejemplo |\n",
        "|---------|-------------|---------|\n",
        "| `os.getcwd()` | Devuelve el directorio de trabajo actual. | `os.getcwd()` |\n",
        "| `os.listdir(ruta)` | Lista los archivos y carpetas de una ruta. | `os.listdir(\".\")` |\n",
        "| `os.chdir(ruta)` | Cambia el directorio de trabajo. | `os.chdir(\"C:/Users\")` |\n",
        "| `os.mkdir(nombre)` | Crea una nueva carpeta. | `os.mkdir(\"datos\")` |\n",
        "| `os.makedirs(ruta)` | Crea carpetas anidadas. | `os.makedirs(\"carpeta1/carpeta2\")` |\n",
        "| `os.remove(archivo)` | Elimina un archivo. | `os.remove(\"archivo.txt\")` |\n",
        "| `os.rmdir(carpeta)` | Elimina una carpeta vacía. | `os.rmdir(\"datos\")` |\n",
        "| `os.rename(src, dst)` | Renombra o mueve un archivo/carpeta. | `os.rename(\"a.txt\",\"b.txt\")` |\n",
        "| `os.path.exists(ruta)` | Verifica si una ruta existe. | `os.path.exists(\"datos\")` |\n",
        "| `os.path.join(a, b)` | Une rutas de forma segura. | `os.path.join(\"carpeta\", \"archivo.csv\")` |\n",
        "\n",
        "\n",
        "⚠️ **Nota:**  \n",
        "`os.remove` y `os.rmdir` no envían a la papelera, eliminan de forma permanente.  "
      ],
      "metadata": {
        "id": "hPY6MorRSDT7"
      },
      "id": "hPY6MorRSDT7"
    },
    {
      "cell_type": "code",
      "source": [
        "from google.colab import drive, files\n",
        "drive.mount('/content/drive')"
      ],
      "metadata": {
        "id": "KYRaLbXlMc_c"
      },
      "id": "KYRaLbXlMc_c",
      "execution_count": null,
      "outputs": []
    },
    {
      "cell_type": "code",
      "source": [
        "path = '/content/drive/MyDrive/2025_ii_curso_ia_economia/datasets'"
      ],
      "metadata": {
        "id": "dQSa_neuGLji"
      },
      "id": "dQSa_neuGLji",
      "execution_count": null,
      "outputs": []
    },
    {
      "cell_type": "code",
      "source": [
        "# Para establecer el directorio de los archivos\n",
        "os.chdir(path)"
      ],
      "metadata": {
        "id": "cka8EDXhQuee"
      },
      "id": "cka8EDXhQuee",
      "execution_count": null,
      "outputs": []
    },
    {
      "cell_type": "code",
      "source": [
        "df_mun_drive = pd.read_csv('Base_municipios_drive.txt', sep=\"|\", decimal=',', encoding ='utf-8', converters={'Cod. Municipio':str})\n",
        "df_mun_drive.head()"
      ],
      "metadata": {
        "id": "ez5NCUtIRHbI"
      },
      "id": "ez5NCUtIRHbI",
      "execution_count": null,
      "outputs": []
    },
    {
      "cell_type": "markdown",
      "id": "223a6999",
      "metadata": {
        "id": "223a6999"
      },
      "source": [
        "## Importar datos desde una URL"
      ]
    },
    {
      "cell_type": "code",
      "execution_count": null,
      "id": "940517a9",
      "metadata": {
        "id": "940517a9"
      },
      "outputs": [],
      "source": [
        "# CSV desde URL\n",
        "url = \"https://raw.githubusercontent.com/mwaskom/seaborn-data/master/iris.csv\"\n",
        "df_url = pd.read_csv(url)\n",
        "df_url.head()"
      ]
    },
    {
      "cell_type": "markdown",
      "source": [
        "## Conectarse a una API"
      ],
      "metadata": {
        "id": "Z-Uka_kLV6Nv"
      },
      "id": "Z-Uka_kLV6Nv"
    },
    {
      "cell_type": "markdown",
      "source": [
        "- API significa Application Programming Interface o Interfaz de Programación de Aplicaciones.\n",
        "\n",
        "- Es un conjunto de reglas y herramientas que permite que dos aplicaciones se comuniquen entre sí.\n",
        "\n",
        "- Una aplicación expone sus funcionalidades o datos a través de la API.\n",
        "\n",
        "- Otra aplicación puede usarlos, sin necesidad de saber cómo funciona internamente.\n",
        "\n",
        "- Una API es como un puente que permite a diferentes programas hablar entre sí y compartir información de manera segura y estandarizada."
      ],
      "metadata": {
        "id": "W21l8g0bXZrx"
      },
      "id": "W21l8g0bXZrx"
    },
    {
      "cell_type": "markdown",
      "source": [
        "### Conexión a datos del Banco Mundial (usando wbdata)\n",
        "\n",
        "El Banco Mundial tiene una API que expone datos de desarrollo económico y social. En Python podemos usar la librería **wbdata**.\n",
        "\n",
        "Documentación: https://wbdata.readthedocs.io/en/stable/\n",
        "\n",
        "También se puede utilizar: **wbgapi**\n",
        "\n",
        "Documentación: https://pypi.org/project/wbgapi/"
      ],
      "metadata": {
        "id": "Pu4Zm4cuX6ZH"
      },
      "id": "Pu4Zm4cuX6ZH"
    },
    {
      "cell_type": "code",
      "source": [
        "!pip install wbdata"
      ],
      "metadata": {
        "id": "jlNRNv2PgVvF"
      },
      "id": "jlNRNv2PgVvF",
      "execution_count": null,
      "outputs": []
    },
    {
      "cell_type": "code",
      "source": [
        "import wbdata\n",
        "import datetime"
      ],
      "metadata": {
        "id": "h0czSVnuX22D"
      },
      "id": "h0czSVnuX22D",
      "execution_count": null,
      "outputs": []
    },
    {
      "cell_type": "markdown",
      "source": [
        "Nota: \"datetime\" permite trabajar con fechas y horas.\n",
        "\n",
        "- Obtener la fecha y hora actual.\n",
        "- Crear objetos de fecha (año, mes, día).\n",
        "- Realizar operaciones con fechas (sumar o restar días, calcular diferencias).\n",
        "- Dar formato a fechas (por ejemplo, mostrar como \"31-08-2025\" en lugar de \"2025-08-31\")."
      ],
      "metadata": {
        "id": "8Mb5IwzkvYcg"
      },
      "id": "8Mb5IwzkvYcg"
    },
    {
      "cell_type": "markdown",
      "source": [
        "Vamos a traer el PIB per cápita de Colombia entre 2010 y 2023 directamente desde el Banco Mundial."
      ],
      "metadata": {
        "id": "N3sIkvuPYO00"
      },
      "id": "N3sIkvuPYO00"
    },
    {
      "cell_type": "code",
      "source": [
        "# Indicador: PIB per cápita (en USD actuales)\n",
        "indicador = {\"NY.GDP.PCAP.CD\": \"PIB per cápita\"}\n",
        "\n",
        "# País: Colombia (COL)\n",
        "fecha_inicio = datetime.datetime(2010, 1, 1)\n",
        "fecha_fin = datetime.datetime(2023, 1, 1)\n",
        "\n",
        "# Descargar datos\n",
        "df = wbdata.get_dataframe(indicador, country=\"COL\", date=(fecha_inicio, fecha_fin))\n",
        "\n",
        "df"
      ],
      "metadata": {
        "id": "0cvjTntJYMKC"
      },
      "id": "0cvjTntJYMKC",
      "execution_count": null,
      "outputs": []
    },
    {
      "cell_type": "markdown",
      "source": [
        "### Conexión a datos abiertos de Colombia\n",
        "\n",
        "https://www.datos.gov.co/"
      ],
      "metadata": {
        "id": "VsIpcfimbNu5"
      },
      "id": "VsIpcfimbNu5"
    },
    {
      "cell_type": "markdown",
      "source": [
        "#### Ejemplos"
      ],
      "metadata": {
        "id": "RWW9Pd5hsxTk"
      },
      "id": "RWW9Pd5hsxTk"
    },
    {
      "cell_type": "markdown",
      "source": [
        "1. MEN_ESTADISTICAS_EN_EDUCACION_EN_PREESCOLAR, BÁSICA Y MEDIA_POR_DEPARTAMENTO\n",
        "\n",
        "https://www.datos.gov.co/Educaci-n/MEN_ESTADISTICAS_EN_EDUCACION_EN_PREESCOLAR-B-SICA/ji8i-4anb/about_data\n",
        "\n",
        "Ir a Exportar --> API de acceso y copiar el endpoint solamente."
      ],
      "metadata": {
        "id": "gScucZxFbJNT"
      },
      "id": "gScucZxFbJNT"
    },
    {
      "cell_type": "code",
      "source": [
        "import requests"
      ],
      "metadata": {
        "id": "Dbu-i4AVYXyE"
      },
      "id": "Dbu-i4AVYXyE",
      "execution_count": null,
      "outputs": []
    },
    {
      "cell_type": "markdown",
      "source": [
        "\"requests\" es una librería que permite hacer peticiones HTTP (GET, POST, PUT, DELETE) de manera sencilla.\n",
        "\n",
        "GET → traer datos desde una página o API.\n",
        "\n",
        "POST → enviar datos a un servidor."
      ],
      "metadata": {
        "id": "26Xyg106ueO3"
      },
      "id": "26Xyg106ueO3"
    },
    {
      "cell_type": "code",
      "source": [
        "url = \"https://www.datos.gov.co/resource/ji8i-4anb.json\"\n",
        "\n",
        "# Solicitud a la API\n",
        "response = requests.get(url)\n",
        "data = response.json()\n",
        "\n",
        "# Convertir a DataFrame\n",
        "df = pd.DataFrame(data)\n",
        "\n",
        "df.head()"
      ],
      "metadata": {
        "id": "l_np45gJa8gP"
      },
      "id": "l_np45gJa8gP",
      "execution_count": null,
      "outputs": []
    },
    {
      "cell_type": "markdown",
      "source": [
        "2. Casos positivos de COVID-19 en Colombia"
      ],
      "metadata": {
        "id": "24Cv49CVcgYO"
      },
      "id": "24Cv49CVcgYO"
    },
    {
      "cell_type": "code",
      "source": [
        "url = \"https://www.datos.gov.co/resource/gt2j-8ykr.json\"\n",
        "\n",
        "# Solicitud a la API\n",
        "response = requests.get(url)\n",
        "data = response.json()\n",
        "\n",
        "# Convertir a DataFrame\n",
        "df = pd.DataFrame(data)\n",
        "\n",
        "df.head()"
      ],
      "metadata": {
        "id": "P_LrCRSUYc4r"
      },
      "id": "P_LrCRSUYc4r",
      "execution_count": null,
      "outputs": []
    },
    {
      "cell_type": "markdown",
      "source": [
        "## Explorar el dataset"
      ],
      "metadata": {
        "id": "Jhs1Bs3LWVEh"
      },
      "id": "Jhs1Bs3LWVEh"
    },
    {
      "cell_type": "code",
      "source": [
        "df"
      ],
      "metadata": {
        "id": "Q5gSdqTzwFn0"
      },
      "id": "Q5gSdqTzwFn0",
      "execution_count": null,
      "outputs": []
    },
    {
      "cell_type": "code",
      "source": [
        "df.head()"
      ],
      "metadata": {
        "id": "Zxz4JwP0s00V"
      },
      "id": "Zxz4JwP0s00V",
      "execution_count": null,
      "outputs": []
    },
    {
      "cell_type": "code",
      "source": [
        "df.head(2)"
      ],
      "metadata": {
        "id": "9FAz8nEpu7gw"
      },
      "id": "9FAz8nEpu7gw",
      "execution_count": null,
      "outputs": []
    },
    {
      "cell_type": "code",
      "source": [
        "df.head(10)"
      ],
      "metadata": {
        "id": "dPajeSTvu9dR"
      },
      "id": "dPajeSTvu9dR",
      "execution_count": null,
      "outputs": []
    },
    {
      "cell_type": "code",
      "source": [
        "df.tail()"
      ],
      "metadata": {
        "id": "0AhPadc-s2K9"
      },
      "id": "0AhPadc-s2K9",
      "execution_count": null,
      "outputs": []
    },
    {
      "cell_type": "code",
      "source": [
        "df.sample()"
      ],
      "metadata": {
        "id": "FnO4NQqcnvwG"
      },
      "id": "FnO4NQqcnvwG",
      "execution_count": null,
      "outputs": []
    },
    {
      "cell_type": "code",
      "source": [
        "df.sample(3)"
      ],
      "metadata": {
        "id": "n1h6DTpsvBzO"
      },
      "id": "n1h6DTpsvBzO",
      "execution_count": null,
      "outputs": []
    },
    {
      "cell_type": "code",
      "source": [
        "# Para ver todas las filas, pero seleccionar ciertas columnas\n",
        "# Opción 1\n",
        "df.loc[:,['departamento_nom','edad','fecha_inicio_sintomas']]"
      ],
      "metadata": {
        "id": "sWFG84Qyo7mC"
      },
      "id": "sWFG84Qyo7mC",
      "execution_count": null,
      "outputs": []
    },
    {
      "cell_type": "code",
      "source": [
        "# Opción 2: solo seleccionar las columnas que quiero ver\n",
        "df[['departamento_nom','edad','fecha_inicio_sintomas']]"
      ],
      "metadata": {
        "id": "H22luPf9vxsL"
      },
      "id": "H22luPf9vxsL",
      "execution_count": null,
      "outputs": []
    },
    {
      "cell_type": "code",
      "source": [
        "# Puedo crear un nuevo dataframe con las columnas que necesito solamente\n",
        "df2 = df[['departamento_nom','edad','fecha_inicio_sintomas']].copy()"
      ],
      "metadata": {
        "id": "eIXI8GWqweFm"
      },
      "id": "eIXI8GWqweFm",
      "execution_count": null,
      "outputs": []
    },
    {
      "cell_type": "code",
      "source": [
        "# Ver el nombre de todas las columnas\n",
        "df.columns"
      ],
      "metadata": {
        "id": "3YeeyCM8o-He"
      },
      "id": "3YeeyCM8o-He",
      "execution_count": null,
      "outputs": []
    },
    {
      "cell_type": "code",
      "source": [
        "df2.columns"
      ],
      "metadata": {
        "id": "BDM4DkDfwsas"
      },
      "id": "BDM4DkDfwsas",
      "execution_count": null,
      "outputs": []
    },
    {
      "cell_type": "code",
      "source": [
        "# Ver los tipos de datos de cada columna\n",
        "df2.dtypes"
      ],
      "metadata": {
        "id": "xfwBemHqpBFR"
      },
      "id": "xfwBemHqpBFR",
      "execution_count": null,
      "outputs": []
    },
    {
      "cell_type": "code",
      "source": [
        "# Ver la cantidad de filas del df\n",
        "len(df2)"
      ],
      "metadata": {
        "id": "PBkXx5_WpCuT"
      },
      "id": "PBkXx5_WpCuT",
      "execution_count": null,
      "outputs": []
    },
    {
      "cell_type": "code",
      "source": [
        "# Ver la cantidad de filas y columnas del df\n",
        "df2.shape"
      ],
      "metadata": {
        "id": "nHHEijkPpD_h"
      },
      "id": "nHHEijkPpD_h",
      "execution_count": null,
      "outputs": []
    },
    {
      "cell_type": "code",
      "source": [
        "# Ver la cantidad de filas y columnas, el nombre todas las columnas, el tipo de datos y si tiene nulos\n",
        "df2.info()"
      ],
      "metadata": {
        "id": "N0sDXDPao_h3"
      },
      "id": "N0sDXDPao_h3",
      "execution_count": null,
      "outputs": []
    },
    {
      "cell_type": "markdown",
      "source": [
        "## Unión de varios archivos"
      ],
      "metadata": {
        "id": "MVyiVH7WpTsc"
      },
      "id": "MVyiVH7WpTsc"
    },
    {
      "cell_type": "markdown",
      "source": [
        "### Merge (fusionar)"
      ],
      "metadata": {
        "id": "qfPbXta5qrje"
      },
      "id": "qfPbXta5qrje"
    },
    {
      "cell_type": "markdown",
      "source": [
        "Une dos tablas (DataFrames) usando una o más columnas en común (claves o keys)."
      ],
      "metadata": {
        "id": "AN0GvWhhq-YL"
      },
      "id": "AN0GvWhhq-YL"
    },
    {
      "cell_type": "markdown",
      "source": [
        "A la base de Supersociedades, le vamos a agregar una columna de macrorregiones, según el departamento donde se encuentre ubicada la empresa."
      ],
      "metadata": {
        "id": "ulMrSgRvzj-p"
      },
      "id": "ulMrSgRvzj-p"
    },
    {
      "cell_type": "code",
      "source": [
        "df_ssc.head(3)"
      ],
      "metadata": {
        "id": "IQyYcGnOzdop"
      },
      "id": "IQyYcGnOzdop",
      "execution_count": null,
      "outputs": []
    },
    {
      "cell_type": "code",
      "source": [
        "df_macro_reg = pd.read_excel('2025-05-05 Macrorregiones.xlsx', dtype=str)\n",
        "df_macro_reg.head()"
      ],
      "metadata": {
        "id": "NerFUv7Mz2kY"
      },
      "id": "NerFUv7Mz2kY",
      "execution_count": null,
      "outputs": []
    },
    {
      "cell_type": "code",
      "source": [
        "df_ssc = pd.merge(df_ssc, df_macro_reg[['Código', 'Macrorregión']], how='left', left_on='CODIGO_DEPARTAMENTO', right_on='Código')\n",
        "df_ssc.head(3)"
      ],
      "metadata": {
        "id": "YHMhPrT4pUIN"
      },
      "id": "YHMhPrT4pUIN",
      "execution_count": null,
      "outputs": []
    },
    {
      "cell_type": "markdown",
      "source": [
        "Borrar la columna \"Código\""
      ],
      "metadata": {
        "id": "HkJHMKpo0xiv"
      },
      "id": "HkJHMKpo0xiv"
    },
    {
      "cell_type": "code",
      "source": [
        "df_ssc.drop(columns='Código', inplace=True)\n",
        "df_ssc.head(3)"
      ],
      "metadata": {
        "id": "3-xQE4F701eg"
      },
      "id": "3-xQE4F701eg",
      "execution_count": null,
      "outputs": []
    },
    {
      "cell_type": "markdown",
      "source": [
        "### Concatenar"
      ],
      "metadata": {
        "id": "RiQw8sR9rPi0"
      },
      "id": "RiQw8sR9rPi0"
    },
    {
      "cell_type": "markdown",
      "source": [
        "\n",
        "Sirve para apilar DataFrames.\n",
        "\n",
        "No usa claves, sino que los pega uno debajo de otro (vertical) o uno al lado del otro (horizontal).\n",
        "\n"
      ],
      "metadata": {
        "id": "2bOl4etAqPz6"
      },
      "id": "2bOl4etAqPz6"
    },
    {
      "cell_type": "code",
      "source": [
        "df_expo_jul = pd.read_excel('expo_bienes_2024/07_Exportaciones_2024_Julio.xlsx')\n",
        "df_expo_jul.head(3)"
      ],
      "metadata": {
        "id": "na7mak2I1N_O"
      },
      "id": "na7mak2I1N_O",
      "execution_count": null,
      "outputs": []
    },
    {
      "cell_type": "code",
      "source": [
        "df_expo_ago = pd.read_excel('expo_bienes_2024/08_Exportaciones_2024_Agosto.xlsx')\n",
        "df_expo_ago.head(3)"
      ],
      "metadata": {
        "id": "itLF3cN23Ge9"
      },
      "id": "itLF3cN23Ge9",
      "execution_count": null,
      "outputs": []
    },
    {
      "cell_type": "code",
      "source": [
        "df_expo_jul.shape"
      ],
      "metadata": {
        "id": "3Yuk7ht93RGl"
      },
      "id": "3Yuk7ht93RGl",
      "execution_count": null,
      "outputs": []
    },
    {
      "cell_type": "code",
      "source": [
        "df_expo_ago.shape"
      ],
      "metadata": {
        "id": "Tf9ZwzIp3U0w"
      },
      "id": "Tf9ZwzIp3U0w",
      "execution_count": null,
      "outputs": []
    },
    {
      "cell_type": "code",
      "source": [
        "# Para concatenar un dataframe debajo del otro\n",
        "df_expo_2024 = pd.concat([df_expo_jul, df_expo_ago], axis = 0, ignore_index=True)\n",
        "df_expo_2024.head(3)"
      ],
      "metadata": {
        "id": "_ofq6YMgpXS9"
      },
      "id": "_ofq6YMgpXS9",
      "execution_count": null,
      "outputs": []
    },
    {
      "cell_type": "code",
      "source": [
        "df_expo_2024.tail(3)"
      ],
      "metadata": {
        "id": "l8XUAINp78_I"
      },
      "id": "l8XUAINp78_I",
      "execution_count": null,
      "outputs": []
    },
    {
      "cell_type": "code",
      "source": [
        "df_expo_2024.shape"
      ],
      "metadata": {
        "id": "Pgko95VE3qxG"
      },
      "id": "Pgko95VE3qxG",
      "execution_count": null,
      "outputs": []
    },
    {
      "cell_type": "code",
      "source": [
        "# Para concatenar un dataframe al lado del otro\n",
        "df_expo_2024_hor = pd.concat([df_expo_jul, df_expo_ago], axis = 1)\n",
        "df_expo_2024_hor.head(3)"
      ],
      "metadata": {
        "id": "wTqU5fDo3yLX"
      },
      "id": "wTqU5fDo3yLX",
      "execution_count": null,
      "outputs": []
    },
    {
      "cell_type": "code",
      "source": [
        "df_expo_2024_hor.shape"
      ],
      "metadata": {
        "id": "Jlrctlof4Ae8"
      },
      "id": "Jlrctlof4Ae8",
      "execution_count": null,
      "outputs": []
    },
    {
      "cell_type": "code",
      "source": [
        "df_expo_2024_hor.tail(3)"
      ],
      "metadata": {
        "id": "gJIndNik4F0o"
      },
      "id": "gJIndNik4F0o",
      "execution_count": null,
      "outputs": []
    },
    {
      "cell_type": "markdown",
      "source": [
        "## Casos especiales"
      ],
      "metadata": {
        "id": "gB88oreCoKBt"
      },
      "id": "gB88oreCoKBt"
    },
    {
      "cell_type": "markdown",
      "source": [
        "### Llamar todos los archivos dentro de una carpeta y concatenarlos"
      ],
      "metadata": {
        "id": "hRXTaIbDoOFj"
      },
      "id": "hRXTaIbDoOFj"
    },
    {
      "cell_type": "code",
      "source": [
        "import glob"
      ],
      "metadata": {
        "id": "jnHsfTtj4YTY"
      },
      "id": "jnHsfTtj4YTY",
      "execution_count": null,
      "outputs": []
    },
    {
      "cell_type": "markdown",
      "source": [
        "La librería glob se usa para buscar y listar archivos en carpetas que cumplen un patrón en su nombre (comodines como *, ?). Es muy útil cuando tienes muchos archivos CSV, Excel, TXT, etc. en una carpeta y quieres procesarlos en un solo paso."
      ],
      "metadata": {
        "id": "DhYDIRBOBEss"
      },
      "id": "DhYDIRBOBEss"
    },
    {
      "cell_type": "code",
      "source": [
        "# Buscar todos los archivos Excel en la carpeta\n",
        "fn = glob.glob('expo_bienes_2024/*.xlsx')\n",
        "\n",
        "# Lista para guardar DataFrames temporales\n",
        "lista_dfs = []\n",
        "\n",
        "for f in fn:\n",
        "    try:\n",
        "        temp = pd.read_excel(f)\n",
        "        lista_dfs.append(temp)\n",
        "\n",
        "        # Verificar columnas\n",
        "        if len(temp.columns) > 72:\n",
        "            print(f, len(temp.columns))\n",
        "\n",
        "    except Exception as e:\n",
        "        print(f\"Error leyendo {f}: {e}\")\n",
        "\n",
        "# Concatenar todos los DataFrames en uno solo\n",
        "df_expo = pd.concat(lista_dfs, ignore_index=True)"
      ],
      "metadata": {
        "id": "Hovx1suQowfO"
      },
      "execution_count": null,
      "outputs": [],
      "id": "Hovx1suQowfO"
    },
    {
      "cell_type": "markdown",
      "source": [
        "### Cargar una base muy pesada (varias gigas) por chunks"
      ],
      "metadata": {
        "id": "HVfwmIZYobm5"
      },
      "id": "HVfwmIZYobm5"
    },
    {
      "cell_type": "code",
      "source": [
        "df_ssc.shape"
      ],
      "metadata": {
        "id": "Jy22O1sW63HC"
      },
      "id": "Jy22O1sW63HC",
      "execution_count": null,
      "outputs": []
    },
    {
      "cell_type": "code",
      "source": [
        "df_chunk = pd.read_csv('Supersociedades_2023.csv', encoding ='utf-8', chunksize=1000)\n",
        "chunk_list = []\n",
        "for chunk in df_chunk:\n",
        "    chunk_reducido = chunk[['NIT', 'RAZON_SOCIAL', 'DEPARTAMENTO', 'MUNICIPIO',\n",
        "                            'CIIU', 'DESCRIPCION_CIIU']]\n",
        "\n",
        "    # Añadir los datos a la lista de objetos\n",
        "    chunk_list.append(chunk_reducido)\n",
        "\n",
        "# Concatenar los datos filtrados en un DataFrame\n",
        "df_ssc_reducido = pd.concat(chunk_list)\n",
        "df_ssc_reducido.head()"
      ],
      "metadata": {
        "id": "TxvG5GUbojqy"
      },
      "id": "TxvG5GUbojqy",
      "execution_count": null,
      "outputs": []
    },
    {
      "cell_type": "code",
      "source": [
        "df_ssc_reducido.shape"
      ],
      "metadata": {
        "id": "Ga-ypaYl67mL"
      },
      "id": "Ga-ypaYl67mL",
      "execution_count": null,
      "outputs": []
    },
    {
      "cell_type": "markdown",
      "id": "0c4a080e",
      "metadata": {
        "id": "0c4a080e"
      },
      "source": [
        "## Guardar / exportar datos"
      ]
    },
    {
      "cell_type": "code",
      "source": [
        "# Guardar CSV\n",
        "df_ssc_reducido.to_csv('Supersociedades_2023_reducido.csv', encoding ='utf-8', index = False)"
      ],
      "metadata": {
        "id": "VBbvPxuxLPdi"
      },
      "id": "VBbvPxuxLPdi",
      "execution_count": null,
      "outputs": []
    },
    {
      "cell_type": "code",
      "source": [
        "# Guardar txt\n",
        "df_ssc_reducido.to_csv('Supersociedades_2023_reducido.txt', sep=\"|\", decimal=',', encoding ='utf-8', index= False)"
      ],
      "metadata": {
        "id": "CSDabu6Pr9Ya"
      },
      "id": "CSDabu6Pr9Ya",
      "execution_count": null,
      "outputs": []
    },
    {
      "cell_type": "code",
      "execution_count": null,
      "id": "970a93c2",
      "metadata": {
        "id": "970a93c2"
      },
      "outputs": [],
      "source": [
        "# Guardar Excel\n",
        "df_ssc_reducido.to_excel(\"Supersociedades_2023_reducido.xlsx\", index=False)"
      ]
    },
    {
      "cell_type": "code",
      "source": [
        "# Guardar más de un dataframe en Excel\n",
        "with pd.ExcelWriter('Ejemplo.xlsx') as writer:\n",
        "    df_ssc_reducido.to_excel(writer, sheet_name='SSC', index=False)\n",
        "    df_url.to_excel(writer, sheet_name='Iris', index=False)"
      ],
      "metadata": {
        "id": "xwJmfHS6sH1z"
      },
      "id": "xwJmfHS6sH1z",
      "execution_count": null,
      "outputs": []
    },
    {
      "cell_type": "code",
      "source": [
        "# Guardar un dataframe en un Excel que ya existe como una hoja adicional (mode='a)\n",
        "# Si la hoja ya existe, la reemplaza\n",
        "with pd.ExcelWriter('Ejemplo.xlsx', mode='a', engine='openpyxl', if_sheet_exists='replace') as writer:\n",
        "    df_expo_2024.to_excel(writer, sheet_name='Expo', index = False)"
      ],
      "metadata": {
        "id": "k7HYXpSZsIP-"
      },
      "id": "k7HYXpSZsIP-",
      "execution_count": null,
      "outputs": []
    }
  ],
  "metadata": {
    "language_info": {
      "name": "python"
    },
    "colab": {
      "provenance": []
    },
    "kernelspec": {
      "name": "python3",
      "display_name": "Python 3"
    }
  },
  "nbformat": 4,
  "nbformat_minor": 5
}