{
  "cells": [
    {
      "cell_type": "markdown",
      "metadata": {
        "id": "kd-dVAbJ8uyo"
      },
      "source": [
        "<a href=\"https://colab.research.google.com/github/LinaMariaCastro/curso-ia-para-economia/blob/main/clases/3_Analisis_y_visualizacion_datos/3_Preparacion_y_Limpieza_Datos.ipynb\" target=\"_parent\"><img src=\"https://colab.research.google.com/assets/colab-badge.svg\" alt=\"Open In Colab\"/></a>"
      ]
    },
    {
      "cell_type": "markdown",
      "metadata": {
        "id": "UxY55o_PQ7jE"
      },
      "source": [
        "# **Inteligencia Artificial con Aplicaciones en Economía I**\n",
        "\n",
        "- 👩‍🏫 **Profesora:** [Lina María Castro](https://www.linkedin.com/in/lina-maria-castro)  \n",
        "- 📧 **Email:** [lmcastroco@gmail.com](mailto:lmcastroco@gmail.com)  \n",
        "- 🎓 **Universidad:** Universidad Externado de Colombia - Facultad de Economía"
      ]
    },
    {
      "cell_type": "markdown",
      "metadata": {
        "id": "fgMCFLbQBIu0"
      },
      "source": [
        "# 🧹**Métodos de preparación y limpieza de datos**"
      ]
    },
    {
      "cell_type": "markdown",
      "metadata": {
        "id": "SeLwPfkfXMBs"
      },
      "source": [
        "👉 Luego de cargar nuestro dataset, el primer paso es limpiar los datos, para que podamos confiar en ellos. Aunque puede llegar a ser un proceso tedioso, es una parte **crítica** para lograr hacer un correcto y adecuado análisis de los datos.\n",
        "\n",
        "✅ Resultado: un dataset limpio, coherente y confiable."
      ]
    },
    {
      "cell_type": "markdown",
      "metadata": {
        "id": "002f12a4"
      },
      "source": [
        "**Objetivos de Aprendizaje**\n",
        "\n",
        "Al finalizar este notebook, serás capaz de:\n",
        "\n",
        "1. **Identificar y manejar distintos tipos de problemas** en conjuntos de datos  como duplicados, valores faltantes, tipos de datos incorrectos e inconsistencias de formato.\n",
        "2. **Aplicar técnicas de limpieza para transformar datos crudos** en un formato listo para el análisis, utilizando Pandas.\n",
        "3. **Comprender las implicaciones económicas y los sesgos** que pueden surgir de una limpieza de datos deficiente o de decisiones de limpieza sesgadas.\n",
        "4. **Aplicar buenas prácticas** en proyectos de análisis económico y ciencia de datos."
      ]
    },
    {
      "cell_type": "markdown",
      "metadata": {
        "id": "CyC5T3ZDiL_t"
      },
      "source": [
        "Imagina que eres un economista del Banco de la República encargado de analizar la inflación en diferentes regiones del país. Recibes un conjunto de datos con precios de productos, pero al revisarlos, notas que algunas entradas tienen precios en diferentes monedas, otras tienen símbolos de moneda ($) que impiden hacer cálculos, y algunas filas están duplicadas o contienen errores evidentes.\n",
        "\n",
        "Si intentaras calcular la inflación con estos datos sucios, tu resultado sería incorrecto e inútil para la política monetaria. **La limpieza de datos es el proceso de convertir esta \"materia prima\" defectuosa en un insumo de calidad para que tus modelos económicos y de machine learning sean fiables.** Es similar a la inspección de calidad que se realiza en una fábrica: antes de usar cualquier componente, debes asegurarte de que está en perfectas condiciones."
      ]
    },
    {
      "cell_type": "markdown",
      "metadata": {
        "id": "2T-ohW51wS74"
      },
      "source": [
        "**Datos crudos Vs Procesados**\n",
        "\n",
        "![Datos crudos Vs Procesados](https://drive.google.com/uc?id=11i1KhvpeDKMjcxL9rUX7W4pVcjXzz04w)"
      ]
    },
    {
      "cell_type": "markdown",
      "metadata": {
        "id": "zgWgTivFCUBe"
      },
      "source": [
        "**Actividad de discusión rápida:** ¿Qué problemas de datos han visto en Excel o en reportes de su carrera?"
      ]
    },
    {
      "cell_type": "markdown",
      "metadata": {
        "id": "ArbkQWmDbVZC"
      },
      "source": [
        "---"
      ]
    },
    {
      "cell_type": "markdown",
      "metadata": {
        "id": "CvffQiPyDLJG"
      },
      "source": [
        "## Importar librerías"
      ]
    },
    {
      "cell_type": "code",
      "execution_count": null,
      "metadata": {
        "id": "YFPOnxMFDBFP"
      },
      "outputs": [],
      "source": [
        "import os\n",
        "import numpy as np\n",
        "import pandas as pd\n",
        "import warnings\n",
        "warnings.filterwarnings('ignore')"
      ]
    },
    {
      "cell_type": "markdown",
      "metadata": {
        "id": "jHE2ZLJuEPIe"
      },
      "source": [
        "## Mejorar visualización de los dataframes"
      ]
    },
    {
      "cell_type": "code",
      "execution_count": null,
      "metadata": {
        "id": "72TA8V1fETCm"
      },
      "outputs": [],
      "source": [
        "# Que muestre todas las columnas\n",
        "pd.options.display.max_columns = None\n",
        "# En los dataframes, mostrar los float con dos decimales\n",
        "pd.options.display.float_format = '{:,.2f}'.format"
      ]
    },
    {
      "cell_type": "markdown",
      "metadata": {
        "id": "ZZDidlYvVBQk"
      },
      "source": [
        "## Establecer la ruta de los datasets"
      ]
    },
    {
      "cell_type": "code",
      "execution_count": 9,
      "metadata": {
        "colab": {
          "base_uri": "https://localhost:8080/",
          "height": 304
        },
        "id": "KYRaLbXlMc_c",
        "outputId": "642eaebc-52b6-4d9c-8eba-e5a3266446c0"
      },
      "outputs": [
        {
          "output_type": "error",
          "ename": "MessageError",
          "evalue": "Error: credential propagation was unsuccessful",
          "traceback": [
            "\u001b[0;31m---------------------------------------------------------------------------\u001b[0m",
            "\u001b[0;31mMessageError\u001b[0m                              Traceback (most recent call last)",
            "\u001b[0;32m/tmp/ipython-input-3178665966.py\u001b[0m in \u001b[0;36m<cell line: 0>\u001b[0;34m()\u001b[0m\n\u001b[1;32m      1\u001b[0m \u001b[0;32mfrom\u001b[0m \u001b[0mgoogle\u001b[0m\u001b[0;34m.\u001b[0m\u001b[0mcolab\u001b[0m \u001b[0;32mimport\u001b[0m \u001b[0mdrive\u001b[0m\u001b[0;34m,\u001b[0m \u001b[0mfiles\u001b[0m\u001b[0;34m\u001b[0m\u001b[0;34m\u001b[0m\u001b[0m\n\u001b[0;32m----> 2\u001b[0;31m \u001b[0mdrive\u001b[0m\u001b[0;34m.\u001b[0m\u001b[0mmount\u001b[0m\u001b[0;34m(\u001b[0m\u001b[0;34m'/content/drive'\u001b[0m\u001b[0;34m)\u001b[0m\u001b[0;34m\u001b[0m\u001b[0;34m\u001b[0m\u001b[0m\n\u001b[0m",
            "\u001b[0;32m/usr/local/lib/python3.12/dist-packages/google/colab/drive.py\u001b[0m in \u001b[0;36mmount\u001b[0;34m(mountpoint, force_remount, timeout_ms, readonly)\u001b[0m\n\u001b[1;32m     95\u001b[0m \u001b[0;32mdef\u001b[0m \u001b[0mmount\u001b[0m\u001b[0;34m(\u001b[0m\u001b[0mmountpoint\u001b[0m\u001b[0;34m,\u001b[0m \u001b[0mforce_remount\u001b[0m\u001b[0;34m=\u001b[0m\u001b[0;32mFalse\u001b[0m\u001b[0;34m,\u001b[0m \u001b[0mtimeout_ms\u001b[0m\u001b[0;34m=\u001b[0m\u001b[0;36m120000\u001b[0m\u001b[0;34m,\u001b[0m \u001b[0mreadonly\u001b[0m\u001b[0;34m=\u001b[0m\u001b[0;32mFalse\u001b[0m\u001b[0;34m)\u001b[0m\u001b[0;34m:\u001b[0m\u001b[0;34m\u001b[0m\u001b[0;34m\u001b[0m\u001b[0m\n\u001b[1;32m     96\u001b[0m   \u001b[0;34m\"\"\"Mount your Google Drive at the specified mountpoint path.\"\"\"\u001b[0m\u001b[0;34m\u001b[0m\u001b[0;34m\u001b[0m\u001b[0m\n\u001b[0;32m---> 97\u001b[0;31m   return _mount(\n\u001b[0m\u001b[1;32m     98\u001b[0m       \u001b[0mmountpoint\u001b[0m\u001b[0;34m,\u001b[0m\u001b[0;34m\u001b[0m\u001b[0;34m\u001b[0m\u001b[0m\n\u001b[1;32m     99\u001b[0m       \u001b[0mforce_remount\u001b[0m\u001b[0;34m=\u001b[0m\u001b[0mforce_remount\u001b[0m\u001b[0;34m,\u001b[0m\u001b[0;34m\u001b[0m\u001b[0;34m\u001b[0m\u001b[0m\n",
            "\u001b[0;32m/usr/local/lib/python3.12/dist-packages/google/colab/drive.py\u001b[0m in \u001b[0;36m_mount\u001b[0;34m(mountpoint, force_remount, timeout_ms, ephemeral, readonly)\u001b[0m\n\u001b[1;32m    132\u001b[0m   )\n\u001b[1;32m    133\u001b[0m   \u001b[0;32mif\u001b[0m \u001b[0mephemeral\u001b[0m\u001b[0;34m:\u001b[0m\u001b[0;34m\u001b[0m\u001b[0;34m\u001b[0m\u001b[0m\n\u001b[0;32m--> 134\u001b[0;31m     _message.blocking_request(\n\u001b[0m\u001b[1;32m    135\u001b[0m         \u001b[0;34m'request_auth'\u001b[0m\u001b[0;34m,\u001b[0m\u001b[0;34m\u001b[0m\u001b[0;34m\u001b[0m\u001b[0m\n\u001b[1;32m    136\u001b[0m         \u001b[0mrequest\u001b[0m\u001b[0;34m=\u001b[0m\u001b[0;34m{\u001b[0m\u001b[0;34m'authType'\u001b[0m\u001b[0;34m:\u001b[0m \u001b[0;34m'dfs_ephemeral'\u001b[0m\u001b[0;34m}\u001b[0m\u001b[0;34m,\u001b[0m\u001b[0;34m\u001b[0m\u001b[0;34m\u001b[0m\u001b[0m\n",
            "\u001b[0;32m/usr/local/lib/python3.12/dist-packages/google/colab/_message.py\u001b[0m in \u001b[0;36mblocking_request\u001b[0;34m(request_type, request, timeout_sec, parent)\u001b[0m\n\u001b[1;32m    174\u001b[0m       \u001b[0mrequest_type\u001b[0m\u001b[0;34m,\u001b[0m \u001b[0mrequest\u001b[0m\u001b[0;34m,\u001b[0m \u001b[0mparent\u001b[0m\u001b[0;34m=\u001b[0m\u001b[0mparent\u001b[0m\u001b[0;34m,\u001b[0m \u001b[0mexpect_reply\u001b[0m\u001b[0;34m=\u001b[0m\u001b[0;32mTrue\u001b[0m\u001b[0;34m\u001b[0m\u001b[0;34m\u001b[0m\u001b[0m\n\u001b[1;32m    175\u001b[0m   )\n\u001b[0;32m--> 176\u001b[0;31m   \u001b[0;32mreturn\u001b[0m \u001b[0mread_reply_from_input\u001b[0m\u001b[0;34m(\u001b[0m\u001b[0mrequest_id\u001b[0m\u001b[0;34m,\u001b[0m \u001b[0mtimeout_sec\u001b[0m\u001b[0;34m)\u001b[0m\u001b[0;34m\u001b[0m\u001b[0;34m\u001b[0m\u001b[0m\n\u001b[0m",
            "\u001b[0;32m/usr/local/lib/python3.12/dist-packages/google/colab/_message.py\u001b[0m in \u001b[0;36mread_reply_from_input\u001b[0;34m(message_id, timeout_sec)\u001b[0m\n\u001b[1;32m    101\u001b[0m     ):\n\u001b[1;32m    102\u001b[0m       \u001b[0;32mif\u001b[0m \u001b[0;34m'error'\u001b[0m \u001b[0;32min\u001b[0m \u001b[0mreply\u001b[0m\u001b[0;34m:\u001b[0m\u001b[0;34m\u001b[0m\u001b[0;34m\u001b[0m\u001b[0m\n\u001b[0;32m--> 103\u001b[0;31m         \u001b[0;32mraise\u001b[0m \u001b[0mMessageError\u001b[0m\u001b[0;34m(\u001b[0m\u001b[0mreply\u001b[0m\u001b[0;34m[\u001b[0m\u001b[0;34m'error'\u001b[0m\u001b[0;34m]\u001b[0m\u001b[0;34m)\u001b[0m\u001b[0;34m\u001b[0m\u001b[0;34m\u001b[0m\u001b[0m\n\u001b[0m\u001b[1;32m    104\u001b[0m       \u001b[0;32mreturn\u001b[0m \u001b[0mreply\u001b[0m\u001b[0;34m.\u001b[0m\u001b[0mget\u001b[0m\u001b[0;34m(\u001b[0m\u001b[0;34m'data'\u001b[0m\u001b[0;34m,\u001b[0m \u001b[0;32mNone\u001b[0m\u001b[0;34m)\u001b[0m\u001b[0;34m\u001b[0m\u001b[0;34m\u001b[0m\u001b[0m\n\u001b[1;32m    105\u001b[0m \u001b[0;34m\u001b[0m\u001b[0m\n",
            "\u001b[0;31mMessageError\u001b[0m: Error: credential propagation was unsuccessful"
          ]
        }
      ],
      "source": [
        "from google.colab import drive, files\n",
        "drive.mount('/content/drive')"
      ]
    },
    {
      "cell_type": "code",
      "execution_count": null,
      "metadata": {
        "id": "dQSa_neuGLji"
      },
      "outputs": [],
      "source": [
        "path = '/content/drive/MyDrive/2025_ii_curso_ia_economia/datasets'"
      ]
    },
    {
      "cell_type": "code",
      "execution_count": null,
      "metadata": {
        "id": "cka8EDXhQuee"
      },
      "outputs": [],
      "source": [
        "# Para establecer el directorio de los archivos\n",
        "os.chdir(path)"
      ]
    },
    {
      "cell_type": "markdown",
      "metadata": {
        "id": "NE1KRuONbSAY"
      },
      "source": [
        "---"
      ]
    },
    {
      "cell_type": "markdown",
      "metadata": {
        "id": "WcvoOWeMMju1"
      },
      "source": [
        "**NOTA:** CONTROL+K+C COMENTA Y DESCOMENTA CTRL+K+U"
      ]
    },
    {
      "cell_type": "markdown",
      "metadata": {
        "id": "DssR8AuKAz6b"
      },
      "source": [
        "---"
      ]
    },
    {
      "cell_type": "markdown",
      "metadata": {
        "id": "PZQWax9c4Xot"
      },
      "source": [
        "Como ejemplo, vamos a trabajar con un conjunto de datos de la UNCTAD, el cual trae información de los flujos de inversión extranjera directa en el mundo desde 1970 hasta 2021. Este set de datos ha sido modificado con fines educativos."
      ]
    },
    {
      "cell_type": "markdown",
      "metadata": {
        "id": "SMx0i2r4j1mN"
      },
      "source": [
        "## Cargar el dataset"
      ]
    },
    {
      "cell_type": "code",
      "execution_count": null,
      "metadata": {
        "id": "KeNpq4ZopTkr"
      },
      "outputs": [],
      "source": [
        "df = pd.read_excel('UNCTAD_2021-FDI.xlsx', skiprows=4)"
      ]
    },
    {
      "cell_type": "markdown",
      "metadata": {
        "id": "MaEILKvJD_lk"
      },
      "source": [
        "## Exploración inicial del dataset"
      ]
    },
    {
      "cell_type": "code",
      "execution_count": null,
      "metadata": {
        "id": "bQ-n1sUS6guW"
      },
      "outputs": [],
      "source": [
        "df"
      ]
    },
    {
      "cell_type": "code",
      "execution_count": null,
      "metadata": {
        "id": "K4aFkzQzuIxe"
      },
      "outputs": [],
      "source": [
        "df.shape"
      ]
    },
    {
      "cell_type": "code",
      "execution_count": null,
      "metadata": {
        "id": "rjLmhgA5rOXX"
      },
      "outputs": [],
      "source": [
        "df.info()"
      ]
    },
    {
      "cell_type": "markdown",
      "metadata": {
        "id": "WZxtiX7DMjvd"
      },
      "source": [
        "## Eliminar la primera fila"
      ]
    },
    {
      "cell_type": "code",
      "execution_count": null,
      "metadata": {
        "id": "oo6nPY_BMjvd"
      },
      "outputs": [],
      "source": [
        "df.drop(index=0, inplace=True)\n",
        "df.head()"
      ]
    },
    {
      "cell_type": "markdown",
      "metadata": {
        "id": "Xz2mOJiTGOTf"
      },
      "source": [
        "## Reiniciar índice para mantener el orden"
      ]
    },
    {
      "cell_type": "code",
      "execution_count": null,
      "metadata": {
        "id": "i9ikfiCFMjvW"
      },
      "outputs": [],
      "source": [
        "df.reset_index(inplace=True,drop=True)\n",
        "df.head()"
      ]
    },
    {
      "cell_type": "markdown",
      "metadata": {
        "id": "rOjGltDL2aHC"
      },
      "source": [
        "## Ejercicio: Convertir el valor de la inversión de object a float"
      ]
    },
    {
      "cell_type": "code",
      "execution_count": null,
      "metadata": {
        "id": "pi7jqRck3Lqp"
      },
      "outputs": [],
      "source": []
    },
    {
      "cell_type": "markdown",
      "metadata": {
        "id": "dzm6yYXhBsv0"
      },
      "source": [
        "Se logró convertir los datos a números! Ya se pueden realizar operaciones con estos."
      ]
    },
    {
      "cell_type": "code",
      "execution_count": null,
      "metadata": {
        "id": "DhRxtINECN-1"
      },
      "outputs": [],
      "source": [
        "df['2020'].mean()"
      ]
    },
    {
      "cell_type": "code",
      "execution_count": null,
      "metadata": {
        "id": "apkonG8vCWL_"
      },
      "outputs": [],
      "source": [
        "df['2020'].describe()"
      ]
    },
    {
      "cell_type": "code",
      "execution_count": null,
      "metadata": {
        "id": "TWcwtXuWCZbX"
      },
      "outputs": [],
      "source": [
        "df.describe()"
      ]
    },
    {
      "cell_type": "markdown",
      "metadata": {
        "id": "Tfcy-DtIMjvR"
      },
      "source": [
        "## Redondear las cifras de inversión a un decimal"
      ]
    },
    {
      "cell_type": "code",
      "execution_count": null,
      "metadata": {
        "id": "HPPeH3MfcEH8"
      },
      "outputs": [],
      "source": [
        "# Redondear el valor de una columna a 1 decimal\n",
        "df['1970'] = df['1970'].round(1)\n",
        "df.head()"
      ]
    },
    {
      "cell_type": "code",
      "execution_count": null,
      "metadata": {
        "id": "RaWdA00yMjvS"
      },
      "outputs": [],
      "source": [
        "# Redondear el valor de todas las columnas del dataframe a 1 decimal\n",
        "df = df.round(1)\n",
        "df.head(3)\n"
      ]
    },
    {
      "cell_type": "markdown",
      "metadata": {
        "id": "dJJSmyB1Mjve"
      },
      "source": [
        "## Eliminar columnas innecesarias"
      ]
    },
    {
      "cell_type": "markdown",
      "metadata": {
        "id": "pg1gIwGmCavn"
      },
      "source": [
        "### Opción 1"
      ]
    },
    {
      "cell_type": "code",
      "execution_count": null,
      "metadata": {
        "id": "yN0CYCvPMjve"
      },
      "outputs": [],
      "source": [
        "# Vamos a dejar la información solo hasta 2020\n",
        "df.drop(columns=['2021'], inplace=True)\n",
        "df.head(3)"
      ]
    },
    {
      "cell_type": "markdown",
      "metadata": {
        "id": "sfPbpmEpBjjN"
      },
      "source": [
        "### Opción 2"
      ]
    },
    {
      "cell_type": "code",
      "execution_count": null,
      "metadata": {
        "id": "bVNDe_75BGSW"
      },
      "outputs": [],
      "source": [
        "# Vamos a dejar solo los años de 1980 en adelante\n",
        "borrar = ['1970', '1971', '1972', '1973', '1974', '1975', '1976', '1977',\n",
        "       '1978', '1979']\n",
        "df=df.drop(columns=borrar)\n",
        "df.head(3)"
      ]
    },
    {
      "cell_type": "markdown",
      "metadata": {
        "id": "yxupW2GoCqk7"
      },
      "source": [
        "### Opción 3"
      ]
    },
    {
      "cell_type": "code",
      "execution_count": null,
      "metadata": {
        "id": "mBHozUZrMjve"
      },
      "outputs": [],
      "source": [
        "# En este caso voy a dejar los datos solo desde el año 2000 en adelante\n",
        "df = df[['YEAR', '2000', '2001', '2002', '2003', '2004', '2005',\n",
        "       '2006', '2007', '2008', '2009', '2010', '2011', '2012', '2013', '2014',\n",
        "       '2015', '2016', '2017', '2018', '2019', '2020', 'DIRECTION',\n",
        "       'SUBMISSION_DATE', 'MEASURE', 'MODE']]\n",
        "df.head(2)"
      ]
    },
    {
      "cell_type": "markdown",
      "metadata": {
        "id": "0LAi0sxWMjvf"
      },
      "source": [
        "## Cambiar el nombre de una columna"
      ]
    },
    {
      "cell_type": "code",
      "execution_count": null,
      "metadata": {
        "id": "0JRhldEaMjvf"
      },
      "outputs": [],
      "source": [
        "# Vamos a renombrar la columna YEAR\n",
        "df.rename(columns={\"YEAR\": \"COUNTRY\"}, inplace=True)\n",
        "#df = df.rename(columns={\"YEAR\": \"COUNTRY\"})\n",
        "df.head(2)"
      ]
    },
    {
      "cell_type": "markdown",
      "metadata": {
        "id": "MDIlNQJWMjvf"
      },
      "source": [
        "## Reorganizar columnas"
      ]
    },
    {
      "cell_type": "code",
      "execution_count": null,
      "metadata": {
        "id": "1VZND_nuF4YX"
      },
      "outputs": [],
      "source": [
        "df.columns"
      ]
    },
    {
      "cell_type": "code",
      "execution_count": null,
      "metadata": {
        "id": "rjOluRBsMjvg"
      },
      "outputs": [],
      "source": [
        "# Colocar el nombre de las columnas en el orden que quiero que queden\n",
        "df = df[['COUNTRY', 'DIRECTION', 'SUBMISSION_DATE',\n",
        "       'MEASURE', 'MODE', '2000', '2001', '2002', '2003', '2004', '2005', '2006',\n",
        "       '2007', '2008', '2009', '2010', '2011', '2012', '2013', '2014', '2015',\n",
        "       '2016', '2017', '2018', '2019', '2020']]\n",
        "df.head(2)"
      ]
    },
    {
      "cell_type": "markdown",
      "metadata": {
        "id": "104zQqvQMjvV"
      },
      "source": [
        "## Procesamiento de Índices"
      ]
    },
    {
      "cell_type": "code",
      "execution_count": null,
      "metadata": {
        "id": "TM2UrvkSMjvV"
      },
      "outputs": [],
      "source": [
        "# Volver una columna el índice del df\n",
        "df = df.set_index('COUNTRY')\n",
        "df.head()"
      ]
    },
    {
      "cell_type": "code",
      "execution_count": null,
      "metadata": {
        "id": "qugZHn3oMjvV"
      },
      "outputs": [],
      "source": [
        "# Convertir en columna el índice del df\n",
        "df = df.reset_index()\n",
        "df.head()"
      ]
    },
    {
      "cell_type": "markdown",
      "metadata": {
        "id": "rfrnYvEF6AOh"
      },
      "source": [
        "## Revisar y ajustar las variables categóricas"
      ]
    },
    {
      "cell_type": "markdown",
      "metadata": {
        "id": "k8meFGIh7K0Y"
      },
      "source": [
        "### Direction"
      ]
    },
    {
      "cell_type": "code",
      "execution_count": null,
      "metadata": {
        "id": "Yfus_VFm4Bo9"
      },
      "outputs": [],
      "source": [
        "df['DIRECTION'].unique()"
      ]
    },
    {
      "cell_type": "code",
      "execution_count": null,
      "metadata": {
        "id": "WFYo3n_97NUs"
      },
      "outputs": [],
      "source": [
        "# Para borrar los espacios en blanco al principio y al final del string\n",
        "df['DIRECTION']=df['DIRECTION'].str.strip()\n",
        "df['DIRECTION'].unique()"
      ]
    },
    {
      "cell_type": "code",
      "execution_count": null,
      "metadata": {
        "id": "b_yY0-lM7lNl"
      },
      "outputs": [],
      "source": [
        "# Se quitan los ceros del principio del string\n",
        "df['DIRECTION'] = df['DIRECTION'].str.lstrip('00000')\n",
        "df['DIRECTION'].unique()"
      ]
    },
    {
      "cell_type": "code",
      "execution_count": null,
      "metadata": {
        "id": "H-0kYQGRLJG9"
      },
      "outputs": [],
      "source": [
        "df['DIRECTION'] = df['DIRECTION'].str.upper()\n",
        "df['DIRECTION'].unique()"
      ]
    },
    {
      "cell_type": "markdown",
      "metadata": {
        "id": "e2LIeMUQ72XF"
      },
      "source": [
        "### Measure"
      ]
    },
    {
      "cell_type": "code",
      "execution_count": null,
      "metadata": {
        "id": "LK1jl3jq7k3m"
      },
      "outputs": [],
      "source": [
        "df['MEASURE'].unique()"
      ]
    },
    {
      "cell_type": "code",
      "execution_count": null,
      "metadata": {
        "id": "St2X3ZC1Mjvg"
      },
      "outputs": [],
      "source": [
        "df['MEASURE'] = df['MEASURE'].replace({\"US dollars at current prices in milions\": \"US dollars at current prices in millions\"})\n",
        "df['MEASURE'].unique()"
      ]
    },
    {
      "cell_type": "code",
      "execution_count": null,
      "metadata": {
        "id": "Qnzco-VFKVzI"
      },
      "outputs": [],
      "source": [
        "df['MEASURE'] = df['MEASURE'].str.upper()\n",
        "df['MEASURE'].unique()"
      ]
    },
    {
      "cell_type": "code",
      "execution_count": null,
      "metadata": {
        "id": "QZgrNzMnLzkG"
      },
      "outputs": [],
      "source": [
        "# Dividir en dos partes el string\n",
        "df['CURRENCY'] = df['MEASURE'].str.split('AT',expand=True)[0]\n",
        "df['MEASURE_2'] = df['MEASURE'].str.split('AT',expand=True)[1]\n",
        "df.head(3)"
      ]
    },
    {
      "cell_type": "code",
      "execution_count": null,
      "metadata": {
        "id": "SDxoanGRYkPT"
      },
      "outputs": [],
      "source": [
        "df['PRICE_TYPE'] = df['MEASURE_2'].str.split('IN',expand=True)[0]\n",
        "df['UNIT'] = df['MEASURE_2'].str.split('IN',expand=True)[1]\n",
        "df.head(3)"
      ]
    },
    {
      "cell_type": "code",
      "execution_count": null,
      "metadata": {
        "id": "sUtHI7kWczw3"
      },
      "outputs": [],
      "source": [
        "df.columns"
      ]
    },
    {
      "cell_type": "code",
      "execution_count": null,
      "metadata": {
        "id": "w53PNEYMc2MJ"
      },
      "outputs": [],
      "source": [
        "# Eliminar 'MEASURE' y 'MEASURE_2' y reorganizar columnas\n",
        "df = df[['COUNTRY', 'MODE', 'DIRECTION', 'CURRENCY', 'UNIT', 'PRICE_TYPE', 'SUBMISSION_DATE', '2000',\n",
        "       '2001', '2002', '2003', '2004', '2005', '2006', '2007', '2008', '2009',\n",
        "       '2010', '2011', '2012', '2013', '2014', '2015', '2016', '2017', '2018',\n",
        "       '2019', '2020']]\n",
        "df.head(3)"
      ]
    },
    {
      "cell_type": "markdown",
      "metadata": {
        "id": "xMxsNN0a-crO"
      },
      "source": [
        "### Mode"
      ]
    },
    {
      "cell_type": "code",
      "execution_count": null,
      "metadata": {
        "id": "3DvIiPOr_yNm"
      },
      "outputs": [],
      "source": [
        "df['MODE'].unique()"
      ]
    },
    {
      "cell_type": "code",
      "execution_count": null,
      "metadata": {
        "id": "2Jp8PUuC_5kS"
      },
      "outputs": [],
      "source": [
        "# Se quitan las comillas del final del string\n",
        "df['MODE'] = df['MODE'].str.rstrip(\"'''\")\n",
        "df['MODE'].unique()"
      ]
    },
    {
      "cell_type": "code",
      "execution_count": null,
      "metadata": {
        "id": "41ez8EHJKKxw"
      },
      "outputs": [],
      "source": [
        "df['MODE'] = df['MODE'].str.upper()\n",
        "df['MODE'].unique()"
      ]
    },
    {
      "cell_type": "code",
      "execution_count": null,
      "metadata": {
        "id": "ThJK6PW2J9pr"
      },
      "outputs": [],
      "source": [
        "# Contar el número de caracteres\n",
        "df[\"num_caracteres\"] = df[\"MODE\"].str.len()\n",
        "df.head()"
      ]
    },
    {
      "cell_type": "code",
      "execution_count": null,
      "metadata": {
        "id": "hY4DnYIidsuI"
      },
      "outputs": [],
      "source": [
        "df[\"num_caracteres\"].unique()"
      ]
    },
    {
      "cell_type": "code",
      "execution_count": null,
      "metadata": {
        "id": "kO5GaHMSdx3s"
      },
      "outputs": [],
      "source": [
        "df.drop(columns=['num_caracteres'], inplace=True)"
      ]
    },
    {
      "cell_type": "markdown",
      "metadata": {
        "id": "ivithekT-jOO"
      },
      "source": [
        "## Convertir a tipo category"
      ]
    },
    {
      "cell_type": "markdown",
      "metadata": {
        "id": "6yZXSRW4DoYM"
      },
      "source": [
        "Convertir variables categóricas a tipo category en pandas es una muy buena práctica en ciencia de datos, y tiene varias ventajas importantes:\n",
        "- Una columna categórica se almacena como códigos numéricos internos en lugar de cadenas de texto repetidas. Esto reduce muchísimo el uso de memoria, sobre todo cuando tienes miles de filas con pocos valores distintos.\n",
        "- Operaciones como groupby(), value_counts(), merge() son más rápidas en columnas categóricas porque pandas trabaja con los códigos internos (números) en vez de cadenas de texto largas.\n",
        "- Preparación para Machine Learning: La mayoría de algoritmos no trabajan directamente con strings. Usar category es el primer paso para luego aplicar OneHotEncoding o LabelEncoding fácilmente.\n",
        "- Permite diferenciar variables que son realmente categóricas de las que son texto libre. Ejemplo: \"Bogotá\", \"Medellín\", \"Cali\" son categorías (ciudades), no simples cadenas de texto. En un directorio de empresas, la columna de razón social no sería categórica porque cada fila tiene un valor diferente."
      ]
    },
    {
      "cell_type": "code",
      "execution_count": null,
      "metadata": {
        "id": "xzmJlIQsMjvU"
      },
      "outputs": [],
      "source": [
        "categorias = ['DIRECTION', 'MODE', 'CURRENCY', 'PRICE_TYPE', 'UNIT']\n",
        "for categoria in categorias:\n",
        "  df[categoria] = df[categoria].astype('category')\n",
        "df.info()"
      ]
    },
    {
      "cell_type": "markdown",
      "metadata": {
        "id": "taewe0xb-vBm"
      },
      "source": [
        "## Revisar y ajustar las variables tipo fecha"
      ]
    },
    {
      "cell_type": "markdown",
      "metadata": {
        "id": "uo3jAwbGGCMM"
      },
      "source": [
        "Cambiar una columna de string, int o float a datetime tiene las siguientes ventajas:\n",
        "\n",
        "1. Permite aplicar operaciones de calendario como:\n",
        "- df[\"fecha\"].dt.year      # año\n",
        "- df[\"fecha\"].dt.month     # mes\n",
        "- df[\"fecha\"].dt.day       # día\n",
        "\n",
        "2. Permite comparaciones y filtros más fáciles. Ejemplo: seleccionar datos de 2023 en adelante.\n",
        "\n",
        "  df[df[\"fecha\"] >= \"2023-01-01\"]\n",
        "\n",
        "  Si fueran strings, hacer este filtro sería muy complicado y propenso a errores.\n",
        "\n",
        "3. Permite realizar operaciones matemáticas con fechas. Puedes calcular diferencias en días, semanas o meses:\n",
        "\n",
        "  (df[\"fecha\"].max() - df[\"fecha\"].min()).days\n",
        "\n",
        "4. Puedes ordenar la serie en orden cronológico."
      ]
    },
    {
      "cell_type": "code",
      "execution_count": null,
      "metadata": {
        "id": "Juqm-Sl9MjvU"
      },
      "outputs": [],
      "source": [
        "# Pasar la columna a formato fecha\n",
        "df['SUBMISSION_DATE'] = pd.to_datetime(df['SUBMISSION_DATE'], format=\"%d%m%Y\")\n",
        "df.info()"
      ]
    },
    {
      "cell_type": "code",
      "execution_count": null,
      "metadata": {
        "id": "KKr74-aIHyNO"
      },
      "outputs": [],
      "source": [
        "df.head()"
      ]
    },
    {
      "cell_type": "code",
      "execution_count": null,
      "metadata": {
        "id": "ELqugJasH5LX"
      },
      "outputs": [],
      "source": [
        "# Crear una nueva columna que diga solamente el día de envío de la información\n",
        "df['DIA'] = df[\"SUBMISSION_DATE\"].dt.day\n",
        "df.sample(5)"
      ]
    },
    {
      "cell_type": "code",
      "execution_count": null,
      "metadata": {
        "id": "JeeVtjjaINmL"
      },
      "outputs": [],
      "source": [
        "df.drop(columns=['DIA'], inplace=True)"
      ]
    },
    {
      "cell_type": "code",
      "execution_count": null,
      "metadata": {
        "id": "JxCGUv5tJHRR"
      },
      "outputs": [],
      "source": [
        "# Filtrar los registros que se enviaron después del 22 de julio de 2022\n",
        "df[df[\"SUBMISSION_DATE\"] > \"2022-07-22\"]"
      ]
    },
    {
      "cell_type": "code",
      "execution_count": null,
      "metadata": {
        "id": "MG4MVQzSJimN"
      },
      "outputs": [],
      "source": [
        "# Para saber el número de días de envío de información que cubre el dataset\n",
        "(df[\"SUBMISSION_DATE\"].max() - df[\"SUBMISSION_DATE\"].min()).days"
      ]
    },
    {
      "cell_type": "code",
      "execution_count": null,
      "metadata": {
        "id": "gx5SIvaCJ5so"
      },
      "outputs": [],
      "source": [
        "# Ver el dataset en orden cronológico\n",
        "df.sort_values(by='SUBMISSION_DATE')"
      ]
    },
    {
      "cell_type": "markdown",
      "metadata": {
        "id": "fgY7845-MjvY"
      },
      "source": [
        "## Duplicados"
      ]
    },
    {
      "cell_type": "markdown",
      "metadata": {
        "id": "HDmo02xD09Jl"
      },
      "source": [
        "Puede generar un sesgo por sobrevaloración de una observación."
      ]
    },
    {
      "cell_type": "markdown",
      "metadata": {
        "id": "bAIa7Z3ReFo1"
      },
      "source": [
        "### Detectar duplicados"
      ]
    },
    {
      "cell_type": "code",
      "execution_count": null,
      "metadata": {
        "id": "3nBcxhJ0MjvY"
      },
      "outputs": [],
      "source": [
        "# Encontrar filas con todos sus valores duplicados (ver sólo el primer valor repetido)\n",
        "df[df.duplicated()]"
      ]
    },
    {
      "cell_type": "code",
      "execution_count": null,
      "metadata": {
        "id": "cy-Nsdl6MjvY"
      },
      "outputs": [],
      "source": [
        "# Encontrar filas con todos sus valores duplicados (ver todos los valores repetidos)\n",
        "df[df.duplicated(keep=False)]"
      ]
    },
    {
      "cell_type": "code",
      "execution_count": null,
      "metadata": {
        "id": "gfJ78x1uegAt"
      },
      "outputs": [],
      "source": [
        "# Encontrar duplicados en ciertas columnas, ver todos los valores repetidos\n",
        "df[df.duplicated(subset='COUNTRY', keep=False)]"
      ]
    },
    {
      "cell_type": "code",
      "execution_count": null,
      "metadata": {
        "id": "F3PdobyRMjvY"
      },
      "outputs": [],
      "source": [
        "# Ver duplicados en varias columnas al tiempo\n",
        "df[df.duplicated(subset=['COUNTRY','MODE', 'DIRECTION'], keep=False)]"
      ]
    },
    {
      "cell_type": "markdown",
      "metadata": {
        "id": "7Lzy3aJafHwr"
      },
      "source": [
        "### Ver la cantidad de duplicados que existen"
      ]
    },
    {
      "cell_type": "code",
      "execution_count": null,
      "metadata": {
        "id": "1qqLe6ADfKZy"
      },
      "outputs": [],
      "source": [
        "# En general\n",
        "df.duplicated().sum()"
      ]
    },
    {
      "cell_type": "code",
      "execution_count": null,
      "metadata": {
        "id": "1uHDDT08MjvZ"
      },
      "outputs": [],
      "source": [
        "# En una columna específica\n",
        "df['COUNTRY'].duplicated().sum()"
      ]
    },
    {
      "cell_type": "code",
      "execution_count": null,
      "metadata": {
        "id": "Umki29x4fTIm"
      },
      "outputs": [],
      "source": [
        "# En varias columnas\n",
        "df.duplicated(subset=['COUNTRY','MODE', 'DIRECTION']).sum()"
      ]
    },
    {
      "cell_type": "markdown",
      "metadata": {
        "id": "YPUYZFVEfxaw"
      },
      "source": [
        "### Eliminar duplicados"
      ]
    },
    {
      "cell_type": "code",
      "execution_count": null,
      "metadata": {
        "id": "RM7gb2VcMjvZ"
      },
      "outputs": [],
      "source": [
        "# Eliminar filas con todos sus valores duplicados, conservando sólo el primer registro\n",
        "df.drop_duplicates(keep='first', inplace=True)"
      ]
    },
    {
      "cell_type": "code",
      "execution_count": null,
      "metadata": {
        "id": "gXxcvPG6gNd_"
      },
      "outputs": [],
      "source": [
        "df.duplicated().sum()"
      ]
    },
    {
      "cell_type": "code",
      "execution_count": null,
      "metadata": {
        "id": "9wZDvQUYgE5X"
      },
      "outputs": [],
      "source": [
        "# Eliminar filas con todos sus valores duplicados, conservando sólo el último registro\n",
        "# df.drop_duplicates(keep='last', inplace=True)"
      ]
    },
    {
      "cell_type": "code",
      "execution_count": null,
      "metadata": {
        "id": "b__AMkcXMjvZ"
      },
      "outputs": [],
      "source": [
        "# Borrar duplicados revisando solo una columna y dejando el último dato que encuentre\n",
        "# df = df.drop_duplicates(subset=\"COUNTRY\", keep=\"last\")"
      ]
    },
    {
      "cell_type": "markdown",
      "metadata": {
        "id": "gpspTTH3MjvW"
      },
      "source": [
        "## Valores faltantes"
      ]
    },
    {
      "cell_type": "markdown",
      "metadata": {
        "id": "XEpASN8V1C8z"
      },
      "source": [
        "Implica perdida de información que puede ser muy relevante para el análisis."
      ]
    },
    {
      "cell_type": "markdown",
      "metadata": {
        "id": "wf-vzuKQgmHa"
      },
      "source": [
        "### Detectar valores faltantes"
      ]
    },
    {
      "cell_type": "code",
      "execution_count": null,
      "metadata": {
        "id": "OR7ySLLplF24"
      },
      "outputs": [],
      "source": [
        "len(df)"
      ]
    },
    {
      "cell_type": "code",
      "execution_count": null,
      "metadata": {
        "id": "OcH_iaKTMjvW"
      },
      "outputs": [],
      "source": [
        "# Ver la cantidad de valores nulos en cada columna\n",
        "df.isna().sum()"
      ]
    },
    {
      "cell_type": "code",
      "execution_count": null,
      "metadata": {
        "id": "_e-u374AMjvX"
      },
      "outputs": [],
      "source": [
        "# Para filtrar los nulos de una columna\n",
        "df[df['2000'].isna()]"
      ]
    },
    {
      "cell_type": "code",
      "execution_count": null,
      "metadata": {
        "id": "PR1jDd68lw_I"
      },
      "outputs": [],
      "source": [
        "# Para filtrar los nulos de varias columnas al tiempo\n",
        "df[df['2000'].isna() & df['2001'].isna()]"
      ]
    },
    {
      "cell_type": "code",
      "execution_count": null,
      "metadata": {
        "id": "w4hBD_TgMjvX"
      },
      "outputs": [],
      "source": [
        "df[df['2000'].isna() | df['2020'].isna()]"
      ]
    },
    {
      "cell_type": "markdown",
      "metadata": {
        "id": "CCAMBBGAgekg"
      },
      "source": [
        "### Imputar valores faltantes"
      ]
    },
    {
      "cell_type": "markdown",
      "metadata": {
        "id": "zFrXoA9D15qF"
      },
      "source": [
        "La elección del método no es trivial y debe basarse en el conocimiento del problema. Imputar con la media podría subestimar la variabilidad de un mercado, mientras que eliminar datos podría generar un sesgo de selección."
      ]
    },
    {
      "cell_type": "markdown",
      "metadata": {
        "id": "nBfK-MfGh0O_"
      },
      "source": [
        "### Eliminar filas con valores faltantes"
      ]
    },
    {
      "cell_type": "markdown",
      "metadata": {
        "id": "hS0WaEKTokzp"
      },
      "source": [
        "👉 Útil si los faltantes son muy pocos o irrelevantes."
      ]
    },
    {
      "cell_type": "code",
      "execution_count": null,
      "metadata": {
        "id": "Ap3IUvk2mRJf"
      },
      "outputs": [],
      "source": [
        "len(df)"
      ]
    },
    {
      "cell_type": "code",
      "execution_count": null,
      "metadata": {
        "id": "MvlnHSBdmMqK"
      },
      "outputs": [],
      "source": [
        "# Borrar la fila si hay nulos en ciertas columnas\n",
        "df_2 = df.dropna(subset=['2020'], how='all')\n",
        "len(df_2)"
      ]
    },
    {
      "cell_type": "code",
      "execution_count": null,
      "metadata": {
        "id": "J2ggZrNVpPoX"
      },
      "outputs": [],
      "source": [
        "df_2.isna().sum()"
      ]
    },
    {
      "cell_type": "code",
      "execution_count": null,
      "metadata": {
        "id": "pG8qegdno1Fe"
      },
      "outputs": [],
      "source": [
        "# Borrar la fila si hay nulos en ciertas columnas\n",
        "df_3 = df.dropna(subset=['2018', '2019', '2020'], how='all')\n",
        "len(df_3)"
      ]
    },
    {
      "cell_type": "code",
      "execution_count": null,
      "metadata": {
        "id": "pfDcPJ9VpFN2"
      },
      "outputs": [],
      "source": [
        "df_3.isna().sum()"
      ]
    },
    {
      "cell_type": "code",
      "execution_count": null,
      "metadata": {
        "id": "DOk0ahRvmp1O"
      },
      "outputs": [],
      "source": [
        "# Borrar todas las filas o registros que tienen datos faltantes en el dataset\n",
        "df_4 = df.dropna()\n",
        "len(df_4)"
      ]
    },
    {
      "cell_type": "code",
      "execution_count": null,
      "metadata": {
        "id": "fVlz1aRFm1Y9"
      },
      "outputs": [],
      "source": [
        "df_4.isna().sum()"
      ]
    },
    {
      "cell_type": "markdown",
      "metadata": {
        "id": "BHMaOlCrqtML"
      },
      "source": [
        "#### Reemplazar todos los faltantes por un valor constante"
      ]
    },
    {
      "cell_type": "markdown",
      "metadata": {
        "id": "gQVcb3ewqwrw"
      },
      "source": [
        "👉 Se usa cuando un valor por defecto tiene sentido (ej. \"No aplica\", 0 para exportaciones)."
      ]
    },
    {
      "cell_type": "code",
      "execution_count": null,
      "metadata": {
        "id": "2Fdyqvy5nG9l"
      },
      "outputs": [],
      "source": [
        "# Llenar los valores nulos con cero\n",
        "df['2000'] = df['2000'].fillna(0)\n",
        "df.tail()"
      ]
    },
    {
      "cell_type": "code",
      "execution_count": null,
      "metadata": {
        "id": "GnJ72GoOMjvX"
      },
      "outputs": [],
      "source": [
        "# Llenar los valores nulos con un string\n",
        "df['2001'] = df['2001'].fillna('No aplica')\n",
        "df.tail()"
      ]
    },
    {
      "cell_type": "markdown",
      "metadata": {
        "id": "jcFPTX-3q2TR"
      },
      "source": [
        "#### Imputación con estadísticas de la columna"
      ]
    },
    {
      "cell_type": "markdown",
      "metadata": {
        "id": "PCzjEZBjq6Vx"
      },
      "source": [
        "👉 Muy usado en economía. Por ejemplo, la media/mediana para ingresos."
      ]
    },
    {
      "cell_type": "code",
      "execution_count": null,
      "metadata": {
        "id": "x9RZqIx5nYMM"
      },
      "outputs": [],
      "source": [
        "# Llenar los valores nulos con la media de la columna\n",
        "df['2002'] = df['2002'].fillna(df['2002'].mean())\n",
        "df.tail()"
      ]
    },
    {
      "cell_type": "markdown",
      "metadata": {
        "id": "VamqrwHIrSDz"
      },
      "source": [
        "#### Imputación con valores vecinos"
      ]
    },
    {
      "cell_type": "markdown",
      "metadata": {
        "id": "MnL6W-3jsA2U"
      },
      "source": [
        "👉 Muy útil en series de tiempo (ejemplo: inflación mensual, PIB trimestral)."
      ]
    },
    {
      "cell_type": "markdown",
      "metadata": {
        "id": "yf3miqwHrVBr"
      },
      "source": [
        "##### Forward fill (ffill): usa el último valor válido anterior"
      ]
    },
    {
      "cell_type": "code",
      "execution_count": null,
      "metadata": {
        "id": "iACdlboqrZMb"
      },
      "outputs": [],
      "source": [
        "df[\"2003\"].fillna(method=\"ffill\", inplace=True)\n",
        "df.tail()"
      ]
    },
    {
      "cell_type": "markdown",
      "metadata": {
        "id": "4grZEiLbrvTm"
      },
      "source": [
        "##### Backward fill (bfill): usa el siguiente valor válido"
      ]
    },
    {
      "cell_type": "code",
      "execution_count": null,
      "metadata": {
        "id": "sd0196iOr0hb"
      },
      "outputs": [],
      "source": [
        "df[\"2004\"].fillna(method=\"bfill\", inplace=True)\n",
        "df.tail()"
      ]
    },
    {
      "cell_type": "markdown",
      "metadata": {
        "id": "JubnJrdNsG7H"
      },
      "source": [
        "#### Interpolación"
      ]
    },
    {
      "cell_type": "markdown",
      "metadata": {
        "id": "OBMNkQ5HsKLu"
      },
      "source": [
        "Calcula valores intermedios automáticamente"
      ]
    },
    {
      "cell_type": "markdown",
      "metadata": {
        "id": "Di2b8rq4sMp5"
      },
      "source": [
        "👉 Útil en datos económicos continuos, como tasas de crecimiento. Útil en series de tiempo."
      ]
    },
    {
      "cell_type": "code",
      "execution_count": null,
      "metadata": {
        "id": "JEhEdnclr8-r"
      },
      "outputs": [],
      "source": [
        "df[\"2005\"].interpolate(method=\"linear\", inplace=True)\n",
        "df.tail()"
      ]
    },
    {
      "cell_type": "markdown",
      "metadata": {
        "id": "8py01gUUtMmQ"
      },
      "source": [
        "#### Modelos predictivos (Machine Learning)\n",
        "\n",
        "Usa algoritmos para predecir los valores faltantes. Por ejemplo:\n",
        "\n",
        "- KNN Imputer (usa vecinos más cercanos).\n",
        "\n",
        "- Regresión (predice usando otras variables)."
      ]
    },
    {
      "cell_type": "markdown",
      "metadata": {
        "id": "_4KxZorXvUqW"
      },
      "source": [
        "##### 📌  KNNImputer (Imputación con Vecinos Más Cercanos)\n",
        "\n",
        "Busca observaciones parecidas (vecinos) usando las demás variables del dataset.\n",
        "\n",
        "Si una observación tiene un dato faltante, se fija en los valores de esos vecinos más cercanos.\n",
        "\n",
        "Rellena el valor faltante con el promedio de los vecinos.\n",
        "\n",
        "* Ejemplo:\n",
        "\n",
        "Imagina que falta el valor de la inflación de Colombia, pero sí tenemos su PIB. El KNNImputer busca países con PIB similar (como Chile o Perú), y usa sus valores de inflación para calcular un promedio y rellenar el dato faltante de Colombia."
      ]
    },
    {
      "cell_type": "markdown",
      "metadata": {
        "id": "mf0yWxbpxWMD"
      },
      "source": [
        "👉 Cosas a tener en cuenta:\n",
        "\n",
        "- Solo funciona con variables numéricas.\n",
        "\n",
        "- Conviene escalar o normalizar las variables antes, porque si una está en millones (PIB) y otra en %, dominará la distancia.\n",
        "\n",
        "- El valor que se asigna es la media de los vecinos (aunque también podrías modificarlo para usar la mediana)."
      ]
    },
    {
      "cell_type": "code",
      "execution_count": null,
      "metadata": {
        "id": "9GuB1KS-sYZE"
      },
      "outputs": [],
      "source": [
        "from sklearn.impute import KNNImputer\n",
        "import numpy as np"
      ]
    },
    {
      "cell_type": "code",
      "execution_count": null,
      "metadata": {
        "id": "jMYbG5EPterG"
      },
      "outputs": [],
      "source": [
        "imputer = KNNImputer(n_neighbors=3)\n",
        "df[[\"2020\"]] = imputer.fit_transform(df[[\"2020\"]])\n",
        "df.tail()"
      ]
    }
  ],
  "metadata": {
    "colab": {
      "provenance": [],
      "toc_visible": true
    },
    "kernelspec": {
      "display_name": "myenv",
      "language": "python",
      "name": "python3"
    },
    "language_info": {
      "codemirror_mode": {
        "name": "ipython",
        "version": 3
      },
      "file_extension": ".py",
      "mimetype": "text/x-python",
      "name": "python",
      "nbconvert_exporter": "python",
      "pygments_lexer": "ipython3",
      "version": "3.11.1"
    },
    "orig_nbformat": 4
  },
  "nbformat": 4,
  "nbformat_minor": 0
}