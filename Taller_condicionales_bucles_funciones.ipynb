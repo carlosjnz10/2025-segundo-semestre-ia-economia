{
  "cells": [
    {
      "cell_type": "markdown",
      "metadata": {
        "id": "4A_GfFHIq-AW"
      },
      "source": [
        "# **UNIVERSIDAD EXTERNADO DE COLOMBIA**\n",
        "\n"
      ]
    },
    {
      "cell_type": "markdown",
      "metadata": {
        "id": "Fz8j9lH0rY7M"
      },
      "source": [
        "# **INTELIGENCIA ARTIFICIAL CON APLICACIONES EN ECONOMÍA I**"
      ]
    },
    {
      "cell_type": "markdown",
      "metadata": {
        "id": "CHbZ88pIrZvm"
      },
      "source": [
        "# **TALLER CONDICIONALES, BUCLES Y FUNCIONES**"
      ]
    },
    {
      "cell_type": "markdown",
      "metadata": {
        "id": "5P1oYNQHrgfw"
      },
      "source": [
        "Docente: Lina María Castro\n",
        "\n",
        "28 de agosto de 2025\n"
      ]
    },
    {
      "cell_type": "markdown",
      "metadata": {
        "id": "sKBuSOD4tZDu"
      },
      "source": [
        "- Plazo máximo de entrega: jueves, 4 de septiembre de 2025 antes de las 11:59 p.m.\n",
        "\n",
        "-\tForma de entrega: Jupyter Notebook publicado en su cuenta de Github con el nombre “Taller_condicionales_bucles_funciones.ipynb”. Ser ordenado: debe aparecer el número del ejercicio, el código y el resultado del código. Enviar link del notebook al correo lmcastroco@gmail.com antes del plazo máximo de entrega, de lo contrario, no será tenido en cuenta.\n",
        "\n",
        "- En el caso de las funciones, no olvides colocar la documentacióne/explicación.\n"
      ]
    },
    {
      "cell_type": "markdown",
      "metadata": {
        "id": "5hmIxbJWcya9"
      },
      "source": [
        "## **Ejercicio 1**"
      ]
    },
    {
      "cell_type": "markdown",
      "metadata": {
        "id": "O5qhW3NTvG0W"
      },
      "source": [
        "Escribe un programa que pida la inflación y muestre el porcentaje de aumento salarial aprobado teniendo en cuenta las siguientes condiciones:\n",
        "\n",
        "- Si la inflación es mayor al 10%, el gobierno aprueba un aumento salarial del 12%.\n",
        "\n",
        "- Si la inflación está entre 6% y 10%, el aumento es del 8%.\n",
        "\n",
        "- Si es menor al 6%, el aumento es del 5%."
      ]
    },
    {
      "cell_type": "code",
      "execution_count": 9,
      "metadata": {
        "colab": {
          "base_uri": "https://localhost:8080/"
        },
        "id": "BYeg_UmYvM1b",
        "outputId": "21bae148-6ea6-43f6-a7f2-e3f16cc16bba"
      },
      "outputs": [
        {
          "name": "stdout",
          "output_type": "stream",
          "text": [
            "Aumento Salarial del 5%\n"
          ]
        }
      ],
      "source": [
        "#Pedimos al usuario que ingrese el dato de inflación\n",
        "entrada = input(\"Ingrese el dato de infación (%)\")\n",
        "inflacion =float(entrada.replace(\"%\", \"\").strip()) \n",
        "#Condicionales del aumento salarial aprobado\n",
        "if inflacion < 6:\n",
        "    print(\"Aumento Salarial del 5%\")\n",
        "elif 6 <=inflacion<= 10:\n",
        "    print(\"Aumento Salarial del 8%\")\n",
        "else:\n",
        "    print (\"Aumento Salarial del 12%\")\n"
      ]
    },
    {
      "cell_type": "markdown",
      "metadata": {
        "id": "YyVVr95xdXJp"
      },
      "source": [
        "## **Ejercicio 2**"
      ]
    },
    {
      "cell_type": "markdown",
      "metadata": {
        "id": "wS3C-5scsUcB"
      },
      "source": [
        "Tienes una lista con el número de empresas registradas en diferentes ciudades. Usa un ciclo for para contar cuántas ciudades tienen más de 100 empresas y muestra el resultado en pantalla como: \"Número de ciudades con más de 100 empresas: X\""
      ]
    },
    {
      "cell_type": "code",
      "execution_count": 19,
      "metadata": {
        "colab": {
          "base_uri": "https://localhost:8080/"
        },
        "id": "uTrbrdrw5-UO",
        "outputId": "3fecb819-22b4-44b0-a00b-39bc961ee749"
      },
      "outputs": [
        {
          "name": "stdout",
          "output_type": "stream",
          "text": [
            "Número de ciudades con más de 100 empresas:3\n"
          ]
        }
      ],
      "source": [
        "empresas = [120, 85, 340, 210, 95]\n",
        "\n",
        "#Se crea el contador \n",
        "contador = 0\n",
        "#Se empieza a buscar una por una ciudades con mas de 100 empresas\n",
        "for num in empresas:\n",
        "    if num > 100:\n",
        "        contador += 1\n",
        "#Se imprime el resultado\n",
        "print(f\"Número de ciudades con más de 100 empresas:{contador}\")"
      ]
    },
    {
      "cell_type": "markdown",
      "metadata": {
        "id": "dP59USPQdaoU"
      },
      "source": [
        "## **Ejercicio 3**"
      ]
    },
    {
      "cell_type": "markdown",
      "metadata": {
        "id": "ASHwOJt3nheQ"
      },
      "source": [
        "Escribe un programa que imprima todos los múltiplos de 5 entre 1 y 50, utilizando range()."
      ]
    },
    {
      "cell_type": "code",
      "execution_count": 24,
      "metadata": {
        "colab": {
          "base_uri": "https://localhost:8080/"
        },
        "id": "P7vEcQqpntGN",
        "outputId": "ab42ef18-2035-4c22-ca97-a7be24daf1cb"
      },
      "outputs": [
        {
          "name": "stdout",
          "output_type": "stream",
          "text": [
            "5\n",
            "10\n",
            "15\n",
            "20\n",
            "25\n",
            "30\n",
            "35\n",
            "40\n",
            "45\n",
            "50\n"
          ]
        }
      ],
      "source": [
        "for mulpt in range(5, 51, 5):\n",
        "    print(mulpt)"
      ]
    },
    {
      "cell_type": "markdown",
      "metadata": {
        "id": "oPcumFlidsGv"
      },
      "source": [
        "## **Ejercicio 4**"
      ]
    },
    {
      "cell_type": "markdown",
      "metadata": {
        "id": "5wvJv2GPt6Qf"
      },
      "source": [
        "Un cajero automático tiene 500.000 pesos disponibles.\n",
        "Un usuario puede retirar varias veces, pero no puede retirar más de lo que queda en el cajero. Escribe un programa que:\n",
        "\n",
        "- Pregunte cuánto quiere retirar.\n",
        "\n",
        "- Reste ese valor al saldo.\n",
        "\n",
        "- Termine cuando el saldo llegue a 0 o el usuario escriba 0."
      ]
    },
    {
      "cell_type": "code",
      "execution_count": 46,
      "metadata": {
        "colab": {
          "base_uri": "https://localhost:8080/"
        },
        "id": "BJDxIqocuEz3",
        "outputId": "a00b2666-2fff-4dc2-f3f8-0ed311b72a91"
      },
      "outputs": [],
      "source": [
        "disponible = 500000\n",
        "\n",
        "while disponible > 0:\n",
        "    retiro = float(input(f\"Saldo disponible: {disponible} pesos. ¿Cuánto desea retirar? (0 para salir): \"))\n",
        "    if retiro == 0:\n",
        "        break\n",
        "    elif retiro > disponible:\n",
        "        print(\"No puede retirar más de lo que queda en el cajero.\")\n",
        "    else:\n",
        "        disponible -= retiro\n",
        "        print(f\"Retiro exitoso de {retiro} pesos.\")\n",
        "\n",
        "if disponible == 0:\n",
        "    print(\"El cajero se quedó sin dinero.\")"
      ]
    },
    {
      "cell_type": "markdown",
      "metadata": {
        "id": "uAz_wjs2gs7c"
      },
      "source": [
        "## **Ejercicio 5**"
      ]
    },
    {
      "cell_type": "markdown",
      "metadata": {
        "id": "3L7NHs7hSLKE"
      },
      "source": [
        "Crea una función raiz_cuadrada(num) que calcule la raíz cuadrada de un número.\n",
        "\n",
        "Si el número es negativo, devuelve: \"Error: no se puede calcular la raíz cuadrada de un número negativo.\"\n",
        "\n",
        "Si el valor no es numérico, devuelve: \"Error: el valor debe ser numérico.\"\n",
        "\n",
        "NOTA: utiliza import math y la función math.sqrt(num)"
      ]
    },
    {
      "cell_type": "code",
      "execution_count": 9,
      "metadata": {
        "id": "-fh0PUPbSNvl"
      },
      "outputs": [
        {
          "name": "stdout",
          "output_type": "stream",
          "text": [
            "4.0\n",
            "Error: no se puede calcular la raíz cuadrada de un número negativo.\n",
            "Error: el valor debe ser numérico.\n"
          ]
        }
      ],
      "source": [
        "import math\n",
        "\n",
        "def raiz_cuadrada(num):\n",
        "    if not isinstance(num, (int, float)): \n",
        "        return \"Error: el valor debe ser numérico.\"\n",
        "    elif num < 0:\n",
        "        return \"Error: no se puede calcular la raíz cuadrada de un número negativo.\"\n",
        "    return math.sqrt(num)\n",
        "print(raiz_cuadrada(16))\n",
        "print(raiz_cuadrada(-9))\n",
        "print(raiz_cuadrada(\"abc\"))"
      ]
    },
    {
      "cell_type": "markdown",
      "metadata": {
        "id": "dOjMrj-9pfwA"
      },
      "source": [
        "## **Ejercicio 6**"
      ]
    },
    {
      "cell_type": "markdown",
      "metadata": {
        "id": "voXscZI7TPRp"
      },
      "source": [
        "Escribe una función llamada es_par que reciba un número entero como parámetro y retorne True si el número es par y False si es impar.\n",
        "\n",
        "NOTA: % es el operador módulo en Python. Lo que hace es dividir un número entre otro y devolver el residuo (lo que sobra de la división entera).\n",
        "\n",
        "Si al dividir un número en 2, el residuo es cero, entonces el número es par, de lo contrario, es impar."
      ]
    },
    {
      "cell_type": "code",
      "execution_count": 19,
      "metadata": {
        "id": "q55DMdeZTS-B"
      },
      "outputs": [
        {
          "name": "stdout",
          "output_type": "stream",
          "text": [
            "True\n",
            "False\n"
          ]
        }
      ],
      "source": [
        "# Para verificar que es par: numero % 2 == 0\n",
        "def es_par(numero):\n",
        "    if numero % 2 == 0:\n",
        "        return True\n",
        "    else:\n",
        "        return False\n",
        "print(es_par(10))   # Debería imprimir True\n",
        "print(es_par(7))    # Debería imprimir False"
      ]
    },
    {
      "cell_type": "markdown",
      "metadata": {
        "id": "IcNuG-Cggw47"
      },
      "source": [
        "## **Ejercicio 7**"
      ]
    },
    {
      "cell_type": "markdown",
      "metadata": {
        "id": "yJ-RPbINSAu6"
      },
      "source": [
        "Escribe un código que permita al usuario crear una contraseña y que verifique que esta cumpla todas las siguientes condiciones:\n",
        "\n",
        "- Tiene al menos 8 caracteres.\n",
        "\n",
        "- Contiene al menos una letra mayúscula.\n",
        "\n",
        "- Contiene al menos una letra minúscula.\n",
        "\n",
        "- Contiene al menos un número.\n",
        "\n",
        "Si cumple todas las condiciones, muestra \"Contraseña válida\", de lo contrario, explica qué condición no se cumple."
      ]
    },
    {
      "cell_type": "code",
      "execution_count": 44,
      "metadata": {
        "id": "306D2pg7SAF-"
      },
      "outputs": [
        {
          "name": "stdout",
          "output_type": "stream",
          "text": [
            "Contraseña válida\n"
          ]
        }
      ],
      "source": [
        "# Se le pide la contraseña al usuario\n",
        "contraseña = input(\"Cree una contraseña\")\n",
        "\n",
        "# Lista para guardar errores\n",
        "errores = []\n",
        "\n",
        "# Longitud minima de 8 caracteres\n",
        "if len(contraseña) < 8:\n",
        "    errores.append(\"Debe tener al menos 8 caracteres.\")\n",
        "\n",
        "# Al menos una letra mayúscula\n",
        "if not any(c.isupper() for c in contraseña):\n",
        "    errores.append(\"Debe contener al menos una letra mayúscula.\")\n",
        "\n",
        "# Al menos una letra minúscula\n",
        "if not any(letra.islower() for letra in contraseña):\n",
        "    errores.append(\"Debe contener al menos una letra minúscula.\")\n",
        "\n",
        "# Al menos un número\n",
        "if not any(letra.isdigit() for letra in contraseña):\n",
        "    errores.append(\"Debe contener al menos un número.\")\n",
        "\n",
        "# Verificar si hay errores\n",
        "if len(errores) == 0:\n",
        "    print(\"Contraseña válida\")\n",
        "else:\n",
        "    print(\"Contraseña inválida\")\n",
        "    for e in errores:\n",
        "        print(\"-\", e)"
      ]
    },
    {
      "cell_type": "markdown",
      "metadata": {
        "id": "vdgQ-4Atv7TZ"
      },
      "source": [
        "## **Ejercicio 8**"
      ]
    },
    {
      "cell_type": "markdown",
      "metadata": {
        "id": "qZ5desSUv_Z9"
      },
      "source": [
        "Crea una función llamada \"extraer_dominio\" que extraiga el dominio de una página web a partir de una cadena que contenga un email de la siguiente forma:\n",
        "\n",
        "usuario@dominio.com\n",
        "    \n",
        "Por ejemplo: si se le pasa \"lmcastroco@gmail.com\", la función retornará: gmail.com"
      ]
    },
    {
      "cell_type": "code",
      "execution_count": 27,
      "metadata": {
        "id": "SnLVmAoUv_aC"
      },
      "outputs": [],
      "source": [
        "# Definir la función\n",
        "def extraer_dominio(email):\n",
        "    # Verificar que tenga el @\n",
        "    if \"@\" not in email:\n",
        "        return \"Error: el email no contiene '@'.\"\n",
        "    \n",
        "    partes = email.split(\"@\")\n",
        "    \n",
        "    if len(partes) < 2 or partes[1] == \"\":\n",
        "        return \"Error: falta el dominio después del '@'.\"\n",
        "    \n",
        "    return partes[1]"
      ]
    },
    {
      "cell_type": "code",
      "execution_count": 28,
      "metadata": {
        "colab": {
          "base_uri": "https://localhost:8080/",
          "height": 35
        },
        "id": "uQK42HdWv_aI",
        "outputId": "4b908455-ad00-487f-c37c-a0221b215043"
      },
      "outputs": [
        {
          "data": {
            "text/plain": [
              "'gmail.com'"
            ]
          },
          "execution_count": 28,
          "metadata": {},
          "output_type": "execute_result"
        }
      ],
      "source": [
        "extraer_dominio('juanita@gmail.com')  # Debería retornar 'gmail.com'"
      ]
    },
    {
      "cell_type": "code",
      "execution_count": 29,
      "metadata": {
        "colab": {
          "base_uri": "https://localhost:8080/",
          "height": 35
        },
        "id": "44R1evuAv_aU",
        "outputId": "e2fc2423-eab6-4a22-e280-e2d9fd49d029"
      },
      "outputs": [
        {
          "data": {
            "text/plain": [
              "'hotmail.com'"
            ]
          },
          "execution_count": 29,
          "metadata": {},
          "output_type": "execute_result"
        }
      ],
      "source": [
        "extraer_dominio('juanita.perez@hotmail.com') # Debería retornar 'hotmail.com'"
      ]
    },
    {
      "cell_type": "markdown",
      "metadata": {
        "id": "W5GXHY7GwSxU"
      },
      "source": [
        "## **Ejercicio 9**"
      ]
    },
    {
      "cell_type": "markdown",
      "metadata": {
        "id": "TpfnyisEv_ag"
      },
      "source": [
        "Escribe una función llamada contar_desempleo que reciba una cadena y retorne el número de veces que aparece la palabra \"desempleo\" en el texto. Ten en cuenta que la palabra puede estar en mayúsculas, minúsculas o una mezcla de ellas, pero por ahora no te preocupes por casos especiales como cuando la palabra tiene algún signo de puntuación inmediatamente despúes de ésta."
      ]
    },
    {
      "cell_type": "code",
      "execution_count": 34,
      "metadata": {
        "id": "fWWwTWNl0WcE"
      },
      "outputs": [],
      "source": [
        "def contar_desempleo(cadena):\n",
        "     #Convertir todo a minuscula\n",
        "     cadena = cadena.lower()\n",
        "     # Contador de veces aparece \"desempleo\"\n",
        "     return cadena.count(\"desempleo\")"
      ]
    },
    {
      "cell_type": "code",
      "execution_count": 35,
      "metadata": {
        "colab": {
          "base_uri": "https://localhost:8080/"
        },
        "id": "kOVujSn_v_bK",
        "outputId": "60bb5fb9-d34d-4be0-df4a-49b9f850c006"
      },
      "outputs": [
        {
          "data": {
            "text/plain": [
              "2"
            ]
          },
          "execution_count": 35,
          "metadata": {},
          "output_type": "execute_result"
        }
      ],
      "source": [
        "contar_desempleo(\"El desempleo es un problema. El DESEMPLEO afecta a muchas personas.\")"
      ]
    },
    {
      "cell_type": "code",
      "execution_count": 36,
      "metadata": {
        "colab": {
          "base_uri": "https://localhost:8080/"
        },
        "id": "xIaZJfLK0P-f",
        "outputId": "6b429852-3289-4cd8-8ba6-2adb5c8251d3"
      },
      "outputs": [
        {
          "data": {
            "text/plain": [
              "1"
            ]
          },
          "execution_count": 36,
          "metadata": {},
          "output_type": "execute_result"
        }
      ],
      "source": [
        "contar_desempleo(\"El dEseMPLeo aumentó en enero.\")"
      ]
    },
    {
      "cell_type": "code",
      "execution_count": 37,
      "metadata": {
        "colab": {
          "base_uri": "https://localhost:8080/"
        },
        "id": "2PaQ6jV70ShH",
        "outputId": "11349bd6-c2c5-4c13-c39f-dca12176e5a7"
      },
      "outputs": [
        {
          "data": {
            "text/plain": [
              "0"
            ]
          },
          "execution_count": 37,
          "metadata": {},
          "output_type": "execute_result"
        }
      ],
      "source": [
        "contar_desempleo(\"El gobierno tiene como meta reducir el número de personas desocupadas un 10%.\")"
      ]
    },
    {
      "cell_type": "markdown",
      "metadata": {
        "id": "dWBokSMZwgTc"
      },
      "source": [
        "## **Ejercicio 10**"
      ]
    },
    {
      "cell_type": "markdown",
      "metadata": {
        "id": "xE0y1M7gv_bl"
      },
      "source": [
        "Vas conduciendo un carro muy rápido y eres detenido por un agente de tránsito.\n",
        "\n",
        "Escribe una función \"multa\" que retorne uno de los 3 siguientes resultados:  \n",
        "\n",
        "- Si la velocidad es 60 Km/h o menos, el resultado es \"Sin multa\".\n",
        "- Si la velocidad está entre 60 y 80 Km/h (inclusive), el resultado es \"Multa pequeña\".\n",
        "- Si la velocidad es mayor a 80 Km/h, el resultado es \"Multa grande\".\n",
        "\n",
        "Además, considera que si esto ocurre el día de tu cumpleaños (codificado como parámetro booleano que recibe la función), tu velocidad podría ser 5 Km/ mayor en todos los casos."
      ]
    },
    {
      "cell_type": "code",
      "execution_count": 41,
      "metadata": {
        "id": "Hp7qfR0L2qJx"
      },
      "outputs": [],
      "source": [
        "def multa(velocidad, cumpleanios):\n",
        "    # Si es cumpleaños, se permite ir 5 km/h más rápido\n",
        "    if cumpleanios:\n",
        "        velocidad -= 5 # Se le \"perdona\" 5km/h  \n",
        "    #Condiciones\n",
        "    if velocidad <= 60:\n",
        "        return \"Sin multa\"\n",
        "    elif velocidad <= 80:\n",
        "        return \"Multa pequeña\"\n",
        "    else:\n",
        "        return \"Multa grande\""
      ]
    },
    {
      "cell_type": "code",
      "execution_count": 42,
      "metadata": {
        "colab": {
          "base_uri": "https://localhost:8080/",
          "height": 35
        },
        "id": "yLWqy7NWv_bv",
        "outputId": "46fa0482-0005-46a9-a2f5-8c4d92bcbece"
      },
      "outputs": [
        {
          "data": {
            "text/plain": [
              "'Multa pequeña'"
            ]
          },
          "execution_count": 42,
          "metadata": {},
          "output_type": "execute_result"
        }
      ],
      "source": [
        "multa(81, True)"
      ]
    },
    {
      "cell_type": "code",
      "execution_count": 43,
      "metadata": {
        "colab": {
          "base_uri": "https://localhost:8080/",
          "height": 35
        },
        "id": "Azjv8GE7v_b0",
        "outputId": "13b62389-c1ee-471e-d048-cc8911e698a0"
      },
      "outputs": [
        {
          "data": {
            "text/plain": [
              "'Multa grande'"
            ]
          },
          "execution_count": 43,
          "metadata": {},
          "output_type": "execute_result"
        }
      ],
      "source": [
        "multa(81, False)"
      ]
    }
  ],
  "metadata": {
    "colab": {
      "provenance": [],
      "toc_visible": true
    },
    "kernelspec": {
      "display_name": ".venv",
      "language": "python",
      "name": "python3"
    },
    "language_info": {
      "codemirror_mode": {
        "name": "ipython",
        "version": 3
      },
      "file_extension": ".py",
      "mimetype": "text/x-python",
      "name": "python",
      "nbconvert_exporter": "python",
      "pygments_lexer": "ipython3",
      "version": "3.13.5"
    }
  },
  "nbformat": 4,
  "nbformat_minor": 0
}
