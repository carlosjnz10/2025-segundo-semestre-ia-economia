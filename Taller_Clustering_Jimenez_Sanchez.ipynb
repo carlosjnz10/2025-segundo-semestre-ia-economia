{
  "cells": [
    {
      "cell_type": "markdown",
      "source": [
        "<a href=\"https://colab.research.google.com/github/LinaMariaCastro/curso-ia-para-economia/blob/main/clases/4_Aprendizaje_no_supervisado/Taller_Clustering.ipynb\" target=\"_parent\"><img src=\"https://colab.research.google.com/assets/colab-badge.svg\" alt=\"Open In Colab\"/></a>\n",
        "\n"
      ],
      "metadata": {
        "id": "DHNQuIqAmvl5"
      }
    },
    {
      "cell_type": "markdown",
      "source": [
        "# **Inteligencia Artificial con Aplicaciones en Economía I**\n",
        "\n",
        "- 👩‍🏫 **Profesora:** [Lina María Castro](https://www.linkedin.com/in/lina-maria-castro)  \n",
        "- 📧 **Email:** [lmcastroco@gmail.com](mailto:lmcastroco@gmail.com)  \n",
        "- 🎓 **Universidad:** Universidad Externado de Colombia - Facultad de Economía"
      ],
      "metadata": {
        "id": "5iiwfbXCQv5D"
      }
    },
    {
      "cell_type": "markdown",
      "source": [
        "# **Taller: Agrupando Países por su Desarrollo Económico**"
      ],
      "metadata": {
        "id": "0rfIMoBmE1Ap"
      }
    },
    {
      "cell_type": "markdown",
      "source": [
        "**IMPORTANTE**: Guarda una copia de este notebook en tu Google Drive o computador."
      ],
      "metadata": {
        "id": "0dQjQRRI-Jwh"
      }
    },
    {
      "cell_type": "markdown",
      "source": [
        "**Taller en parejas**"
      ],
      "metadata": {
        "id": "q_CzcRIty0sF"
      }
    },
    {
      "cell_type": "markdown",
      "source": [
        "**Nombres estudiantes:**\n",
        "\n",
        "- Carlos Jimenez\n",
        "- Edgardo Sanchez"
      ],
      "metadata": {
        "id": "NyfFoG84-DmF"
      }
    },
    {
      "cell_type": "markdown",
      "source": [
        "**Forma de entrega**\n",
        "\n",
        "Jupyter Notebook publicado en su cuenta de Github con el nombre “Taller_Clustering_apellidos_estudiantes.ipynb”.\n",
        "\n",
        "**Plazo de entrega**\n",
        "\n",
        "Hoy, 14 de octubre, máximo a las 11:59 p.m., debes enviar link del notebook al correo lina.castro6@uexternado.edu.co, de lo contrario, no será tenido en cuenta.\n",
        "\n",
        "**Instrucciones Generales**\n",
        "\n",
        "Completa el código en las celdas marcadas con `### TU CÓDIGO AQUÍ ###`. Puedes añadir más celdas si lo requieres."
      ],
      "metadata": {
        "id": "KcbzsUiz025j"
      }
    },
    {
      "cell_type": "markdown",
      "source": [
        "**Caso de Estudio: Consultoría para el PNUD**\n",
        "\n",
        "**Contexto:** El Programa de las Naciones Unidas para el Desarrollo (PNUD) busca optimizar la asignación de recursos y la creación de políticas públicas. En lugar de aplicar\n",
        "una única estrategia para todos, quieren entender si existen grupos de países con perfiles de desarrollo similares para crear programas de ayuda más efectivos.\n",
        "\n",
        "**Tu Misión:** Como economista y científico de datos, tu equipo ha sido contratado para analizar un conjunto de datos con indicadores socio-económicos y de salud. Deberás aplicar técnicas de clustering para identificar estos grupos y presentar un perfil detallado de cada uno, junto con una recomendación de política."
      ],
      "metadata": {
        "id": "fIYF9RZrFx0F"
      }
    },
    {
      "cell_type": "markdown",
      "source": [
        "## Ejercicio 1: Configuración inicial"
      ],
      "metadata": {
        "id": "M35O8HzlGna7"
      }
    },
    {
      "cell_type": "markdown",
      "source": [
        "1. Importa todas las librerías necesarias"
      ],
      "metadata": {
        "id": "zLosdBJszl74"
      }
    },
    {
      "cell_type": "code",
      "source": [
        "### TU CÓDIGO AQUÍ ###\n",
        "import os\n",
        "import pandas as pd\n",
        "import numpy as np\n",
        "import matplotlib.pyplot as plt\n",
        "import seaborn as sns\n",
        "\n",
        "# Importar de modelos y métricas de Scikit-Learn\n",
        "from sklearn.preprocessing import StandardScaler\n",
        "from sklearn.cluster import KMeans\n",
        "from sklearn.metrics import silhouette_score"
      ],
      "metadata": {
        "id": "z8OKVbSJE3-k"
      },
      "execution_count": 2,
      "outputs": []
    },
    {
      "cell_type": "code",
      "source": [
        "# Configuraciones de visualización\n",
        "pd.options.display.max_columns = None\n",
        "pd.options.display.float_format = '{:,.2f}'.format\n",
        "sns.set(style='whitegrid')\n",
        "plt.rcParams['figure.figsize'] = (12, 8)"
      ],
      "metadata": {
        "id": "UphwYfZpGXsk"
      },
      "execution_count": 3,
      "outputs": []
    },
    {
      "cell_type": "markdown",
      "source": [
        "## Ejercicio 2: Carga y Exploración de Datos"
      ],
      "metadata": {
        "id": "UaQh4QXVGxMM"
      }
    },
    {
      "cell_type": "markdown",
      "source": [
        "1. Carga el dataset 'Country-data.csv'."
      ],
      "metadata": {
        "id": "3ZXFFzaHz2zU"
      }
    },
    {
      "cell_type": "code",
      "source": [
        "### TU CÓDIGO AQUÍ ###\n",
        "from google.colab import drive, files\n",
        "drive.mount('/content/drive')\n",
        "\n",
        "path = '/content/drive/MyDrive/datasets'\n",
        "\n",
        "# Establecer el directorio de los archivos\n",
        "os.chdir(path)\n",
        "\n",
        "df = pd.read_csv('Country-data.csv')\n",
        "df"
      ],
      "metadata": {
        "id": "Aw2oyZ24G4tA",
        "colab": {
          "base_uri": "https://localhost:8080/",
          "height": 441
        },
        "outputId": "dfe8b0a7-6597-43b7-dc29-862ba1d4c96f"
      },
      "execution_count": 5,
      "outputs": [
        {
          "output_type": "stream",
          "name": "stdout",
          "text": [
            "Mounted at /content/drive\n"
          ]
        },
        {
          "output_type": "execute_result",
          "data": {
            "text/plain": [
              "                 country  child_mort  exports  health  imports  income  \\\n",
              "0            Afghanistan       90.20    10.00    7.58    44.90    1610   \n",
              "1                Albania       16.60    28.00    6.55    48.60    9930   \n",
              "2                Algeria       27.30    38.40    4.17    31.40   12900   \n",
              "3                 Angola      119.00    62.30    2.85    42.90    5900   \n",
              "4    Antigua and Barbuda       10.30    45.50    6.03    58.90   19100   \n",
              "..                   ...         ...      ...     ...      ...     ...   \n",
              "162              Vanuatu       29.20    46.60    5.25    52.70    2950   \n",
              "163            Venezuela       17.10    28.50    4.91    17.60   16500   \n",
              "164              Vietnam       23.30    72.00    6.84    80.20    4490   \n",
              "165                Yemen       56.30    30.00    5.18    34.40    4480   \n",
              "166               Zambia       83.10    37.00    5.89    30.90    3280   \n",
              "\n",
              "     inflation  life_expec  total_fer   gdpp  \n",
              "0         9.44       56.20       5.82    553  \n",
              "1         4.49       76.30       1.65   4090  \n",
              "2        16.10       76.50       2.89   4460  \n",
              "3        22.40       60.10       6.16   3530  \n",
              "4         1.44       76.80       2.13  12200  \n",
              "..         ...         ...        ...    ...  \n",
              "162       2.62       63.00       3.50   2970  \n",
              "163      45.90       75.40       2.47  13500  \n",
              "164      12.10       73.10       1.95   1310  \n",
              "165      23.60       67.50       4.67   1310  \n",
              "166      14.00       52.00       5.40   1460  \n",
              "\n",
              "[167 rows x 10 columns]"
            ],
            "text/html": [
              "\n",
              "  <div id=\"df-2ca3d470-f95e-411f-9ebc-672e0c1169b3\" class=\"colab-df-container\">\n",
              "    <div>\n",
              "<style scoped>\n",
              "    .dataframe tbody tr th:only-of-type {\n",
              "        vertical-align: middle;\n",
              "    }\n",
              "\n",
              "    .dataframe tbody tr th {\n",
              "        vertical-align: top;\n",
              "    }\n",
              "\n",
              "    .dataframe thead th {\n",
              "        text-align: right;\n",
              "    }\n",
              "</style>\n",
              "<table border=\"1\" class=\"dataframe\">\n",
              "  <thead>\n",
              "    <tr style=\"text-align: right;\">\n",
              "      <th></th>\n",
              "      <th>country</th>\n",
              "      <th>child_mort</th>\n",
              "      <th>exports</th>\n",
              "      <th>health</th>\n",
              "      <th>imports</th>\n",
              "      <th>income</th>\n",
              "      <th>inflation</th>\n",
              "      <th>life_expec</th>\n",
              "      <th>total_fer</th>\n",
              "      <th>gdpp</th>\n",
              "    </tr>\n",
              "  </thead>\n",
              "  <tbody>\n",
              "    <tr>\n",
              "      <th>0</th>\n",
              "      <td>Afghanistan</td>\n",
              "      <td>90.20</td>\n",
              "      <td>10.00</td>\n",
              "      <td>7.58</td>\n",
              "      <td>44.90</td>\n",
              "      <td>1610</td>\n",
              "      <td>9.44</td>\n",
              "      <td>56.20</td>\n",
              "      <td>5.82</td>\n",
              "      <td>553</td>\n",
              "    </tr>\n",
              "    <tr>\n",
              "      <th>1</th>\n",
              "      <td>Albania</td>\n",
              "      <td>16.60</td>\n",
              "      <td>28.00</td>\n",
              "      <td>6.55</td>\n",
              "      <td>48.60</td>\n",
              "      <td>9930</td>\n",
              "      <td>4.49</td>\n",
              "      <td>76.30</td>\n",
              "      <td>1.65</td>\n",
              "      <td>4090</td>\n",
              "    </tr>\n",
              "    <tr>\n",
              "      <th>2</th>\n",
              "      <td>Algeria</td>\n",
              "      <td>27.30</td>\n",
              "      <td>38.40</td>\n",
              "      <td>4.17</td>\n",
              "      <td>31.40</td>\n",
              "      <td>12900</td>\n",
              "      <td>16.10</td>\n",
              "      <td>76.50</td>\n",
              "      <td>2.89</td>\n",
              "      <td>4460</td>\n",
              "    </tr>\n",
              "    <tr>\n",
              "      <th>3</th>\n",
              "      <td>Angola</td>\n",
              "      <td>119.00</td>\n",
              "      <td>62.30</td>\n",
              "      <td>2.85</td>\n",
              "      <td>42.90</td>\n",
              "      <td>5900</td>\n",
              "      <td>22.40</td>\n",
              "      <td>60.10</td>\n",
              "      <td>6.16</td>\n",
              "      <td>3530</td>\n",
              "    </tr>\n",
              "    <tr>\n",
              "      <th>4</th>\n",
              "      <td>Antigua and Barbuda</td>\n",
              "      <td>10.30</td>\n",
              "      <td>45.50</td>\n",
              "      <td>6.03</td>\n",
              "      <td>58.90</td>\n",
              "      <td>19100</td>\n",
              "      <td>1.44</td>\n",
              "      <td>76.80</td>\n",
              "      <td>2.13</td>\n",
              "      <td>12200</td>\n",
              "    </tr>\n",
              "    <tr>\n",
              "      <th>...</th>\n",
              "      <td>...</td>\n",
              "      <td>...</td>\n",
              "      <td>...</td>\n",
              "      <td>...</td>\n",
              "      <td>...</td>\n",
              "      <td>...</td>\n",
              "      <td>...</td>\n",
              "      <td>...</td>\n",
              "      <td>...</td>\n",
              "      <td>...</td>\n",
              "    </tr>\n",
              "    <tr>\n",
              "      <th>162</th>\n",
              "      <td>Vanuatu</td>\n",
              "      <td>29.20</td>\n",
              "      <td>46.60</td>\n",
              "      <td>5.25</td>\n",
              "      <td>52.70</td>\n",
              "      <td>2950</td>\n",
              "      <td>2.62</td>\n",
              "      <td>63.00</td>\n",
              "      <td>3.50</td>\n",
              "      <td>2970</td>\n",
              "    </tr>\n",
              "    <tr>\n",
              "      <th>163</th>\n",
              "      <td>Venezuela</td>\n",
              "      <td>17.10</td>\n",
              "      <td>28.50</td>\n",
              "      <td>4.91</td>\n",
              "      <td>17.60</td>\n",
              "      <td>16500</td>\n",
              "      <td>45.90</td>\n",
              "      <td>75.40</td>\n",
              "      <td>2.47</td>\n",
              "      <td>13500</td>\n",
              "    </tr>\n",
              "    <tr>\n",
              "      <th>164</th>\n",
              "      <td>Vietnam</td>\n",
              "      <td>23.30</td>\n",
              "      <td>72.00</td>\n",
              "      <td>6.84</td>\n",
              "      <td>80.20</td>\n",
              "      <td>4490</td>\n",
              "      <td>12.10</td>\n",
              "      <td>73.10</td>\n",
              "      <td>1.95</td>\n",
              "      <td>1310</td>\n",
              "    </tr>\n",
              "    <tr>\n",
              "      <th>165</th>\n",
              "      <td>Yemen</td>\n",
              "      <td>56.30</td>\n",
              "      <td>30.00</td>\n",
              "      <td>5.18</td>\n",
              "      <td>34.40</td>\n",
              "      <td>4480</td>\n",
              "      <td>23.60</td>\n",
              "      <td>67.50</td>\n",
              "      <td>4.67</td>\n",
              "      <td>1310</td>\n",
              "    </tr>\n",
              "    <tr>\n",
              "      <th>166</th>\n",
              "      <td>Zambia</td>\n",
              "      <td>83.10</td>\n",
              "      <td>37.00</td>\n",
              "      <td>5.89</td>\n",
              "      <td>30.90</td>\n",
              "      <td>3280</td>\n",
              "      <td>14.00</td>\n",
              "      <td>52.00</td>\n",
              "      <td>5.40</td>\n",
              "      <td>1460</td>\n",
              "    </tr>\n",
              "  </tbody>\n",
              "</table>\n",
              "<p>167 rows × 10 columns</p>\n",
              "</div>\n",
              "    <div class=\"colab-df-buttons\">\n",
              "\n",
              "  <div class=\"colab-df-container\">\n",
              "    <button class=\"colab-df-convert\" onclick=\"convertToInteractive('df-2ca3d470-f95e-411f-9ebc-672e0c1169b3')\"\n",
              "            title=\"Convert this dataframe to an interactive table.\"\n",
              "            style=\"display:none;\">\n",
              "\n",
              "  <svg xmlns=\"http://www.w3.org/2000/svg\" height=\"24px\" viewBox=\"0 -960 960 960\">\n",
              "    <path d=\"M120-120v-720h720v720H120Zm60-500h600v-160H180v160Zm220 220h160v-160H400v160Zm0 220h160v-160H400v160ZM180-400h160v-160H180v160Zm440 0h160v-160H620v160ZM180-180h160v-160H180v160Zm440 0h160v-160H620v160Z\"/>\n",
              "  </svg>\n",
              "    </button>\n",
              "\n",
              "  <style>\n",
              "    .colab-df-container {\n",
              "      display:flex;\n",
              "      gap: 12px;\n",
              "    }\n",
              "\n",
              "    .colab-df-convert {\n",
              "      background-color: #E8F0FE;\n",
              "      border: none;\n",
              "      border-radius: 50%;\n",
              "      cursor: pointer;\n",
              "      display: none;\n",
              "      fill: #1967D2;\n",
              "      height: 32px;\n",
              "      padding: 0 0 0 0;\n",
              "      width: 32px;\n",
              "    }\n",
              "\n",
              "    .colab-df-convert:hover {\n",
              "      background-color: #E2EBFA;\n",
              "      box-shadow: 0px 1px 2px rgba(60, 64, 67, 0.3), 0px 1px 3px 1px rgba(60, 64, 67, 0.15);\n",
              "      fill: #174EA6;\n",
              "    }\n",
              "\n",
              "    .colab-df-buttons div {\n",
              "      margin-bottom: 4px;\n",
              "    }\n",
              "\n",
              "    [theme=dark] .colab-df-convert {\n",
              "      background-color: #3B4455;\n",
              "      fill: #D2E3FC;\n",
              "    }\n",
              "\n",
              "    [theme=dark] .colab-df-convert:hover {\n",
              "      background-color: #434B5C;\n",
              "      box-shadow: 0px 1px 3px 1px rgba(0, 0, 0, 0.15);\n",
              "      filter: drop-shadow(0px 1px 2px rgba(0, 0, 0, 0.3));\n",
              "      fill: #FFFFFF;\n",
              "    }\n",
              "  </style>\n",
              "\n",
              "    <script>\n",
              "      const buttonEl =\n",
              "        document.querySelector('#df-2ca3d470-f95e-411f-9ebc-672e0c1169b3 button.colab-df-convert');\n",
              "      buttonEl.style.display =\n",
              "        google.colab.kernel.accessAllowed ? 'block' : 'none';\n",
              "\n",
              "      async function convertToInteractive(key) {\n",
              "        const element = document.querySelector('#df-2ca3d470-f95e-411f-9ebc-672e0c1169b3');\n",
              "        const dataTable =\n",
              "          await google.colab.kernel.invokeFunction('convertToInteractive',\n",
              "                                                    [key], {});\n",
              "        if (!dataTable) return;\n",
              "\n",
              "        const docLinkHtml = 'Like what you see? Visit the ' +\n",
              "          '<a target=\"_blank\" href=https://colab.research.google.com/notebooks/data_table.ipynb>data table notebook</a>'\n",
              "          + ' to learn more about interactive tables.';\n",
              "        element.innerHTML = '';\n",
              "        dataTable['output_type'] = 'display_data';\n",
              "        await google.colab.output.renderOutput(dataTable, element);\n",
              "        const docLink = document.createElement('div');\n",
              "        docLink.innerHTML = docLinkHtml;\n",
              "        element.appendChild(docLink);\n",
              "      }\n",
              "    </script>\n",
              "  </div>\n",
              "\n",
              "\n",
              "    <div id=\"df-a2236ab3-e43a-47de-9b77-c378b84f24a9\">\n",
              "      <button class=\"colab-df-quickchart\" onclick=\"quickchart('df-a2236ab3-e43a-47de-9b77-c378b84f24a9')\"\n",
              "                title=\"Suggest charts\"\n",
              "                style=\"display:none;\">\n",
              "\n",
              "<svg xmlns=\"http://www.w3.org/2000/svg\" height=\"24px\"viewBox=\"0 0 24 24\"\n",
              "     width=\"24px\">\n",
              "    <g>\n",
              "        <path d=\"M19 3H5c-1.1 0-2 .9-2 2v14c0 1.1.9 2 2 2h14c1.1 0 2-.9 2-2V5c0-1.1-.9-2-2-2zM9 17H7v-7h2v7zm4 0h-2V7h2v10zm4 0h-2v-4h2v4z\"/>\n",
              "    </g>\n",
              "</svg>\n",
              "      </button>\n",
              "\n",
              "<style>\n",
              "  .colab-df-quickchart {\n",
              "      --bg-color: #E8F0FE;\n",
              "      --fill-color: #1967D2;\n",
              "      --hover-bg-color: #E2EBFA;\n",
              "      --hover-fill-color: #174EA6;\n",
              "      --disabled-fill-color: #AAA;\n",
              "      --disabled-bg-color: #DDD;\n",
              "  }\n",
              "\n",
              "  [theme=dark] .colab-df-quickchart {\n",
              "      --bg-color: #3B4455;\n",
              "      --fill-color: #D2E3FC;\n",
              "      --hover-bg-color: #434B5C;\n",
              "      --hover-fill-color: #FFFFFF;\n",
              "      --disabled-bg-color: #3B4455;\n",
              "      --disabled-fill-color: #666;\n",
              "  }\n",
              "\n",
              "  .colab-df-quickchart {\n",
              "    background-color: var(--bg-color);\n",
              "    border: none;\n",
              "    border-radius: 50%;\n",
              "    cursor: pointer;\n",
              "    display: none;\n",
              "    fill: var(--fill-color);\n",
              "    height: 32px;\n",
              "    padding: 0;\n",
              "    width: 32px;\n",
              "  }\n",
              "\n",
              "  .colab-df-quickchart:hover {\n",
              "    background-color: var(--hover-bg-color);\n",
              "    box-shadow: 0 1px 2px rgba(60, 64, 67, 0.3), 0 1px 3px 1px rgba(60, 64, 67, 0.15);\n",
              "    fill: var(--button-hover-fill-color);\n",
              "  }\n",
              "\n",
              "  .colab-df-quickchart-complete:disabled,\n",
              "  .colab-df-quickchart-complete:disabled:hover {\n",
              "    background-color: var(--disabled-bg-color);\n",
              "    fill: var(--disabled-fill-color);\n",
              "    box-shadow: none;\n",
              "  }\n",
              "\n",
              "  .colab-df-spinner {\n",
              "    border: 2px solid var(--fill-color);\n",
              "    border-color: transparent;\n",
              "    border-bottom-color: var(--fill-color);\n",
              "    animation:\n",
              "      spin 1s steps(1) infinite;\n",
              "  }\n",
              "\n",
              "  @keyframes spin {\n",
              "    0% {\n",
              "      border-color: transparent;\n",
              "      border-bottom-color: var(--fill-color);\n",
              "      border-left-color: var(--fill-color);\n",
              "    }\n",
              "    20% {\n",
              "      border-color: transparent;\n",
              "      border-left-color: var(--fill-color);\n",
              "      border-top-color: var(--fill-color);\n",
              "    }\n",
              "    30% {\n",
              "      border-color: transparent;\n",
              "      border-left-color: var(--fill-color);\n",
              "      border-top-color: var(--fill-color);\n",
              "      border-right-color: var(--fill-color);\n",
              "    }\n",
              "    40% {\n",
              "      border-color: transparent;\n",
              "      border-right-color: var(--fill-color);\n",
              "      border-top-color: var(--fill-color);\n",
              "    }\n",
              "    60% {\n",
              "      border-color: transparent;\n",
              "      border-right-color: var(--fill-color);\n",
              "    }\n",
              "    80% {\n",
              "      border-color: transparent;\n",
              "      border-right-color: var(--fill-color);\n",
              "      border-bottom-color: var(--fill-color);\n",
              "    }\n",
              "    90% {\n",
              "      border-color: transparent;\n",
              "      border-bottom-color: var(--fill-color);\n",
              "    }\n",
              "  }\n",
              "</style>\n",
              "\n",
              "      <script>\n",
              "        async function quickchart(key) {\n",
              "          const quickchartButtonEl =\n",
              "            document.querySelector('#' + key + ' button');\n",
              "          quickchartButtonEl.disabled = true;  // To prevent multiple clicks.\n",
              "          quickchartButtonEl.classList.add('colab-df-spinner');\n",
              "          try {\n",
              "            const charts = await google.colab.kernel.invokeFunction(\n",
              "                'suggestCharts', [key], {});\n",
              "          } catch (error) {\n",
              "            console.error('Error during call to suggestCharts:', error);\n",
              "          }\n",
              "          quickchartButtonEl.classList.remove('colab-df-spinner');\n",
              "          quickchartButtonEl.classList.add('colab-df-quickchart-complete');\n",
              "        }\n",
              "        (() => {\n",
              "          let quickchartButtonEl =\n",
              "            document.querySelector('#df-a2236ab3-e43a-47de-9b77-c378b84f24a9 button');\n",
              "          quickchartButtonEl.style.display =\n",
              "            google.colab.kernel.accessAllowed ? 'block' : 'none';\n",
              "        })();\n",
              "      </script>\n",
              "    </div>\n",
              "\n",
              "  <div id=\"id_ca54d843-c053-4c00-8eda-f1e2adf1b864\">\n",
              "    <style>\n",
              "      .colab-df-generate {\n",
              "        background-color: #E8F0FE;\n",
              "        border: none;\n",
              "        border-radius: 50%;\n",
              "        cursor: pointer;\n",
              "        display: none;\n",
              "        fill: #1967D2;\n",
              "        height: 32px;\n",
              "        padding: 0 0 0 0;\n",
              "        width: 32px;\n",
              "      }\n",
              "\n",
              "      .colab-df-generate:hover {\n",
              "        background-color: #E2EBFA;\n",
              "        box-shadow: 0px 1px 2px rgba(60, 64, 67, 0.3), 0px 1px 3px 1px rgba(60, 64, 67, 0.15);\n",
              "        fill: #174EA6;\n",
              "      }\n",
              "\n",
              "      [theme=dark] .colab-df-generate {\n",
              "        background-color: #3B4455;\n",
              "        fill: #D2E3FC;\n",
              "      }\n",
              "\n",
              "      [theme=dark] .colab-df-generate:hover {\n",
              "        background-color: #434B5C;\n",
              "        box-shadow: 0px 1px 3px 1px rgba(0, 0, 0, 0.15);\n",
              "        filter: drop-shadow(0px 1px 2px rgba(0, 0, 0, 0.3));\n",
              "        fill: #FFFFFF;\n",
              "      }\n",
              "    </style>\n",
              "    <button class=\"colab-df-generate\" onclick=\"generateWithVariable('df')\"\n",
              "            title=\"Generate code using this dataframe.\"\n",
              "            style=\"display:none;\">\n",
              "\n",
              "  <svg xmlns=\"http://www.w3.org/2000/svg\" height=\"24px\"viewBox=\"0 0 24 24\"\n",
              "       width=\"24px\">\n",
              "    <path d=\"M7,19H8.4L18.45,9,17,7.55,7,17.6ZM5,21V16.75L18.45,3.32a2,2,0,0,1,2.83,0l1.4,1.43a1.91,1.91,0,0,1,.58,1.4,1.91,1.91,0,0,1-.58,1.4L9.25,21ZM18.45,9,17,7.55Zm-12,3A5.31,5.31,0,0,0,4.9,8.1,5.31,5.31,0,0,0,1,6.5,5.31,5.31,0,0,0,4.9,4.9,5.31,5.31,0,0,0,6.5,1,5.31,5.31,0,0,0,8.1,4.9,5.31,5.31,0,0,0,12,6.5,5.46,5.46,0,0,0,6.5,12Z\"/>\n",
              "  </svg>\n",
              "    </button>\n",
              "    <script>\n",
              "      (() => {\n",
              "      const buttonEl =\n",
              "        document.querySelector('#id_ca54d843-c053-4c00-8eda-f1e2adf1b864 button.colab-df-generate');\n",
              "      buttonEl.style.display =\n",
              "        google.colab.kernel.accessAllowed ? 'block' : 'none';\n",
              "\n",
              "      buttonEl.onclick = () => {\n",
              "        google.colab.notebook.generateWithVariable('df');\n",
              "      }\n",
              "      })();\n",
              "    </script>\n",
              "  </div>\n",
              "\n",
              "    </div>\n",
              "  </div>\n"
            ],
            "application/vnd.google.colaboratory.intrinsic+json": {
              "type": "dataframe",
              "variable_name": "df",
              "summary": "{\n  \"name\": \"df\",\n  \"rows\": 167,\n  \"fields\": [\n    {\n      \"column\": \"country\",\n      \"properties\": {\n        \"dtype\": \"string\",\n        \"num_unique_values\": 167,\n        \"samples\": [\n          \"Micronesia, Fed. Sts.\",\n          \"Namibia\",\n          \"Jordan\"\n        ],\n        \"semantic_type\": \"\",\n        \"description\": \"\"\n      }\n    },\n    {\n      \"column\": \"child_mort\",\n      \"properties\": {\n        \"dtype\": \"number\",\n        \"std\": 40.32893145927618,\n        \"min\": 2.6,\n        \"max\": 208.0,\n        \"num_unique_values\": 139,\n        \"samples\": [\n          17.1,\n          36.9,\n          149.0\n        ],\n        \"semantic_type\": \"\",\n        \"description\": \"\"\n      }\n    },\n    {\n      \"column\": \"exports\",\n      \"properties\": {\n        \"dtype\": \"number\",\n        \"std\": 27.41201011142416,\n        \"min\": 0.109,\n        \"max\": 200.0,\n        \"num_unique_values\": 147,\n        \"samples\": [\n          28.6,\n          57.8,\n          20.4\n        ],\n        \"semantic_type\": \"\",\n        \"description\": \"\"\n      }\n    },\n    {\n      \"column\": \"health\",\n      \"properties\": {\n        \"dtype\": \"number\",\n        \"std\": 2.74683749788908,\n        \"min\": 1.81,\n        \"max\": 17.9,\n        \"num_unique_values\": 147,\n        \"samples\": [\n          9.54,\n          8.95,\n          3.66\n        ],\n        \"semantic_type\": \"\",\n        \"description\": \"\"\n      }\n    },\n    {\n      \"column\": \"imports\",\n      \"properties\": {\n        \"dtype\": \"number\",\n        \"std\": 24.209588976108694,\n        \"min\": 0.0659,\n        \"max\": 174.0,\n        \"num_unique_values\": 151,\n        \"samples\": [\n          79.9,\n          70.7,\n          101.0\n        ],\n        \"semantic_type\": \"\",\n        \"description\": \"\"\n      }\n    },\n    {\n      \"column\": \"income\",\n      \"properties\": {\n        \"dtype\": \"number\",\n        \"std\": 19278,\n        \"min\": 609,\n        \"max\": 125000,\n        \"num_unique_values\": 156,\n        \"samples\": [\n          7710,\n          17400,\n          18300\n        ],\n        \"semantic_type\": \"\",\n        \"description\": \"\"\n      }\n    },\n    {\n      \"column\": \"inflation\",\n      \"properties\": {\n        \"dtype\": \"number\",\n        \"std\": 10.570703901430559,\n        \"min\": -4.21,\n        \"max\": 104.0,\n        \"num_unique_values\": 156,\n        \"samples\": [\n          3.8,\n          -3.22,\n          0.238\n        ],\n        \"semantic_type\": \"\",\n        \"description\": \"\"\n      }\n    },\n    {\n      \"column\": \"life_expec\",\n      \"properties\": {\n        \"dtype\": \"number\",\n        \"std\": 8.89317190890041,\n        \"min\": 32.1,\n        \"max\": 82.8,\n        \"num_unique_values\": 127,\n        \"samples\": [\n          57.3,\n          81.5,\n          68.2\n        ],\n        \"semantic_type\": \"\",\n        \"description\": \"\"\n      }\n    },\n    {\n      \"column\": \"total_fer\",\n      \"properties\": {\n        \"dtype\": \"number\",\n        \"std\": 1.5138475432630463,\n        \"min\": 1.15,\n        \"max\": 7.49,\n        \"num_unique_values\": 138,\n        \"samples\": [\n          1.27,\n          3.16,\n          2.33\n        ],\n        \"semantic_type\": \"\",\n        \"description\": \"\"\n      }\n    },\n    {\n      \"column\": \"gdpp\",\n      \"properties\": {\n        \"dtype\": \"number\",\n        \"std\": 18328,\n        \"min\": 231,\n        \"max\": 105000,\n        \"num_unique_values\": 157,\n        \"samples\": [\n          10800,\n          4660,\n          22100\n        ],\n        \"semantic_type\": \"\",\n        \"description\": \"\"\n      }\n    }\n  ]\n}"
            }
          },
          "metadata": {},
          "execution_count": 5
        }
      ]
    },
    {
      "cell_type": "markdown",
      "source": [
        "2. Muestra las 5 primeras filas"
      ],
      "metadata": {
        "id": "V_EaczDdz7Yl"
      }
    },
    {
      "cell_type": "code",
      "source": [
        "print(\"Primeras filas:\")\n",
        "### TU CÓDIGO AQUÍ ###\n",
        "df.head()"
      ],
      "metadata": {
        "id": "Y2047OZSG9qs",
        "colab": {
          "base_uri": "https://localhost:8080/",
          "height": 224
        },
        "outputId": "398ac7fd-00d1-46cc-bb43-7e3273f9853b"
      },
      "execution_count": 6,
      "outputs": [
        {
          "output_type": "stream",
          "name": "stdout",
          "text": [
            "Primeras filas:\n"
          ]
        },
        {
          "output_type": "execute_result",
          "data": {
            "text/plain": [
              "               country  child_mort  exports  health  imports  income  \\\n",
              "0          Afghanistan       90.20    10.00    7.58    44.90    1610   \n",
              "1              Albania       16.60    28.00    6.55    48.60    9930   \n",
              "2              Algeria       27.30    38.40    4.17    31.40   12900   \n",
              "3               Angola      119.00    62.30    2.85    42.90    5900   \n",
              "4  Antigua and Barbuda       10.30    45.50    6.03    58.90   19100   \n",
              "\n",
              "   inflation  life_expec  total_fer   gdpp  \n",
              "0       9.44       56.20       5.82    553  \n",
              "1       4.49       76.30       1.65   4090  \n",
              "2      16.10       76.50       2.89   4460  \n",
              "3      22.40       60.10       6.16   3530  \n",
              "4       1.44       76.80       2.13  12200  "
            ],
            "text/html": [
              "\n",
              "  <div id=\"df-73085784-7c5d-4c80-8098-8df7f0e62b85\" class=\"colab-df-container\">\n",
              "    <div>\n",
              "<style scoped>\n",
              "    .dataframe tbody tr th:only-of-type {\n",
              "        vertical-align: middle;\n",
              "    }\n",
              "\n",
              "    .dataframe tbody tr th {\n",
              "        vertical-align: top;\n",
              "    }\n",
              "\n",
              "    .dataframe thead th {\n",
              "        text-align: right;\n",
              "    }\n",
              "</style>\n",
              "<table border=\"1\" class=\"dataframe\">\n",
              "  <thead>\n",
              "    <tr style=\"text-align: right;\">\n",
              "      <th></th>\n",
              "      <th>country</th>\n",
              "      <th>child_mort</th>\n",
              "      <th>exports</th>\n",
              "      <th>health</th>\n",
              "      <th>imports</th>\n",
              "      <th>income</th>\n",
              "      <th>inflation</th>\n",
              "      <th>life_expec</th>\n",
              "      <th>total_fer</th>\n",
              "      <th>gdpp</th>\n",
              "    </tr>\n",
              "  </thead>\n",
              "  <tbody>\n",
              "    <tr>\n",
              "      <th>0</th>\n",
              "      <td>Afghanistan</td>\n",
              "      <td>90.20</td>\n",
              "      <td>10.00</td>\n",
              "      <td>7.58</td>\n",
              "      <td>44.90</td>\n",
              "      <td>1610</td>\n",
              "      <td>9.44</td>\n",
              "      <td>56.20</td>\n",
              "      <td>5.82</td>\n",
              "      <td>553</td>\n",
              "    </tr>\n",
              "    <tr>\n",
              "      <th>1</th>\n",
              "      <td>Albania</td>\n",
              "      <td>16.60</td>\n",
              "      <td>28.00</td>\n",
              "      <td>6.55</td>\n",
              "      <td>48.60</td>\n",
              "      <td>9930</td>\n",
              "      <td>4.49</td>\n",
              "      <td>76.30</td>\n",
              "      <td>1.65</td>\n",
              "      <td>4090</td>\n",
              "    </tr>\n",
              "    <tr>\n",
              "      <th>2</th>\n",
              "      <td>Algeria</td>\n",
              "      <td>27.30</td>\n",
              "      <td>38.40</td>\n",
              "      <td>4.17</td>\n",
              "      <td>31.40</td>\n",
              "      <td>12900</td>\n",
              "      <td>16.10</td>\n",
              "      <td>76.50</td>\n",
              "      <td>2.89</td>\n",
              "      <td>4460</td>\n",
              "    </tr>\n",
              "    <tr>\n",
              "      <th>3</th>\n",
              "      <td>Angola</td>\n",
              "      <td>119.00</td>\n",
              "      <td>62.30</td>\n",
              "      <td>2.85</td>\n",
              "      <td>42.90</td>\n",
              "      <td>5900</td>\n",
              "      <td>22.40</td>\n",
              "      <td>60.10</td>\n",
              "      <td>6.16</td>\n",
              "      <td>3530</td>\n",
              "    </tr>\n",
              "    <tr>\n",
              "      <th>4</th>\n",
              "      <td>Antigua and Barbuda</td>\n",
              "      <td>10.30</td>\n",
              "      <td>45.50</td>\n",
              "      <td>6.03</td>\n",
              "      <td>58.90</td>\n",
              "      <td>19100</td>\n",
              "      <td>1.44</td>\n",
              "      <td>76.80</td>\n",
              "      <td>2.13</td>\n",
              "      <td>12200</td>\n",
              "    </tr>\n",
              "  </tbody>\n",
              "</table>\n",
              "</div>\n",
              "    <div class=\"colab-df-buttons\">\n",
              "\n",
              "  <div class=\"colab-df-container\">\n",
              "    <button class=\"colab-df-convert\" onclick=\"convertToInteractive('df-73085784-7c5d-4c80-8098-8df7f0e62b85')\"\n",
              "            title=\"Convert this dataframe to an interactive table.\"\n",
              "            style=\"display:none;\">\n",
              "\n",
              "  <svg xmlns=\"http://www.w3.org/2000/svg\" height=\"24px\" viewBox=\"0 -960 960 960\">\n",
              "    <path d=\"M120-120v-720h720v720H120Zm60-500h600v-160H180v160Zm220 220h160v-160H400v160Zm0 220h160v-160H400v160ZM180-400h160v-160H180v160Zm440 0h160v-160H620v160ZM180-180h160v-160H180v160Zm440 0h160v-160H620v160Z\"/>\n",
              "  </svg>\n",
              "    </button>\n",
              "\n",
              "  <style>\n",
              "    .colab-df-container {\n",
              "      display:flex;\n",
              "      gap: 12px;\n",
              "    }\n",
              "\n",
              "    .colab-df-convert {\n",
              "      background-color: #E8F0FE;\n",
              "      border: none;\n",
              "      border-radius: 50%;\n",
              "      cursor: pointer;\n",
              "      display: none;\n",
              "      fill: #1967D2;\n",
              "      height: 32px;\n",
              "      padding: 0 0 0 0;\n",
              "      width: 32px;\n",
              "    }\n",
              "\n",
              "    .colab-df-convert:hover {\n",
              "      background-color: #E2EBFA;\n",
              "      box-shadow: 0px 1px 2px rgba(60, 64, 67, 0.3), 0px 1px 3px 1px rgba(60, 64, 67, 0.15);\n",
              "      fill: #174EA6;\n",
              "    }\n",
              "\n",
              "    .colab-df-buttons div {\n",
              "      margin-bottom: 4px;\n",
              "    }\n",
              "\n",
              "    [theme=dark] .colab-df-convert {\n",
              "      background-color: #3B4455;\n",
              "      fill: #D2E3FC;\n",
              "    }\n",
              "\n",
              "    [theme=dark] .colab-df-convert:hover {\n",
              "      background-color: #434B5C;\n",
              "      box-shadow: 0px 1px 3px 1px rgba(0, 0, 0, 0.15);\n",
              "      filter: drop-shadow(0px 1px 2px rgba(0, 0, 0, 0.3));\n",
              "      fill: #FFFFFF;\n",
              "    }\n",
              "  </style>\n",
              "\n",
              "    <script>\n",
              "      const buttonEl =\n",
              "        document.querySelector('#df-73085784-7c5d-4c80-8098-8df7f0e62b85 button.colab-df-convert');\n",
              "      buttonEl.style.display =\n",
              "        google.colab.kernel.accessAllowed ? 'block' : 'none';\n",
              "\n",
              "      async function convertToInteractive(key) {\n",
              "        const element = document.querySelector('#df-73085784-7c5d-4c80-8098-8df7f0e62b85');\n",
              "        const dataTable =\n",
              "          await google.colab.kernel.invokeFunction('convertToInteractive',\n",
              "                                                    [key], {});\n",
              "        if (!dataTable) return;\n",
              "\n",
              "        const docLinkHtml = 'Like what you see? Visit the ' +\n",
              "          '<a target=\"_blank\" href=https://colab.research.google.com/notebooks/data_table.ipynb>data table notebook</a>'\n",
              "          + ' to learn more about interactive tables.';\n",
              "        element.innerHTML = '';\n",
              "        dataTable['output_type'] = 'display_data';\n",
              "        await google.colab.output.renderOutput(dataTable, element);\n",
              "        const docLink = document.createElement('div');\n",
              "        docLink.innerHTML = docLinkHtml;\n",
              "        element.appendChild(docLink);\n",
              "      }\n",
              "    </script>\n",
              "  </div>\n",
              "\n",
              "\n",
              "    <div id=\"df-169315b9-3c8e-4261-860b-6281e365c3d5\">\n",
              "      <button class=\"colab-df-quickchart\" onclick=\"quickchart('df-169315b9-3c8e-4261-860b-6281e365c3d5')\"\n",
              "                title=\"Suggest charts\"\n",
              "                style=\"display:none;\">\n",
              "\n",
              "<svg xmlns=\"http://www.w3.org/2000/svg\" height=\"24px\"viewBox=\"0 0 24 24\"\n",
              "     width=\"24px\">\n",
              "    <g>\n",
              "        <path d=\"M19 3H5c-1.1 0-2 .9-2 2v14c0 1.1.9 2 2 2h14c1.1 0 2-.9 2-2V5c0-1.1-.9-2-2-2zM9 17H7v-7h2v7zm4 0h-2V7h2v10zm4 0h-2v-4h2v4z\"/>\n",
              "    </g>\n",
              "</svg>\n",
              "      </button>\n",
              "\n",
              "<style>\n",
              "  .colab-df-quickchart {\n",
              "      --bg-color: #E8F0FE;\n",
              "      --fill-color: #1967D2;\n",
              "      --hover-bg-color: #E2EBFA;\n",
              "      --hover-fill-color: #174EA6;\n",
              "      --disabled-fill-color: #AAA;\n",
              "      --disabled-bg-color: #DDD;\n",
              "  }\n",
              "\n",
              "  [theme=dark] .colab-df-quickchart {\n",
              "      --bg-color: #3B4455;\n",
              "      --fill-color: #D2E3FC;\n",
              "      --hover-bg-color: #434B5C;\n",
              "      --hover-fill-color: #FFFFFF;\n",
              "      --disabled-bg-color: #3B4455;\n",
              "      --disabled-fill-color: #666;\n",
              "  }\n",
              "\n",
              "  .colab-df-quickchart {\n",
              "    background-color: var(--bg-color);\n",
              "    border: none;\n",
              "    border-radius: 50%;\n",
              "    cursor: pointer;\n",
              "    display: none;\n",
              "    fill: var(--fill-color);\n",
              "    height: 32px;\n",
              "    padding: 0;\n",
              "    width: 32px;\n",
              "  }\n",
              "\n",
              "  .colab-df-quickchart:hover {\n",
              "    background-color: var(--hover-bg-color);\n",
              "    box-shadow: 0 1px 2px rgba(60, 64, 67, 0.3), 0 1px 3px 1px rgba(60, 64, 67, 0.15);\n",
              "    fill: var(--button-hover-fill-color);\n",
              "  }\n",
              "\n",
              "  .colab-df-quickchart-complete:disabled,\n",
              "  .colab-df-quickchart-complete:disabled:hover {\n",
              "    background-color: var(--disabled-bg-color);\n",
              "    fill: var(--disabled-fill-color);\n",
              "    box-shadow: none;\n",
              "  }\n",
              "\n",
              "  .colab-df-spinner {\n",
              "    border: 2px solid var(--fill-color);\n",
              "    border-color: transparent;\n",
              "    border-bottom-color: var(--fill-color);\n",
              "    animation:\n",
              "      spin 1s steps(1) infinite;\n",
              "  }\n",
              "\n",
              "  @keyframes spin {\n",
              "    0% {\n",
              "      border-color: transparent;\n",
              "      border-bottom-color: var(--fill-color);\n",
              "      border-left-color: var(--fill-color);\n",
              "    }\n",
              "    20% {\n",
              "      border-color: transparent;\n",
              "      border-left-color: var(--fill-color);\n",
              "      border-top-color: var(--fill-color);\n",
              "    }\n",
              "    30% {\n",
              "      border-color: transparent;\n",
              "      border-left-color: var(--fill-color);\n",
              "      border-top-color: var(--fill-color);\n",
              "      border-right-color: var(--fill-color);\n",
              "    }\n",
              "    40% {\n",
              "      border-color: transparent;\n",
              "      border-right-color: var(--fill-color);\n",
              "      border-top-color: var(--fill-color);\n",
              "    }\n",
              "    60% {\n",
              "      border-color: transparent;\n",
              "      border-right-color: var(--fill-color);\n",
              "    }\n",
              "    80% {\n",
              "      border-color: transparent;\n",
              "      border-right-color: var(--fill-color);\n",
              "      border-bottom-color: var(--fill-color);\n",
              "    }\n",
              "    90% {\n",
              "      border-color: transparent;\n",
              "      border-bottom-color: var(--fill-color);\n",
              "    }\n",
              "  }\n",
              "</style>\n",
              "\n",
              "      <script>\n",
              "        async function quickchart(key) {\n",
              "          const quickchartButtonEl =\n",
              "            document.querySelector('#' + key + ' button');\n",
              "          quickchartButtonEl.disabled = true;  // To prevent multiple clicks.\n",
              "          quickchartButtonEl.classList.add('colab-df-spinner');\n",
              "          try {\n",
              "            const charts = await google.colab.kernel.invokeFunction(\n",
              "                'suggestCharts', [key], {});\n",
              "          } catch (error) {\n",
              "            console.error('Error during call to suggestCharts:', error);\n",
              "          }\n",
              "          quickchartButtonEl.classList.remove('colab-df-spinner');\n",
              "          quickchartButtonEl.classList.add('colab-df-quickchart-complete');\n",
              "        }\n",
              "        (() => {\n",
              "          let quickchartButtonEl =\n",
              "            document.querySelector('#df-169315b9-3c8e-4261-860b-6281e365c3d5 button');\n",
              "          quickchartButtonEl.style.display =\n",
              "            google.colab.kernel.accessAllowed ? 'block' : 'none';\n",
              "        })();\n",
              "      </script>\n",
              "    </div>\n",
              "\n",
              "    </div>\n",
              "  </div>\n"
            ],
            "application/vnd.google.colaboratory.intrinsic+json": {
              "type": "dataframe",
              "variable_name": "df",
              "summary": "{\n  \"name\": \"df\",\n  \"rows\": 167,\n  \"fields\": [\n    {\n      \"column\": \"country\",\n      \"properties\": {\n        \"dtype\": \"string\",\n        \"num_unique_values\": 167,\n        \"samples\": [\n          \"Micronesia, Fed. Sts.\",\n          \"Namibia\",\n          \"Jordan\"\n        ],\n        \"semantic_type\": \"\",\n        \"description\": \"\"\n      }\n    },\n    {\n      \"column\": \"child_mort\",\n      \"properties\": {\n        \"dtype\": \"number\",\n        \"std\": 40.32893145927618,\n        \"min\": 2.6,\n        \"max\": 208.0,\n        \"num_unique_values\": 139,\n        \"samples\": [\n          17.1,\n          36.9,\n          149.0\n        ],\n        \"semantic_type\": \"\",\n        \"description\": \"\"\n      }\n    },\n    {\n      \"column\": \"exports\",\n      \"properties\": {\n        \"dtype\": \"number\",\n        \"std\": 27.41201011142416,\n        \"min\": 0.109,\n        \"max\": 200.0,\n        \"num_unique_values\": 147,\n        \"samples\": [\n          28.6,\n          57.8,\n          20.4\n        ],\n        \"semantic_type\": \"\",\n        \"description\": \"\"\n      }\n    },\n    {\n      \"column\": \"health\",\n      \"properties\": {\n        \"dtype\": \"number\",\n        \"std\": 2.74683749788908,\n        \"min\": 1.81,\n        \"max\": 17.9,\n        \"num_unique_values\": 147,\n        \"samples\": [\n          9.54,\n          8.95,\n          3.66\n        ],\n        \"semantic_type\": \"\",\n        \"description\": \"\"\n      }\n    },\n    {\n      \"column\": \"imports\",\n      \"properties\": {\n        \"dtype\": \"number\",\n        \"std\": 24.209588976108694,\n        \"min\": 0.0659,\n        \"max\": 174.0,\n        \"num_unique_values\": 151,\n        \"samples\": [\n          79.9,\n          70.7,\n          101.0\n        ],\n        \"semantic_type\": \"\",\n        \"description\": \"\"\n      }\n    },\n    {\n      \"column\": \"income\",\n      \"properties\": {\n        \"dtype\": \"number\",\n        \"std\": 19278,\n        \"min\": 609,\n        \"max\": 125000,\n        \"num_unique_values\": 156,\n        \"samples\": [\n          7710,\n          17400,\n          18300\n        ],\n        \"semantic_type\": \"\",\n        \"description\": \"\"\n      }\n    },\n    {\n      \"column\": \"inflation\",\n      \"properties\": {\n        \"dtype\": \"number\",\n        \"std\": 10.570703901430559,\n        \"min\": -4.21,\n        \"max\": 104.0,\n        \"num_unique_values\": 156,\n        \"samples\": [\n          3.8,\n          -3.22,\n          0.238\n        ],\n        \"semantic_type\": \"\",\n        \"description\": \"\"\n      }\n    },\n    {\n      \"column\": \"life_expec\",\n      \"properties\": {\n        \"dtype\": \"number\",\n        \"std\": 8.89317190890041,\n        \"min\": 32.1,\n        \"max\": 82.8,\n        \"num_unique_values\": 127,\n        \"samples\": [\n          57.3,\n          81.5,\n          68.2\n        ],\n        \"semantic_type\": \"\",\n        \"description\": \"\"\n      }\n    },\n    {\n      \"column\": \"total_fer\",\n      \"properties\": {\n        \"dtype\": \"number\",\n        \"std\": 1.5138475432630463,\n        \"min\": 1.15,\n        \"max\": 7.49,\n        \"num_unique_values\": 138,\n        \"samples\": [\n          1.27,\n          3.16,\n          2.33\n        ],\n        \"semantic_type\": \"\",\n        \"description\": \"\"\n      }\n    },\n    {\n      \"column\": \"gdpp\",\n      \"properties\": {\n        \"dtype\": \"number\",\n        \"std\": 18328,\n        \"min\": 231,\n        \"max\": 105000,\n        \"num_unique_values\": 157,\n        \"samples\": [\n          10800,\n          4660,\n          22100\n        ],\n        \"semantic_type\": \"\",\n        \"description\": \"\"\n      }\n    }\n  ]\n}"
            }
          },
          "metadata": {},
          "execution_count": 6
        }
      ]
    },
    {
      "cell_type": "markdown",
      "source": [
        "3. Obtén información general del dataset como tipos de datos, número de filas y columnas, cantidad de valores faltantes"
      ],
      "metadata": {
        "id": "692DcQzY0BPf"
      }
    },
    {
      "cell_type": "code",
      "source": [
        "print(\"\\nInformación del DataFrame:\")\n",
        "### TU CÓDIGO AQUÍ ###\n",
        "print(df.info())"
      ],
      "metadata": {
        "id": "sMIVCo1xHBkW",
        "colab": {
          "base_uri": "https://localhost:8080/"
        },
        "outputId": "cacca78f-3887-4a24-dd2b-69b85e0104ad"
      },
      "execution_count": 7,
      "outputs": [
        {
          "output_type": "stream",
          "name": "stdout",
          "text": [
            "\n",
            "Información del DataFrame:\n",
            "<class 'pandas.core.frame.DataFrame'>\n",
            "RangeIndex: 167 entries, 0 to 166\n",
            "Data columns (total 10 columns):\n",
            " #   Column      Non-Null Count  Dtype  \n",
            "---  ------      --------------  -----  \n",
            " 0   country     167 non-null    object \n",
            " 1   child_mort  167 non-null    float64\n",
            " 2   exports     167 non-null    float64\n",
            " 3   health      167 non-null    float64\n",
            " 4   imports     167 non-null    float64\n",
            " 5   income      167 non-null    int64  \n",
            " 6   inflation   167 non-null    float64\n",
            " 7   life_expec  167 non-null    float64\n",
            " 8   total_fer   167 non-null    float64\n",
            " 9   gdpp        167 non-null    int64  \n",
            "dtypes: float64(7), int64(2), object(1)\n",
            "memory usage: 13.2+ KB\n",
            "None\n"
          ]
        }
      ]
    },
    {
      "cell_type": "markdown",
      "source": [
        "4. Obtén las estadísticas descriptivas de las variables del dataset"
      ],
      "metadata": {
        "id": "IVstEafz0Izp"
      }
    },
    {
      "cell_type": "code",
      "source": [
        "print(\"\\nEstadísticas Descriptivas:\")\n",
        "### TU CÓDIGO AQUÍ ###\n",
        "print(df.describe())"
      ],
      "metadata": {
        "id": "Ibs4OFJAHGFb",
        "colab": {
          "base_uri": "https://localhost:8080/"
        },
        "outputId": "b83651b5-709e-4d80-eda1-e73ebc15fcdf"
      },
      "execution_count": 8,
      "outputs": [
        {
          "output_type": "stream",
          "name": "stdout",
          "text": [
            "\n",
            "Estadísticas Descriptivas:\n",
            "       child_mort  exports  health  imports     income  inflation  life_expec  \\\n",
            "count      167.00   167.00  167.00   167.00     167.00     167.00      167.00   \n",
            "mean        38.27    41.11    6.82    46.89  17,144.69       7.78       70.56   \n",
            "std         40.33    27.41    2.75    24.21  19,278.07      10.57        8.89   \n",
            "min          2.60     0.11    1.81     0.07     609.00      -4.21       32.10   \n",
            "25%          8.25    23.80    4.92    30.20   3,355.00       1.81       65.30   \n",
            "50%         19.30    35.00    6.32    43.30   9,960.00       5.39       73.10   \n",
            "75%         62.10    51.35    8.60    58.75  22,800.00      10.75       76.80   \n",
            "max        208.00   200.00   17.90   174.00 125,000.00     104.00       82.80   \n",
            "\n",
            "       total_fer       gdpp  \n",
            "count     167.00     167.00  \n",
            "mean        2.95  12,964.16  \n",
            "std         1.51  18,328.70  \n",
            "min         1.15     231.00  \n",
            "25%         1.79   1,330.00  \n",
            "50%         2.41   4,660.00  \n",
            "75%         3.88  14,050.00  \n",
            "max         7.49 105,000.00  \n"
          ]
        }
      ]
    },
    {
      "cell_type": "markdown",
      "source": [
        "5. ¿Hay valores nulos?"
      ],
      "metadata": {
        "id": "Bo9Pkwyevp1m"
      }
    },
    {
      "cell_type": "markdown",
      "source": [
        "Según la información obtenida del dataframe no hay valores nulos."
      ],
      "metadata": {
        "id": "_FfamUkO9sOi"
      }
    },
    {
      "cell_type": "markdown",
      "source": [
        "6. ¿Las escalas de las variables son muy diferentes?"
      ],
      "metadata": {
        "id": "kSLflTojvsBb"
      }
    },
    {
      "cell_type": "code",
      "source": [
        "Sí,las escalas de las variables son muy diferentes. Por ejemplo: el PIB per\n",
        "cápita (gdpp) tiene valores que van desde 231 hasta 105.000, con una media de\n",
        "12.964."
      ],
      "metadata": {
        "id": "RR-k-yA19pWJ"
      },
      "execution_count": null,
      "outputs": []
    },
    {
      "cell_type": "markdown",
      "source": [
        "7. ¿Qué implicaciones tiene esto para el análisis de clustering?\n"
      ],
      "metadata": {
        "id": "j3F_BlXlHKCq"
      }
    },
    {
      "cell_type": "markdown",
      "source": [
        "Para el K-Means, las distancias entre los puntos son fundamentales. Si las variables no están en la misma escala, las que tienen valores mayores dominarán el cálculo de las distancias, haciendo que tengan más peso esas variables y oculte el efecto de las demás.\n",
        "\n",
        "Por eso es necesario escalar o normalizar las variables antes de realizar el clustering, volviendolo más equilibrado."
      ],
      "metadata": {
        "id": "BTIUnN-g2q2m"
      }
    },
    {
      "cell_type": "markdown",
      "source": [
        "8. Redacta un análisis de las estadísticas descriptivas"
      ],
      "metadata": {
        "id": "GB-Pj6a00Sh7"
      }
    },
    {
      "cell_type": "markdown",
      "source": [
        "Las estadísticas muestran una alta heterogeneidad entre países. Variables como el PIB per cápita y el ingreso presentan grandes diferencias (con valores muy altos y una desviación estándar elevada), reflejando desigualdad económica. La mortalidad infantil y la esperanza de vida también evidencian contrastes en el nivel de desarrollo y salud. Además, la inflación, los niveles de comercio y la fertilidad total varían ampliamente, lo que confirma que los países analizados tienen condiciones socioeconómicas muy diversas."
      ],
      "metadata": {
        "id": "6S7rpLKl4eu0"
      }
    },
    {
      "cell_type": "markdown",
      "source": [
        "## Ejercicio 3: Preprocesamiento de Datos"
      ],
      "metadata": {
        "id": "dhIoMfZbHRWd"
      }
    },
    {
      "cell_type": "markdown",
      "source": [
        "1. Selecciona solo las variables numéricas para el clustering"
      ],
      "metadata": {
        "id": "5lCQgW_Gw4GZ"
      }
    },
    {
      "cell_type": "code",
      "source": [
        "### TU CÓDIGO AQUÍ ###\n",
        "df.columns\n",
        "X = df[['child_mort', 'exports', 'health', 'imports', 'income',\n",
        "       'inflation', 'life_expec', 'total_fer', 'gdpp']]"
      ],
      "metadata": {
        "id": "bLs61PokHby6"
      },
      "execution_count": 9,
      "outputs": []
    },
    {
      "cell_type": "markdown",
      "source": [
        "2. Estandariza las variables usando StandardScaler"
      ],
      "metadata": {
        "id": "qLoaxjOrw9mb"
      }
    },
    {
      "cell_type": "code",
      "source": [
        "### TU CÓDIGO AQUÍ ###\n",
        "scaler = StandardScaler()\n",
        "X_scaled = scaler.fit_transform(X)\n",
        "\n",
        "# Convertir a DataFrame para uso posterior\n",
        "X_scaled_df = pd.DataFrame(X_scaled, columns=['child_mort', 'exports', 'health', 'imports', 'income',\n",
        "       'inflation', 'life_expec', 'total_fer', 'gdpp'])\n",
        "X_scaled_df"
      ],
      "metadata": {
        "id": "Y1qR7zXYHnTi",
        "colab": {
          "base_uri": "https://localhost:8080/",
          "height": 424
        },
        "outputId": "88522efa-6c9d-466e-a583-fea43fda395e"
      },
      "execution_count": 10,
      "outputs": [
        {
          "output_type": "execute_result",
          "data": {
            "text/plain": [
              "     child_mort  exports  health  imports  income  inflation  life_expec  \\\n",
              "0          1.29    -1.14    0.28    -0.08   -0.81       0.16       -1.62   \n",
              "1         -0.54    -0.48   -0.10     0.07   -0.38      -0.31        0.65   \n",
              "2         -0.27    -0.10   -0.97    -0.64   -0.22       0.79        0.67   \n",
              "3          2.01     0.78   -1.45    -0.17   -0.59       1.39       -1.18   \n",
              "4         -0.70     0.16   -0.29     0.50    0.10      -0.60        0.70   \n",
              "..          ...      ...     ...      ...     ...        ...         ...   \n",
              "162       -0.23     0.20   -0.57     0.24   -0.74      -0.49       -0.85   \n",
              "163       -0.53    -0.46   -0.70    -1.21   -0.03       3.62        0.55   \n",
              "164       -0.37     1.13    0.01     1.38   -0.66       0.41        0.29   \n",
              "165        0.45    -0.41   -0.60    -0.52   -0.66       1.50       -0.34   \n",
              "166        1.11    -0.15   -0.34    -0.66   -0.72       0.59       -2.09   \n",
              "\n",
              "     total_fer  gdpp  \n",
              "0         1.90 -0.68  \n",
              "1        -0.86 -0.49  \n",
              "2        -0.04 -0.47  \n",
              "3         2.13 -0.52  \n",
              "4        -0.54 -0.04  \n",
              "..         ...   ...  \n",
              "162       0.37 -0.55  \n",
              "163      -0.32  0.03  \n",
              "164      -0.66 -0.64  \n",
              "165       1.14 -0.64  \n",
              "166       1.62 -0.63  \n",
              "\n",
              "[167 rows x 9 columns]"
            ],
            "text/html": [
              "\n",
              "  <div id=\"df-fdef351f-0ab0-44d9-ad2d-74a142d8eb8d\" class=\"colab-df-container\">\n",
              "    <div>\n",
              "<style scoped>\n",
              "    .dataframe tbody tr th:only-of-type {\n",
              "        vertical-align: middle;\n",
              "    }\n",
              "\n",
              "    .dataframe tbody tr th {\n",
              "        vertical-align: top;\n",
              "    }\n",
              "\n",
              "    .dataframe thead th {\n",
              "        text-align: right;\n",
              "    }\n",
              "</style>\n",
              "<table border=\"1\" class=\"dataframe\">\n",
              "  <thead>\n",
              "    <tr style=\"text-align: right;\">\n",
              "      <th></th>\n",
              "      <th>child_mort</th>\n",
              "      <th>exports</th>\n",
              "      <th>health</th>\n",
              "      <th>imports</th>\n",
              "      <th>income</th>\n",
              "      <th>inflation</th>\n",
              "      <th>life_expec</th>\n",
              "      <th>total_fer</th>\n",
              "      <th>gdpp</th>\n",
              "    </tr>\n",
              "  </thead>\n",
              "  <tbody>\n",
              "    <tr>\n",
              "      <th>0</th>\n",
              "      <td>1.29</td>\n",
              "      <td>-1.14</td>\n",
              "      <td>0.28</td>\n",
              "      <td>-0.08</td>\n",
              "      <td>-0.81</td>\n",
              "      <td>0.16</td>\n",
              "      <td>-1.62</td>\n",
              "      <td>1.90</td>\n",
              "      <td>-0.68</td>\n",
              "    </tr>\n",
              "    <tr>\n",
              "      <th>1</th>\n",
              "      <td>-0.54</td>\n",
              "      <td>-0.48</td>\n",
              "      <td>-0.10</td>\n",
              "      <td>0.07</td>\n",
              "      <td>-0.38</td>\n",
              "      <td>-0.31</td>\n",
              "      <td>0.65</td>\n",
              "      <td>-0.86</td>\n",
              "      <td>-0.49</td>\n",
              "    </tr>\n",
              "    <tr>\n",
              "      <th>2</th>\n",
              "      <td>-0.27</td>\n",
              "      <td>-0.10</td>\n",
              "      <td>-0.97</td>\n",
              "      <td>-0.64</td>\n",
              "      <td>-0.22</td>\n",
              "      <td>0.79</td>\n",
              "      <td>0.67</td>\n",
              "      <td>-0.04</td>\n",
              "      <td>-0.47</td>\n",
              "    </tr>\n",
              "    <tr>\n",
              "      <th>3</th>\n",
              "      <td>2.01</td>\n",
              "      <td>0.78</td>\n",
              "      <td>-1.45</td>\n",
              "      <td>-0.17</td>\n",
              "      <td>-0.59</td>\n",
              "      <td>1.39</td>\n",
              "      <td>-1.18</td>\n",
              "      <td>2.13</td>\n",
              "      <td>-0.52</td>\n",
              "    </tr>\n",
              "    <tr>\n",
              "      <th>4</th>\n",
              "      <td>-0.70</td>\n",
              "      <td>0.16</td>\n",
              "      <td>-0.29</td>\n",
              "      <td>0.50</td>\n",
              "      <td>0.10</td>\n",
              "      <td>-0.60</td>\n",
              "      <td>0.70</td>\n",
              "      <td>-0.54</td>\n",
              "      <td>-0.04</td>\n",
              "    </tr>\n",
              "    <tr>\n",
              "      <th>...</th>\n",
              "      <td>...</td>\n",
              "      <td>...</td>\n",
              "      <td>...</td>\n",
              "      <td>...</td>\n",
              "      <td>...</td>\n",
              "      <td>...</td>\n",
              "      <td>...</td>\n",
              "      <td>...</td>\n",
              "      <td>...</td>\n",
              "    </tr>\n",
              "    <tr>\n",
              "      <th>162</th>\n",
              "      <td>-0.23</td>\n",
              "      <td>0.20</td>\n",
              "      <td>-0.57</td>\n",
              "      <td>0.24</td>\n",
              "      <td>-0.74</td>\n",
              "      <td>-0.49</td>\n",
              "      <td>-0.85</td>\n",
              "      <td>0.37</td>\n",
              "      <td>-0.55</td>\n",
              "    </tr>\n",
              "    <tr>\n",
              "      <th>163</th>\n",
              "      <td>-0.53</td>\n",
              "      <td>-0.46</td>\n",
              "      <td>-0.70</td>\n",
              "      <td>-1.21</td>\n",
              "      <td>-0.03</td>\n",
              "      <td>3.62</td>\n",
              "      <td>0.55</td>\n",
              "      <td>-0.32</td>\n",
              "      <td>0.03</td>\n",
              "    </tr>\n",
              "    <tr>\n",
              "      <th>164</th>\n",
              "      <td>-0.37</td>\n",
              "      <td>1.13</td>\n",
              "      <td>0.01</td>\n",
              "      <td>1.38</td>\n",
              "      <td>-0.66</td>\n",
              "      <td>0.41</td>\n",
              "      <td>0.29</td>\n",
              "      <td>-0.66</td>\n",
              "      <td>-0.64</td>\n",
              "    </tr>\n",
              "    <tr>\n",
              "      <th>165</th>\n",
              "      <td>0.45</td>\n",
              "      <td>-0.41</td>\n",
              "      <td>-0.60</td>\n",
              "      <td>-0.52</td>\n",
              "      <td>-0.66</td>\n",
              "      <td>1.50</td>\n",
              "      <td>-0.34</td>\n",
              "      <td>1.14</td>\n",
              "      <td>-0.64</td>\n",
              "    </tr>\n",
              "    <tr>\n",
              "      <th>166</th>\n",
              "      <td>1.11</td>\n",
              "      <td>-0.15</td>\n",
              "      <td>-0.34</td>\n",
              "      <td>-0.66</td>\n",
              "      <td>-0.72</td>\n",
              "      <td>0.59</td>\n",
              "      <td>-2.09</td>\n",
              "      <td>1.62</td>\n",
              "      <td>-0.63</td>\n",
              "    </tr>\n",
              "  </tbody>\n",
              "</table>\n",
              "<p>167 rows × 9 columns</p>\n",
              "</div>\n",
              "    <div class=\"colab-df-buttons\">\n",
              "\n",
              "  <div class=\"colab-df-container\">\n",
              "    <button class=\"colab-df-convert\" onclick=\"convertToInteractive('df-fdef351f-0ab0-44d9-ad2d-74a142d8eb8d')\"\n",
              "            title=\"Convert this dataframe to an interactive table.\"\n",
              "            style=\"display:none;\">\n",
              "\n",
              "  <svg xmlns=\"http://www.w3.org/2000/svg\" height=\"24px\" viewBox=\"0 -960 960 960\">\n",
              "    <path d=\"M120-120v-720h720v720H120Zm60-500h600v-160H180v160Zm220 220h160v-160H400v160Zm0 220h160v-160H400v160ZM180-400h160v-160H180v160Zm440 0h160v-160H620v160ZM180-180h160v-160H180v160Zm440 0h160v-160H620v160Z\"/>\n",
              "  </svg>\n",
              "    </button>\n",
              "\n",
              "  <style>\n",
              "    .colab-df-container {\n",
              "      display:flex;\n",
              "      gap: 12px;\n",
              "    }\n",
              "\n",
              "    .colab-df-convert {\n",
              "      background-color: #E8F0FE;\n",
              "      border: none;\n",
              "      border-radius: 50%;\n",
              "      cursor: pointer;\n",
              "      display: none;\n",
              "      fill: #1967D2;\n",
              "      height: 32px;\n",
              "      padding: 0 0 0 0;\n",
              "      width: 32px;\n",
              "    }\n",
              "\n",
              "    .colab-df-convert:hover {\n",
              "      background-color: #E2EBFA;\n",
              "      box-shadow: 0px 1px 2px rgba(60, 64, 67, 0.3), 0px 1px 3px 1px rgba(60, 64, 67, 0.15);\n",
              "      fill: #174EA6;\n",
              "    }\n",
              "\n",
              "    .colab-df-buttons div {\n",
              "      margin-bottom: 4px;\n",
              "    }\n",
              "\n",
              "    [theme=dark] .colab-df-convert {\n",
              "      background-color: #3B4455;\n",
              "      fill: #D2E3FC;\n",
              "    }\n",
              "\n",
              "    [theme=dark] .colab-df-convert:hover {\n",
              "      background-color: #434B5C;\n",
              "      box-shadow: 0px 1px 3px 1px rgba(0, 0, 0, 0.15);\n",
              "      filter: drop-shadow(0px 1px 2px rgba(0, 0, 0, 0.3));\n",
              "      fill: #FFFFFF;\n",
              "    }\n",
              "  </style>\n",
              "\n",
              "    <script>\n",
              "      const buttonEl =\n",
              "        document.querySelector('#df-fdef351f-0ab0-44d9-ad2d-74a142d8eb8d button.colab-df-convert');\n",
              "      buttonEl.style.display =\n",
              "        google.colab.kernel.accessAllowed ? 'block' : 'none';\n",
              "\n",
              "      async function convertToInteractive(key) {\n",
              "        const element = document.querySelector('#df-fdef351f-0ab0-44d9-ad2d-74a142d8eb8d');\n",
              "        const dataTable =\n",
              "          await google.colab.kernel.invokeFunction('convertToInteractive',\n",
              "                                                    [key], {});\n",
              "        if (!dataTable) return;\n",
              "\n",
              "        const docLinkHtml = 'Like what you see? Visit the ' +\n",
              "          '<a target=\"_blank\" href=https://colab.research.google.com/notebooks/data_table.ipynb>data table notebook</a>'\n",
              "          + ' to learn more about interactive tables.';\n",
              "        element.innerHTML = '';\n",
              "        dataTable['output_type'] = 'display_data';\n",
              "        await google.colab.output.renderOutput(dataTable, element);\n",
              "        const docLink = document.createElement('div');\n",
              "        docLink.innerHTML = docLinkHtml;\n",
              "        element.appendChild(docLink);\n",
              "      }\n",
              "    </script>\n",
              "  </div>\n",
              "\n",
              "\n",
              "    <div id=\"df-dece19d9-4cdf-4464-9585-bc6ca0a4eb24\">\n",
              "      <button class=\"colab-df-quickchart\" onclick=\"quickchart('df-dece19d9-4cdf-4464-9585-bc6ca0a4eb24')\"\n",
              "                title=\"Suggest charts\"\n",
              "                style=\"display:none;\">\n",
              "\n",
              "<svg xmlns=\"http://www.w3.org/2000/svg\" height=\"24px\"viewBox=\"0 0 24 24\"\n",
              "     width=\"24px\">\n",
              "    <g>\n",
              "        <path d=\"M19 3H5c-1.1 0-2 .9-2 2v14c0 1.1.9 2 2 2h14c1.1 0 2-.9 2-2V5c0-1.1-.9-2-2-2zM9 17H7v-7h2v7zm4 0h-2V7h2v10zm4 0h-2v-4h2v4z\"/>\n",
              "    </g>\n",
              "</svg>\n",
              "      </button>\n",
              "\n",
              "<style>\n",
              "  .colab-df-quickchart {\n",
              "      --bg-color: #E8F0FE;\n",
              "      --fill-color: #1967D2;\n",
              "      --hover-bg-color: #E2EBFA;\n",
              "      --hover-fill-color: #174EA6;\n",
              "      --disabled-fill-color: #AAA;\n",
              "      --disabled-bg-color: #DDD;\n",
              "  }\n",
              "\n",
              "  [theme=dark] .colab-df-quickchart {\n",
              "      --bg-color: #3B4455;\n",
              "      --fill-color: #D2E3FC;\n",
              "      --hover-bg-color: #434B5C;\n",
              "      --hover-fill-color: #FFFFFF;\n",
              "      --disabled-bg-color: #3B4455;\n",
              "      --disabled-fill-color: #666;\n",
              "  }\n",
              "\n",
              "  .colab-df-quickchart {\n",
              "    background-color: var(--bg-color);\n",
              "    border: none;\n",
              "    border-radius: 50%;\n",
              "    cursor: pointer;\n",
              "    display: none;\n",
              "    fill: var(--fill-color);\n",
              "    height: 32px;\n",
              "    padding: 0;\n",
              "    width: 32px;\n",
              "  }\n",
              "\n",
              "  .colab-df-quickchart:hover {\n",
              "    background-color: var(--hover-bg-color);\n",
              "    box-shadow: 0 1px 2px rgba(60, 64, 67, 0.3), 0 1px 3px 1px rgba(60, 64, 67, 0.15);\n",
              "    fill: var(--button-hover-fill-color);\n",
              "  }\n",
              "\n",
              "  .colab-df-quickchart-complete:disabled,\n",
              "  .colab-df-quickchart-complete:disabled:hover {\n",
              "    background-color: var(--disabled-bg-color);\n",
              "    fill: var(--disabled-fill-color);\n",
              "    box-shadow: none;\n",
              "  }\n",
              "\n",
              "  .colab-df-spinner {\n",
              "    border: 2px solid var(--fill-color);\n",
              "    border-color: transparent;\n",
              "    border-bottom-color: var(--fill-color);\n",
              "    animation:\n",
              "      spin 1s steps(1) infinite;\n",
              "  }\n",
              "\n",
              "  @keyframes spin {\n",
              "    0% {\n",
              "      border-color: transparent;\n",
              "      border-bottom-color: var(--fill-color);\n",
              "      border-left-color: var(--fill-color);\n",
              "    }\n",
              "    20% {\n",
              "      border-color: transparent;\n",
              "      border-left-color: var(--fill-color);\n",
              "      border-top-color: var(--fill-color);\n",
              "    }\n",
              "    30% {\n",
              "      border-color: transparent;\n",
              "      border-left-color: var(--fill-color);\n",
              "      border-top-color: var(--fill-color);\n",
              "      border-right-color: var(--fill-color);\n",
              "    }\n",
              "    40% {\n",
              "      border-color: transparent;\n",
              "      border-right-color: var(--fill-color);\n",
              "      border-top-color: var(--fill-color);\n",
              "    }\n",
              "    60% {\n",
              "      border-color: transparent;\n",
              "      border-right-color: var(--fill-color);\n",
              "    }\n",
              "    80% {\n",
              "      border-color: transparent;\n",
              "      border-right-color: var(--fill-color);\n",
              "      border-bottom-color: var(--fill-color);\n",
              "    }\n",
              "    90% {\n",
              "      border-color: transparent;\n",
              "      border-bottom-color: var(--fill-color);\n",
              "    }\n",
              "  }\n",
              "</style>\n",
              "\n",
              "      <script>\n",
              "        async function quickchart(key) {\n",
              "          const quickchartButtonEl =\n",
              "            document.querySelector('#' + key + ' button');\n",
              "          quickchartButtonEl.disabled = true;  // To prevent multiple clicks.\n",
              "          quickchartButtonEl.classList.add('colab-df-spinner');\n",
              "          try {\n",
              "            const charts = await google.colab.kernel.invokeFunction(\n",
              "                'suggestCharts', [key], {});\n",
              "          } catch (error) {\n",
              "            console.error('Error during call to suggestCharts:', error);\n",
              "          }\n",
              "          quickchartButtonEl.classList.remove('colab-df-spinner');\n",
              "          quickchartButtonEl.classList.add('colab-df-quickchart-complete');\n",
              "        }\n",
              "        (() => {\n",
              "          let quickchartButtonEl =\n",
              "            document.querySelector('#df-dece19d9-4cdf-4464-9585-bc6ca0a4eb24 button');\n",
              "          quickchartButtonEl.style.display =\n",
              "            google.colab.kernel.accessAllowed ? 'block' : 'none';\n",
              "        })();\n",
              "      </script>\n",
              "    </div>\n",
              "\n",
              "  <div id=\"id_4f940a1f-98e0-4607-ac99-ad53fe01abf4\">\n",
              "    <style>\n",
              "      .colab-df-generate {\n",
              "        background-color: #E8F0FE;\n",
              "        border: none;\n",
              "        border-radius: 50%;\n",
              "        cursor: pointer;\n",
              "        display: none;\n",
              "        fill: #1967D2;\n",
              "        height: 32px;\n",
              "        padding: 0 0 0 0;\n",
              "        width: 32px;\n",
              "      }\n",
              "\n",
              "      .colab-df-generate:hover {\n",
              "        background-color: #E2EBFA;\n",
              "        box-shadow: 0px 1px 2px rgba(60, 64, 67, 0.3), 0px 1px 3px 1px rgba(60, 64, 67, 0.15);\n",
              "        fill: #174EA6;\n",
              "      }\n",
              "\n",
              "      [theme=dark] .colab-df-generate {\n",
              "        background-color: #3B4455;\n",
              "        fill: #D2E3FC;\n",
              "      }\n",
              "\n",
              "      [theme=dark] .colab-df-generate:hover {\n",
              "        background-color: #434B5C;\n",
              "        box-shadow: 0px 1px 3px 1px rgba(0, 0, 0, 0.15);\n",
              "        filter: drop-shadow(0px 1px 2px rgba(0, 0, 0, 0.3));\n",
              "        fill: #FFFFFF;\n",
              "      }\n",
              "    </style>\n",
              "    <button class=\"colab-df-generate\" onclick=\"generateWithVariable('X_scaled_df')\"\n",
              "            title=\"Generate code using this dataframe.\"\n",
              "            style=\"display:none;\">\n",
              "\n",
              "  <svg xmlns=\"http://www.w3.org/2000/svg\" height=\"24px\"viewBox=\"0 0 24 24\"\n",
              "       width=\"24px\">\n",
              "    <path d=\"M7,19H8.4L18.45,9,17,7.55,7,17.6ZM5,21V16.75L18.45,3.32a2,2,0,0,1,2.83,0l1.4,1.43a1.91,1.91,0,0,1,.58,1.4,1.91,1.91,0,0,1-.58,1.4L9.25,21ZM18.45,9,17,7.55Zm-12,3A5.31,5.31,0,0,0,4.9,8.1,5.31,5.31,0,0,0,1,6.5,5.31,5.31,0,0,0,4.9,4.9,5.31,5.31,0,0,0,6.5,1,5.31,5.31,0,0,0,8.1,4.9,5.31,5.31,0,0,0,12,6.5,5.46,5.46,0,0,0,6.5,12Z\"/>\n",
              "  </svg>\n",
              "    </button>\n",
              "    <script>\n",
              "      (() => {\n",
              "      const buttonEl =\n",
              "        document.querySelector('#id_4f940a1f-98e0-4607-ac99-ad53fe01abf4 button.colab-df-generate');\n",
              "      buttonEl.style.display =\n",
              "        google.colab.kernel.accessAllowed ? 'block' : 'none';\n",
              "\n",
              "      buttonEl.onclick = () => {\n",
              "        google.colab.notebook.generateWithVariable('X_scaled_df');\n",
              "      }\n",
              "      })();\n",
              "    </script>\n",
              "  </div>\n",
              "\n",
              "    </div>\n",
              "  </div>\n"
            ],
            "application/vnd.google.colaboratory.intrinsic+json": {
              "type": "dataframe",
              "variable_name": "X_scaled_df",
              "summary": "{\n  \"name\": \"X_scaled_df\",\n  \"rows\": 167,\n  \"fields\": [\n    {\n      \"column\": \"child_mort\",\n      \"properties\": {\n        \"dtype\": \"number\",\n        \"std\": 1.003007525587691,\n        \"min\": -0.8871382703053136,\n        \"max\": 4.221297244871843,\n        \"num_unique_values\": 139,\n        \"samples\": [\n          -0.5265135625639855,\n          -0.034074306475827376,\n          2.753927744407129\n        ],\n        \"semantic_type\": \"\",\n        \"description\": \"\"\n      }\n    },\n    {\n      \"column\": \"exports\",\n      \"properties\": {\n        \"dtype\": \"number\",\n        \"std\": 1.0030075255876911,\n        \"min\": -1.5001922280710283,\n        \"max\": 5.813834597480612,\n        \"num_unique_values\": 147,\n        \"samples\": [\n          -0.457704380760285,\n          0.6107258302352467,\n          -0.7577430016562907\n        ],\n        \"semantic_type\": \"\",\n        \"description\": \"\"\n      }\n    },\n    {\n      \"column\": \"health\",\n      \"properties\": {\n        \"dtype\": \"number\",\n        \"std\": 1.003007525587691,\n        \"min\": -1.8278268602455852,\n        \"max\": 4.047435545742448,\n        \"num_unique_values\": 147,\n        \"samples\": [\n          0.9947821141663161,\n          0.7793436542823547,\n          -1.152299486033164\n        ],\n        \"semantic_type\": \"\",\n        \"description\": \"\"\n      }\n    },\n    {\n      \"column\": \"imports\",\n      \"properties\": {\n        \"dtype\": \"number\",\n        \"std\": 1.0030075255876911,\n        \"min\": -1.9399395975621934,\n        \"max\": 5.266180730564218,\n        \"num_unique_values\": 151,\n        \"samples\": [\n          1.3676011945405444,\n          0.9864435778410989,\n          2.2417779024055764\n        ],\n        \"semantic_type\": \"\",\n        \"description\": \"\"\n      }\n    },\n    {\n      \"column\": \"income\",\n      \"properties\": {\n        \"dtype\": \"number\",\n        \"std\": 1.0030075255876907,\n        \"min\": -0.8603258578354654,\n        \"max\": 5.611542125621075,\n        \"num_unique_values\": 156,\n        \"samples\": [\n          -0.4908720022468385,\n          0.013283449190113374,\n          0.06010903291490766\n        ],\n        \"semantic_type\": \"\",\n        \"description\": \"\"\n      }\n    },\n    {\n      \"column\": \"inflation\",\n      \"properties\": {\n        \"dtype\": \"number\",\n        \"std\": 1.0030075255876907,\n        \"min\": -1.1378521421164183,\n        \"max\": 9.129718055281284,\n        \"num_unique_values\": 156,\n        \"samples\": [\n          -0.37781852894614215,\n          -1.0439154034099798,\n          -0.7158010171000152\n        ],\n        \"semantic_type\": \"\",\n        \"description\": \"\"\n      }\n    },\n    {\n      \"column\": \"life_expec\",\n      \"properties\": {\n        \"dtype\": \"number\",\n        \"std\": 1.003007525587691,\n        \"min\": -4.337186493794972,\n        \"max\": 1.3809624488114416,\n        \"num_unique_values\": 127,\n        \"samples\": [\n          -1.4950296229136777,\n          1.2343432451548673,\n          -0.2656839922547045\n        ],\n        \"semantic_type\": \"\",\n        \"description\": \"\"\n      }\n    },\n    {\n      \"column\": \"total_fer\",\n      \"properties\": {\n        \"dtype\": \"number\",\n        \"std\": 1.003007525587691,\n        \"min\": -1.1912504022175432,\n        \"max\": 3.009349414141248,\n        \"num_unique_values\": 138,\n        \"samples\": [\n          -1.1117437810877235,\n          0.14048550170693178,\n          -0.4094352944409857\n        ],\n        \"semantic_type\": \"\",\n        \"description\": \"\"\n      }\n    },\n    {\n      \"column\": \"gdpp\",\n      \"properties\": {\n        \"dtype\": \"number\",\n        \"std\": 1.003007525587691,\n        \"min\": -0.696800516647701,\n        \"max\": 5.036506694375584,\n        \"num_unique_values\": 157,\n        \"samples\": [\n          -0.11842977803890363,\n          -0.454430945136833,\n          0.4999437053823671\n        ],\n        \"semantic_type\": \"\",\n        \"description\": \"\"\n      }\n    }\n  ]\n}"
            }
          },
          "metadata": {},
          "execution_count": 10
        }
      ]
    },
    {
      "cell_type": "markdown",
      "source": [
        "## Ejercicio 4: K-Means Clustering\n",
        "\n",
        "Usa K-Means para encontrar los clusters. Primero, debes decidir el número óptimo de clusters (k)."
      ],
      "metadata": {
        "id": "_Zt2IRp1H1s-"
      }
    },
    {
      "cell_type": "markdown",
      "source": [
        "1. Usa el Método del Codo para encontrar el k óptimo.\n",
        "Prueba un rango de k de 1 a 10. Grafica."
      ],
      "metadata": {
        "id": "QQmPblhWH5xK"
      }
    },
    {
      "cell_type": "code",
      "source": [
        "### TU CÓDIGO AQUÍ ###\n",
        "wcss = []\n",
        "for i in range(1, 11):\n",
        "    kmeans = KMeans(n_clusters=i, init='k-means++', max_iter=300, n_init=10, random_state=42)\n",
        "    kmeans.fit(X_scaled_df)\n",
        "    wcss.append(kmeans.inertia_)\n",
        "\n",
        "plt.figure(figsize=(10, 5))\n",
        "plt.plot(range(1, 11), wcss, marker='o', linestyle='--')\n",
        "plt.title('Método del Codo')\n",
        "plt.xlabel('Número de Clusters (k)')\n",
        "plt.ylabel('WCSS')\n",
        "plt.show()"
      ],
      "metadata": {
        "id": "Uc2g-2pwIGBd",
        "colab": {
          "base_uri": "https://localhost:8080/",
          "height": 496
        },
        "outputId": "b5212406-2857-4b43-cdb4-147e78c96c04"
      },
      "execution_count": 11,
      "outputs": [
        {
          "output_type": "display_data",
          "data": {
            "text/plain": [
              "<Figure size 1000x500 with 1 Axes>"
            ],
            "image/png": "[encoded data removed]"
          },
          "metadata": {}
        }
      ]
    },
    {
      "cell_type": "markdown",
      "source": [
        "2. ¿Dónde está el \"codo\"? ¿Qué número de clusters (k) parece ser el más adecuado? Justifiquen su elección."
      ],
      "metadata": {
        "id": "HAHmnKb7IJMK"
      }
    },
    {
      "cell_type": "markdown",
      "source": [
        "El codo se observa aproximadamente en k = 3.\n",
        "A partir de ese punto, la reducción del WCSS deja de ser tan pronunciada y la curva comienza a aplanarse. Esto indica que agregar más clusters después de 3 no mejora significativamente la compactación de los grupos, por lo que k = 3 es el número más adecuado según este método.\n",
        "\n"
      ],
      "metadata": {
        "id": "RdLgJOrItpal"
      }
    },
    {
      "cell_type": "markdown",
      "source": [
        "3. Calcula y grafica el coeficiente de silueta"
      ],
      "metadata": {
        "id": "rNpjBy__0rCR"
      }
    },
    {
      "cell_type": "code",
      "source": [
        "range_n_clusters = range(2, 11)\n",
        "\n",
        "silhouette_avg_scores = []\n",
        "\n",
        "for n_clusters in range_n_clusters:\n",
        "    clusterer = KMeans(n_clusters=n_clusters, n_init=10, random_state=42)\n",
        "    cluster_labels = clusterer.fit_predict(X_scaled_df)\n",
        "    silhouette_avg = silhouette_score(X_scaled_df, cluster_labels)\n",
        "    silhouette_avg_scores.append(silhouette_avg)\n",
        "    print(f\"Para n_clusters = {n_clusters}, el coeficiente de silueta promedio es: {silhouette_avg:.4f}\")\n",
        "\n",
        "plt.figure(figsize=(10, 5))\n",
        "plt.plot(range_n_clusters, silhouette_avg_scores, marker='o', linestyle='--')\n",
        "plt.title('Coeficiente de Silueta para Varios k')\n",
        "plt.xlabel('Número de Clusters (k)')\n",
        "plt.ylabel('Coeficiente de Silueta Promedio')\n",
        "plt.show()"
      ],
      "metadata": {
        "id": "_oFuxm7W8aNk",
        "colab": {
          "base_uri": "https://localhost:8080/",
          "height": 652
        },
        "outputId": "a96f2f06-8ebd-4295-d8d7-7dfc55630d5f"
      },
      "execution_count": 12,
      "outputs": [
        {
          "output_type": "stream",
          "name": "stdout",
          "text": [
            "Para n_clusters = 2, el coeficiente de silueta promedio es: 0.2874\n",
            "Para n_clusters = 3, el coeficiente de silueta promedio es: 0.2833\n",
            "Para n_clusters = 4, el coeficiente de silueta promedio es: 0.2960\n",
            "Para n_clusters = 5, el coeficiente de silueta promedio es: 0.2993\n",
            "Para n_clusters = 6, el coeficiente de silueta promedio es: 0.2287\n",
            "Para n_clusters = 7, el coeficiente de silueta promedio es: 0.2477\n",
            "Para n_clusters = 8, el coeficiente de silueta promedio es: 0.2388\n",
            "Para n_clusters = 9, el coeficiente de silueta promedio es: 0.2073\n",
            "Para n_clusters = 10, el coeficiente de silueta promedio es: 0.2022\n"
          ]
        },
        {
          "output_type": "display_data",
          "data": {
            "text/plain": [
              "<Figure size 1000x500 with 1 Axes>"
            ],
            "image/png": "[encoded data removed]"
          },
          "metadata": {}
        }
      ]
    },
    {
      "cell_type": "markdown",
      "source": [
        "4. ¿Qué número de clusters (k) parece ser el más adecuado según el coeficiente de silueta? Justifiquen su elección."
      ],
      "metadata": {
        "id": "OOzuVZuK1nG2"
      }
    },
    {
      "cell_type": "markdown",
      "source": [
        "El coeficiente de silueta mide la calidad de los grupos formados: valores cercanos a 1 indican buena separación entre clusters, mientras que valores cercanos a 0 reflejan solapamiento.\n",
        "\n",
        "En este caso, k = 5 logra el mejor equilibrio entre cohesión interna y separación entre grupos. A partir de ese punto el coeficiente disminuye, indicando que dividir más los datos empeora la calidad de los agrupamientos."
      ],
      "metadata": {
        "id": "Gb4bk2c08LaU"
      }
    },
    {
      "cell_type": "markdown",
      "source": [
        "5. Basados en los resultados del método del codo y el coeficiente de silueta, tomen una decisión de cuántos clusters usar. Justifiquen su elección."
      ],
      "metadata": {
        "id": "cWZFFkK9G71j"
      }
    },
    {
      "cell_type": "markdown",
      "source": [
        "Basados en ambos métodos, el número de clusters más adecuado es k = 5.\n",
        "\n",
        "El método del codo muestra que después de k = 3 la disminución del WCSS se vuelve más gradual, lo que sugiere un punto razonable de agrupamiento. Sin embargo, el coeficiente de silueta alcanza su valor máximo en k = 5, indicando que con cinco grupos se logra una mejor separación y cohesión entre los datos.\n",
        "\n",
        "Por lo tanto, considerando el equilibrio entre la compactación interna y la distancia entre los grupos, se decide usar 5 clusters, ya que permite una segmentación más representativa y bien diferenciada de los países en función de sus características socioeconómicas."
      ],
      "metadata": {
        "id": "zGOGG0Ct8oeF"
      }
    },
    {
      "cell_type": "markdown",
      "source": [
        "6. Aplica K-Means con el k que tu grupo eligió."
      ],
      "metadata": {
        "id": "AENIS3o3IPTV"
      }
    },
    {
      "cell_type": "code",
      "source": [
        "kmeans = KMeans(n_clusters=5, init='k-means++', max_iter=300, n_init=10, random_state=42)\n",
        "clusters_kmeans = kmeans.fit_predict(X_scaled_df)\n"
      ],
      "metadata": {
        "id": "OWpQlWxiISCQ"
      },
      "execution_count": 13,
      "outputs": []
    },
    {
      "cell_type": "markdown",
      "source": [
        "7. Añade la asignación de clusters al DataFrame original"
      ],
      "metadata": {
        "id": "VjF4qGCSx7V6"
      }
    },
    {
      "cell_type": "code",
      "source": [
        "X_scaled_df['clusters_kmeans']=kmeans.labels_\n",
        "print(df[(clusters_kmeans)==3])\n",
        "np.unique(kmeans.labels_, return_counts=True)\n"
      ],
      "metadata": {
        "id": "qf14_9z7IU_A",
        "colab": {
          "base_uri": "https://localhost:8080/"
        },
        "outputId": "d28091b1-0d74-4910-ec51-3ee682b06cc1"
      },
      "execution_count": 38,
      "outputs": [
        {
          "output_type": "stream",
          "name": "stdout",
          "text": [
            "                  country  child_mort  exports  health  imports  income  \\\n",
            "7               Australia        4.80    19.80    8.73    20.90   41400   \n",
            "8                 Austria        4.30    51.30   11.00    47.80   43200   \n",
            "10                Bahamas       13.80    35.00    7.89    43.70   22900   \n",
            "15                Belgium        4.50    76.40   10.70    74.70   41100   \n",
            "23                 Brunei       10.50    67.40    2.84    28.00   80600   \n",
            "29                 Canada        5.60    29.10   11.30    31.00   40700   \n",
            "42                 Cyprus        3.60    50.20    5.97    57.50   33900   \n",
            "43         Czech Republic        3.40    66.00    7.88    62.90   28300   \n",
            "44                Denmark        4.10    50.50   11.40    43.60   44000   \n",
            "53                Finland        3.00    38.70    8.95    37.40   39800   \n",
            "54                 France        4.20    26.80   11.90    28.10   36900   \n",
            "58                Germany        4.20    42.30   11.60    37.10   40400   \n",
            "60                 Greece        3.90    22.10   10.30    30.70   28700   \n",
            "68                Iceland        2.60    53.40    9.40    43.30   38800   \n",
            "73                Ireland        4.20   103.00    9.19    86.50   45700   \n",
            "74                 Israel        4.60    35.00    7.63    32.90   29600   \n",
            "75                  Italy        4.00    25.20    9.53    27.20   36200   \n",
            "77                  Japan        3.20    15.00    9.49    13.60   35800   \n",
            "82                 Kuwait       10.80    66.70    2.63    30.40   75200   \n",
            "110           Netherlands        4.50    72.00   11.90    63.60   45500   \n",
            "111           New Zealand        6.20    30.30   10.10    28.00   32300   \n",
            "114                Norway        3.20    39.70    9.48    28.50   62300   \n",
            "122              Portugal        3.90    29.90   11.00    37.40   27200   \n",
            "123                 Qatar        9.00    62.30    1.81    23.80  125000   \n",
            "135              Slovenia        3.20    64.30    9.41    62.90   28700   \n",
            "138           South Korea        4.10    49.40    6.93    46.20   30400   \n",
            "139                 Spain        3.80    25.50    9.54    26.80   32500   \n",
            "144                Sweden        3.00    46.20    9.63    40.70   42900   \n",
            "145           Switzerland        4.50    64.00   11.50    53.30   55500   \n",
            "157  United Arab Emirates        8.60    77.70    3.66    63.60   57600   \n",
            "158        United Kingdom        5.20    28.20    9.64    30.80   36200   \n",
            "159         United States        7.30    12.40   17.90    15.80   49400   \n",
            "\n",
            "     inflation  life_expec  total_fer   gdpp  clusters_kmeans  \n",
            "7         1.16       82.00       1.93  51900                3  \n",
            "8         0.87       80.50       1.44  46900                3  \n",
            "10       -0.39       73.80       1.86  28000                3  \n",
            "15        1.88       80.00       1.86  44400                3  \n",
            "23       16.70       77.10       1.84  35300                3  \n",
            "29        2.87       81.30       1.63  47400                3  \n",
            "42        2.01       79.90       1.42  30800                3  \n",
            "43       -1.43       77.50       1.51  19800                3  \n",
            "44        3.22       79.50       1.87  58000                3  \n",
            "53        0.35       80.00       1.87  46200                3  \n",
            "54        1.05       81.40       2.03  40600                3  \n",
            "58        0.76       80.10       1.39  41800                3  \n",
            "60        0.67       80.40       1.48  26900                3  \n",
            "68        5.47       82.00       2.20  41900                3  \n",
            "73       -3.22       80.40       2.05  48700                3  \n",
            "74        1.77       81.40       3.03  30600                3  \n",
            "75        0.32       81.70       1.46  35800                3  \n",
            "77       -1.90       82.80       1.39  44500                3  \n",
            "82       11.20       78.20       2.21  38500                3  \n",
            "110       0.85       80.70       1.79  50300                3  \n",
            "111       3.73       80.90       2.17  33700                3  \n",
            "114       5.95       81.00       1.95  87800                3  \n",
            "122       0.64       79.80       1.39  22500                3  \n",
            "123       6.98       79.50       2.07  70300                3  \n",
            "135      -0.99       79.50       1.57  23400                3  \n",
            "138       3.16       80.10       1.23  22100                3  \n",
            "139       0.16       81.90       1.37  30700                3  \n",
            "144       0.99       81.50       1.98  52100                3  \n",
            "145       0.32       82.20       1.52  74600                3  \n",
            "157      12.50       76.50       1.87  35000                3  \n",
            "158       1.57       80.30       1.92  38900                3  \n",
            "159       1.22       78.70       1.93  48400                3  \n"
          ]
        },
        {
          "output_type": "execute_result",
          "data": {
            "text/plain": [
              "(array([0, 1, 2, 3, 4], dtype=int32), array([84, 47,  3, 32,  1]))"
            ]
          },
          "metadata": {},
          "execution_count": 38
        }
      ]
    },
    {
      "cell_type": "markdown",
      "source": [
        "## Ejercicio 5: Análisis e Interpretación de los Clusters\n",
        "\n",
        "Ahora que tienes los grupos, necesitas entender qué los caracteriza."
      ],
      "metadata": {
        "id": "L-yH0LrHIY4c"
      }
    },
    {
      "cell_type": "markdown",
      "source": [
        "1. Calcula el promedio de cada variable para cada cluster.\n",
        "Esto te dará el \"perfil\" de cada grupo."
      ],
      "metadata": {
        "id": "YNpci8B1IqtL"
      }
    },
    {
      "cell_type": "code",
      "source": [
        "variables_numericas = ['child_mort', 'exports', 'health', 'imports', 'income',\n",
        "       'inflation', 'life_expec', 'total_fer', 'gdpp']\n",
        "df.groupby('clusters_kmeans')[variables_numericas].mean()"
      ],
      "metadata": {
        "id": "3SDJ9FRDIX6Z",
        "colab": {
          "base_uri": "https://localhost:8080/",
          "height": 238
        },
        "outputId": "1a50235a-3dfc-4fe3-b16e-77d8854a169d"
      },
      "execution_count": 42,
      "outputs": [
        {
          "output_type": "execute_result",
          "data": {
            "text/plain": [
              "                 child_mort  exports  health  imports    income  inflation  \\\n",
              "clusters_kmeans                                                              \n",
              "0                     21.61    40.98    6.17    47.52 12,801.07       7.62   \n",
              "1                     90.79    29.66    6.46    43.68  3,870.70       9.95   \n",
              "2                      4.13   176.00    6.79   156.67 64,033.33       2.47   \n",
              "3                      5.18    46.12    9.09    40.58 44,021.88       2.51   \n",
              "4                    130.00    25.30    5.07    17.40  5,150.00     104.00   \n",
              "\n",
              "                 life_expec  total_fer      gdpp  \n",
              "clusters_kmeans                                   \n",
              "0                     73.00       2.28  6,581.81  \n",
              "1                     59.21       4.97  1,900.26  \n",
              "2                     81.43       1.38 57,566.67  \n",
              "3                     80.08       1.79 42,118.75  \n",
              "4                     60.50       5.84  2,330.00  "
            ],
            "text/html": [
              "\n",
              "  <div id=\"df-69c01426-c217-4256-8d2d-460e90d75c47\" class=\"colab-df-container\">\n",
              "    <div>\n",
              "<style scoped>\n",
              "    .dataframe tbody tr th:only-of-type {\n",
              "        vertical-align: middle;\n",
              "    }\n",
              "\n",
              "    .dataframe tbody tr th {\n",
              "        vertical-align: top;\n",
              "    }\n",
              "\n",
              "    .dataframe thead th {\n",
              "        text-align: right;\n",
              "    }\n",
              "</style>\n",
              "<table border=\"1\" class=\"dataframe\">\n",
              "  <thead>\n",
              "    <tr style=\"text-align: right;\">\n",
              "      <th></th>\n",
              "      <th>child_mort</th>\n",
              "      <th>exports</th>\n",
              "      <th>health</th>\n",
              "      <th>imports</th>\n",
              "      <th>income</th>\n",
              "      <th>inflation</th>\n",
              "      <th>life_expec</th>\n",
              "      <th>total_fer</th>\n",
              "      <th>gdpp</th>\n",
              "    </tr>\n",
              "    <tr>\n",
              "      <th>clusters_kmeans</th>\n",
              "      <th></th>\n",
              "      <th></th>\n",
              "      <th></th>\n",
              "      <th></th>\n",
              "      <th></th>\n",
              "      <th></th>\n",
              "      <th></th>\n",
              "      <th></th>\n",
              "      <th></th>\n",
              "    </tr>\n",
              "  </thead>\n",
              "  <tbody>\n",
              "    <tr>\n",
              "      <th>0</th>\n",
              "      <td>21.61</td>\n",
              "      <td>40.98</td>\n",
              "      <td>6.17</td>\n",
              "      <td>47.52</td>\n",
              "      <td>12,801.07</td>\n",
              "      <td>7.62</td>\n",
              "      <td>73.00</td>\n",
              "      <td>2.28</td>\n",
              "      <td>6,581.81</td>\n",
              "    </tr>\n",
              "    <tr>\n",
              "      <th>1</th>\n",
              "      <td>90.79</td>\n",
              "      <td>29.66</td>\n",
              "      <td>6.46</td>\n",
              "      <td>43.68</td>\n",
              "      <td>3,870.70</td>\n",
              "      <td>9.95</td>\n",
              "      <td>59.21</td>\n",
              "      <td>4.97</td>\n",
              "      <td>1,900.26</td>\n",
              "    </tr>\n",
              "    <tr>\n",
              "      <th>2</th>\n",
              "      <td>4.13</td>\n",
              "      <td>176.00</td>\n",
              "      <td>6.79</td>\n",
              "      <td>156.67</td>\n",
              "      <td>64,033.33</td>\n",
              "      <td>2.47</td>\n",
              "      <td>81.43</td>\n",
              "      <td>1.38</td>\n",
              "      <td>57,566.67</td>\n",
              "    </tr>\n",
              "    <tr>\n",
              "      <th>3</th>\n",
              "      <td>5.18</td>\n",
              "      <td>46.12</td>\n",
              "      <td>9.09</td>\n",
              "      <td>40.58</td>\n",
              "      <td>44,021.88</td>\n",
              "      <td>2.51</td>\n",
              "      <td>80.08</td>\n",
              "      <td>1.79</td>\n",
              "      <td>42,118.75</td>\n",
              "    </tr>\n",
              "    <tr>\n",
              "      <th>4</th>\n",
              "      <td>130.00</td>\n",
              "      <td>25.30</td>\n",
              "      <td>5.07</td>\n",
              "      <td>17.40</td>\n",
              "      <td>5,150.00</td>\n",
              "      <td>104.00</td>\n",
              "      <td>60.50</td>\n",
              "      <td>5.84</td>\n",
              "      <td>2,330.00</td>\n",
              "    </tr>\n",
              "  </tbody>\n",
              "</table>\n",
              "</div>\n",
              "    <div class=\"colab-df-buttons\">\n",
              "\n",
              "  <div class=\"colab-df-container\">\n",
              "    <button class=\"colab-df-convert\" onclick=\"convertToInteractive('df-69c01426-c217-4256-8d2d-460e90d75c47')\"\n",
              "            title=\"Convert this dataframe to an interactive table.\"\n",
              "            style=\"display:none;\">\n",
              "\n",
              "  <svg xmlns=\"http://www.w3.org/2000/svg\" height=\"24px\" viewBox=\"0 -960 960 960\">\n",
              "    <path d=\"M120-120v-720h720v720H120Zm60-500h600v-160H180v160Zm220 220h160v-160H400v160Zm0 220h160v-160H400v160ZM180-400h160v-160H180v160Zm440 0h160v-160H620v160ZM180-180h160v-160H180v160Zm440 0h160v-160H620v160Z\"/>\n",
              "  </svg>\n",
              "    </button>\n",
              "\n",
              "  <style>\n",
              "    .colab-df-container {\n",
              "      display:flex;\n",
              "      gap: 12px;\n",
              "    }\n",
              "\n",
              "    .colab-df-convert {\n",
              "      background-color: #E8F0FE;\n",
              "      border: none;\n",
              "      border-radius: 50%;\n",
              "      cursor: pointer;\n",
              "      display: none;\n",
              "      fill: #1967D2;\n",
              "      height: 32px;\n",
              "      padding: 0 0 0 0;\n",
              "      width: 32px;\n",
              "    }\n",
              "\n",
              "    .colab-df-convert:hover {\n",
              "      background-color: #E2EBFA;\n",
              "      box-shadow: 0px 1px 2px rgba(60, 64, 67, 0.3), 0px 1px 3px 1px rgba(60, 64, 67, 0.15);\n",
              "      fill: #174EA6;\n",
              "    }\n",
              "\n",
              "    .colab-df-buttons div {\n",
              "      margin-bottom: 4px;\n",
              "    }\n",
              "\n",
              "    [theme=dark] .colab-df-convert {\n",
              "      background-color: #3B4455;\n",
              "      fill: #D2E3FC;\n",
              "    }\n",
              "\n",
              "    [theme=dark] .colab-df-convert:hover {\n",
              "      background-color: #434B5C;\n",
              "      box-shadow: 0px 1px 3px 1px rgba(0, 0, 0, 0.15);\n",
              "      filter: drop-shadow(0px 1px 2px rgba(0, 0, 0, 0.3));\n",
              "      fill: #FFFFFF;\n",
              "    }\n",
              "  </style>\n",
              "\n",
              "    <script>\n",
              "      const buttonEl =\n",
              "        document.querySelector('#df-69c01426-c217-4256-8d2d-460e90d75c47 button.colab-df-convert');\n",
              "      buttonEl.style.display =\n",
              "        google.colab.kernel.accessAllowed ? 'block' : 'none';\n",
              "\n",
              "      async function convertToInteractive(key) {\n",
              "        const element = document.querySelector('#df-69c01426-c217-4256-8d2d-460e90d75c47');\n",
              "        const dataTable =\n",
              "          await google.colab.kernel.invokeFunction('convertToInteractive',\n",
              "                                                    [key], {});\n",
              "        if (!dataTable) return;\n",
              "\n",
              "        const docLinkHtml = 'Like what you see? Visit the ' +\n",
              "          '<a target=\"_blank\" href=https://colab.research.google.com/notebooks/data_table.ipynb>data table notebook</a>'\n",
              "          + ' to learn more about interactive tables.';\n",
              "        element.innerHTML = '';\n",
              "        dataTable['output_type'] = 'display_data';\n",
              "        await google.colab.output.renderOutput(dataTable, element);\n",
              "        const docLink = document.createElement('div');\n",
              "        docLink.innerHTML = docLinkHtml;\n",
              "        element.appendChild(docLink);\n",
              "      }\n",
              "    </script>\n",
              "  </div>\n",
              "\n",
              "\n",
              "    <div id=\"df-344d58c2-f5a4-48e7-9ffb-884874313015\">\n",
              "      <button class=\"colab-df-quickchart\" onclick=\"quickchart('df-344d58c2-f5a4-48e7-9ffb-884874313015')\"\n",
              "                title=\"Suggest charts\"\n",
              "                style=\"display:none;\">\n",
              "\n",
              "<svg xmlns=\"http://www.w3.org/2000/svg\" height=\"24px\"viewBox=\"0 0 24 24\"\n",
              "     width=\"24px\">\n",
              "    <g>\n",
              "        <path d=\"M19 3H5c-1.1 0-2 .9-2 2v14c0 1.1.9 2 2 2h14c1.1 0 2-.9 2-2V5c0-1.1-.9-2-2-2zM9 17H7v-7h2v7zm4 0h-2V7h2v10zm4 0h-2v-4h2v4z\"/>\n",
              "    </g>\n",
              "</svg>\n",
              "      </button>\n",
              "\n",
              "<style>\n",
              "  .colab-df-quickchart {\n",
              "      --bg-color: #E8F0FE;\n",
              "      --fill-color: #1967D2;\n",
              "      --hover-bg-color: #E2EBFA;\n",
              "      --hover-fill-color: #174EA6;\n",
              "      --disabled-fill-color: #AAA;\n",
              "      --disabled-bg-color: #DDD;\n",
              "  }\n",
              "\n",
              "  [theme=dark] .colab-df-quickchart {\n",
              "      --bg-color: #3B4455;\n",
              "      --fill-color: #D2E3FC;\n",
              "      --hover-bg-color: #434B5C;\n",
              "      --hover-fill-color: #FFFFFF;\n",
              "      --disabled-bg-color: #3B4455;\n",
              "      --disabled-fill-color: #666;\n",
              "  }\n",
              "\n",
              "  .colab-df-quickchart {\n",
              "    background-color: var(--bg-color);\n",
              "    border: none;\n",
              "    border-radius: 50%;\n",
              "    cursor: pointer;\n",
              "    display: none;\n",
              "    fill: var(--fill-color);\n",
              "    height: 32px;\n",
              "    padding: 0;\n",
              "    width: 32px;\n",
              "  }\n",
              "\n",
              "  .colab-df-quickchart:hover {\n",
              "    background-color: var(--hover-bg-color);\n",
              "    box-shadow: 0 1px 2px rgba(60, 64, 67, 0.3), 0 1px 3px 1px rgba(60, 64, 67, 0.15);\n",
              "    fill: var(--button-hover-fill-color);\n",
              "  }\n",
              "\n",
              "  .colab-df-quickchart-complete:disabled,\n",
              "  .colab-df-quickchart-complete:disabled:hover {\n",
              "    background-color: var(--disabled-bg-color);\n",
              "    fill: var(--disabled-fill-color);\n",
              "    box-shadow: none;\n",
              "  }\n",
              "\n",
              "  .colab-df-spinner {\n",
              "    border: 2px solid var(--fill-color);\n",
              "    border-color: transparent;\n",
              "    border-bottom-color: var(--fill-color);\n",
              "    animation:\n",
              "      spin 1s steps(1) infinite;\n",
              "  }\n",
              "\n",
              "  @keyframes spin {\n",
              "    0% {\n",
              "      border-color: transparent;\n",
              "      border-bottom-color: var(--fill-color);\n",
              "      border-left-color: var(--fill-color);\n",
              "    }\n",
              "    20% {\n",
              "      border-color: transparent;\n",
              "      border-left-color: var(--fill-color);\n",
              "      border-top-color: var(--fill-color);\n",
              "    }\n",
              "    30% {\n",
              "      border-color: transparent;\n",
              "      border-left-color: var(--fill-color);\n",
              "      border-top-color: var(--fill-color);\n",
              "      border-right-color: var(--fill-color);\n",
              "    }\n",
              "    40% {\n",
              "      border-color: transparent;\n",
              "      border-right-color: var(--fill-color);\n",
              "      border-top-color: var(--fill-color);\n",
              "    }\n",
              "    60% {\n",
              "      border-color: transparent;\n",
              "      border-right-color: var(--fill-color);\n",
              "    }\n",
              "    80% {\n",
              "      border-color: transparent;\n",
              "      border-right-color: var(--fill-color);\n",
              "      border-bottom-color: var(--fill-color);\n",
              "    }\n",
              "    90% {\n",
              "      border-color: transparent;\n",
              "      border-bottom-color: var(--fill-color);\n",
              "    }\n",
              "  }\n",
              "</style>\n",
              "\n",
              "      <script>\n",
              "        async function quickchart(key) {\n",
              "          const quickchartButtonEl =\n",
              "            document.querySelector('#' + key + ' button');\n",
              "          quickchartButtonEl.disabled = true;  // To prevent multiple clicks.\n",
              "          quickchartButtonEl.classList.add('colab-df-spinner');\n",
              "          try {\n",
              "            const charts = await google.colab.kernel.invokeFunction(\n",
              "                'suggestCharts', [key], {});\n",
              "          } catch (error) {\n",
              "            console.error('Error during call to suggestCharts:', error);\n",
              "          }\n",
              "          quickchartButtonEl.classList.remove('colab-df-spinner');\n",
              "          quickchartButtonEl.classList.add('colab-df-quickchart-complete');\n",
              "        }\n",
              "        (() => {\n",
              "          let quickchartButtonEl =\n",
              "            document.querySelector('#df-344d58c2-f5a4-48e7-9ffb-884874313015 button');\n",
              "          quickchartButtonEl.style.display =\n",
              "            google.colab.kernel.accessAllowed ? 'block' : 'none';\n",
              "        })();\n",
              "      </script>\n",
              "    </div>\n",
              "\n",
              "    </div>\n",
              "  </div>\n"
            ],
            "application/vnd.google.colaboratory.intrinsic+json": {
              "type": "dataframe",
              "summary": "{\n  \"name\": \"df\",\n  \"rows\": 5,\n  \"fields\": [\n    {\n      \"column\": \"clusters_kmeans\",\n      \"properties\": {\n        \"dtype\": \"int32\",\n        \"num_unique_values\": 5,\n        \"samples\": [\n          1,\n          4,\n          2\n        ],\n        \"semantic_type\": \"\",\n        \"description\": \"\"\n      }\n    },\n    {\n      \"column\": \"child_mort\",\n      \"properties\": {\n        \"dtype\": \"number\",\n        \"std\": 56.96873273167241,\n        \"min\": 4.133333333333333,\n        \"max\": 130.0,\n        \"num_unique_values\": 5,\n        \"samples\": [\n          90.7936170212766,\n          130.0,\n          4.133333333333333\n        ],\n        \"semantic_type\": \"\",\n        \"description\": \"\"\n      }\n    },\n    {\n      \"column\": \"exports\",\n      \"properties\": {\n        \"dtype\": \"number\",\n        \"std\": 63.383514736461436,\n        \"min\": 25.3,\n        \"max\": 176.0,\n        \"num_unique_values\": 5,\n        \"samples\": [\n          29.66191489361702,\n          25.3,\n          176.0\n        ],\n        \"semantic_type\": \"\",\n        \"description\": \"\"\n      }\n    },\n    {\n      \"column\": \"health\",\n      \"properties\": {\n        \"dtype\": \"number\",\n        \"std\": 1.4753936808550387,\n        \"min\": 5.07,\n        \"max\": 9.0884375,\n        \"num_unique_values\": 5,\n        \"samples\": [\n          6.462553191489362,\n          5.07,\n          6.793333333333333\n        ],\n        \"semantic_type\": \"\",\n        \"description\": \"\"\n      }\n    },\n    {\n      \"column\": \"imports\",\n      \"properties\": {\n        \"dtype\": \"number\",\n        \"std\": 54.661284552882044,\n        \"min\": 17.4,\n        \"max\": 156.66666666666666,\n        \"num_unique_values\": 5,\n        \"samples\": [\n          43.680851063829785,\n          17.4,\n          156.66666666666666\n        ],\n        \"semantic_type\": \"\",\n        \"description\": \"\"\n      }\n    },\n    {\n      \"column\": \"income\",\n      \"properties\": {\n        \"dtype\": \"number\",\n        \"std\": 26786.00117610603,\n        \"min\": 3870.7021276595747,\n        \"max\": 64033.333333333336,\n        \"num_unique_values\": 5,\n        \"samples\": [\n          3870.7021276595747,\n          5150.0,\n          64033.333333333336\n        ],\n        \"semantic_type\": \"\",\n        \"description\": \"\"\n      }\n    },\n    {\n      \"column\": \"inflation\",\n      \"properties\": {\n        \"dtype\": \"number\",\n        \"std\": 44.10892308799528,\n        \"min\": 2.468,\n        \"max\": 104.0,\n        \"num_unique_values\": 5,\n        \"samples\": [\n          9.951808510638298,\n          104.0,\n          2.468\n        ],\n        \"semantic_type\": \"\",\n        \"description\": \"\"\n      }\n    },\n    {\n      \"column\": \"life_expec\",\n      \"properties\": {\n        \"dtype\": \"number\",\n        \"std\": 10.5405594257664,\n        \"min\": 59.212765957446805,\n        \"max\": 81.43333333333334,\n        \"num_unique_values\": 5,\n        \"samples\": [\n          59.212765957446805,\n          60.5,\n          81.43333333333334\n        ],\n        \"semantic_type\": \"\",\n        \"description\": \"\"\n      }\n    },\n    {\n      \"column\": \"total_fer\",\n      \"properties\": {\n        \"dtype\": \"number\",\n        \"std\": 2.016122019174877,\n        \"min\": 1.38,\n        \"max\": 5.84,\n        \"num_unique_values\": 5,\n        \"samples\": [\n          4.97404255319149,\n          5.84,\n          1.38\n        ],\n        \"semantic_type\": \"\",\n        \"description\": \"\"\n      }\n    },\n    {\n      \"column\": \"gdpp\",\n      \"properties\": {\n        \"dtype\": \"number\",\n        \"std\": 25972.73385478166,\n        \"min\": 1900.2553191489362,\n        \"max\": 57566.666666666664,\n        \"num_unique_values\": 5,\n        \"samples\": [\n          1900.2553191489362,\n          2330.0,\n          57566.666666666664\n        ],\n        \"semantic_type\": \"\",\n        \"description\": \"\"\n      }\n    }\n  ]\n}"
            }
          },
          "metadata": {},
          "execution_count": 42
        }
      ]
    },
    {
      "cell_type": "markdown",
      "source": [
        "2. Visualiza los resultados. Un scatter plot de 'gdpp' vs 'child_mort' es un buen punto de partida."
      ],
      "metadata": {
        "id": "KiwVsACkI1uw"
      }
    },
    {
      "cell_type": "code",
      "source": [
        "sns.scatterplot(x='gdpp', y='child_mort', hue='clusters_kmeans', data=df, palette='tab10', s=100)"
      ],
      "metadata": {
        "id": "6rzIumfQI4IX",
        "colab": {
          "base_uri": "https://localhost:8080/",
          "height": 721
        },
        "outputId": "1818ea3b-3b77-4637-934e-b3da1b09abba"
      },
      "execution_count": 49,
      "outputs": [
        {
          "output_type": "execute_result",
          "data": {
            "text/plain": [
              "<Axes: xlabel='gdpp', ylabel='child_mort'>"
            ]
          },
          "metadata": {},
          "execution_count": 49
        },
        {
          "output_type": "display_data",
          "data": {
            "text/plain": [
              "<Figure size 1200x800 with 1 Axes>"
            ],
            "image/png": "[encoded data removed]"
          },
          "metadata": {}
        }
      ]
    },
    {
      "cell_type": "code",
      "source": [
        "sns.scatterplot(x='life_expec', y='inflation', hue='clusters_kmeans', data=df, palette='tab10', s=100)\n"
      ],
      "metadata": {
        "colab": {
          "base_uri": "https://localhost:8080/",
          "height": 722
        },
        "id": "lvMzLx0cJ1_d",
        "outputId": "a2561adb-258c-423e-f8a0-43ff5ba04924"
      },
      "execution_count": 47,
      "outputs": [
        {
          "output_type": "execute_result",
          "data": {
            "text/plain": [
              "<Axes: xlabel='life_expec', ylabel='inflation'>"
            ]
          },
          "metadata": {},
          "execution_count": 47
        },
        {
          "output_type": "display_data",
          "data": {
            "text/plain": [
              "<Figure size 1200x800 with 1 Axes>"
            ],
            "image/png": "[encoded data removed]"
          },
          "metadata": {}
        }
      ]
    },
    {
      "cell_type": "code",
      "source": [
        "sns.scatterplot(x='income', y='inflation', hue='clusters_kmeans', data=df, palette='tab10', s=100)"
      ],
      "metadata": {
        "colab": {
          "base_uri": "https://localhost:8080/",
          "height": 721
        },
        "id": "JFlLICmwJ4hB",
        "outputId": "8036cfee-b4d9-44f1-f3bd-064d65ca7173"
      },
      "execution_count": 48,
      "outputs": [
        {
          "output_type": "execute_result",
          "data": {
            "text/plain": [
              "<Axes: xlabel='income', ylabel='inflation'>"
            ]
          },
          "metadata": {},
          "execution_count": 48
        },
        {
          "output_type": "display_data",
          "data": {
            "text/plain": [
              "<Figure size 1200x800 with 1 Axes>"
            ],
            "image/png": "[encoded data removed]"
          },
          "metadata": {}
        }
      ]
    },
    {
      "cell_type": "markdown",
      "source": [
        "3. **Nombra los clusters:** Basado en el perfil de cada uno, dale un nombre descriptivo.\n"
      ],
      "metadata": {
        "id": "uJG7T_WyI-i0"
      }
    },
    {
      "cell_type": "markdown",
      "source": [
        "Cluster 0: Países con desarrollo medio y estabilidad moderada.\n",
        "\n",
        "Cluster 1: Países con bajo desarrollo y alta vulnerabilidad social.\n",
        "\n",
        "Cluster 2: Economías desarrolladas y altamente abiertas al comercio.\n",
        "\n",
        "Cluster 3: Economías emergentes en transición.\n",
        "\n",
        "Cluster 4: País atípico con crisis macroeconómica extrema."
      ],
      "metadata": {
        "id": "mUvt63Q7LCgK"
      }
    },
    {
      "cell_type": "markdown",
      "source": [
        "4. **Describe cada cluster:** Para cada grupo, describe sus características principales.\n"
      ],
      "metadata": {
        "id": "X8v39OCAJSXp"
      }
    },
    {
      "cell_type": "markdown",
      "source": [
        "Cluster 0: Ingresos promedio medios (12.801), baja mortalidad infantil (21.6) y esperanza de vida de alrededor de 73 años. Inflación controlada (7.6%) y fertilidad moderada (2.28). Representan economías en desarrollo con avances en salud y cierta estabilidad macroeconómica.\n",
        "\n",
        "Cluster 1: Alta mortalidad infantil (90.7), baja esperanza de vida (59 años), alta fertilidad (4.9) y bajos ingresos (8.370). Este grupo refleja naciones con pobreza estructural, baja inversión en salud y grandes desafíos sociales.\n",
        "\n",
        "Cluster 2: Ingresos muy altos (64.033), esperanza de vida elevada (81 años), baja fertilidad (1.38) y comercio exterior muy alto (exports e imports superiores al 150%). Representan países industrializados, globalizados y con altos niveles de bienestar y estabilidad.\n",
        "\n",
        "Cluster 3: Ingresos medios-altos (44.021), baja mortalidad infantil (5.18) y alta esperanza de vida (80 años). Inflación baja (2.5%) y fertilidad controlada (1.79). Son economías en crecimiento que consolidan su desarrollo con estabilidad macroeconómica.\n",
        "\n",
        "Cluster 4: Incluye solo un país con inflación extremadamente alta (104%), baja esperanza de vida (60 años), mortalidad infantil muy alta (130) y bajo ingreso (5.150). Es un caso aislado que representa una economía en colapso o crisis severa."
      ],
      "metadata": {
        "id": "7C5_NZlzLflJ"
      }
    },
    {
      "cell_type": "markdown",
      "source": [
        "5. **Recomendación de Política:** Elije un cluster y propón un tipo de programa de ayuda o política pública que el PNUD podría implementar para ellos."
      ],
      "metadata": {
        "id": "s3Jtj8yTJT3e"
      }
    },
    {
      "cell_type": "markdown",
      "source": [
        "\n",
        "El Cluster 1 agrupa países con bajo desarrollo y alta vulnerabilidad social, caracterizados por una alta mortalidad infantil, baja esperanza de vida, alta fertilidad y bajos ingresos. Estas condiciones reflejan pobreza estructural, escasa cobertura en salud y educación, y una débil capacidad institucional para garantizar bienestar.\n",
        "\n",
        "Ante este panorama, se podría implementar un Programa Integral de Desarrollo Humano, centrado en tres ejes: salud, educación y desarrollo productivo. En salud, se priorizaría la atención materno-infantil, la nutrición y el acceso básico a servicios médicos. En educación, se impulsaría la formación técnica y el empoderamiento de mujeres y jóvenes, fomentando su inclusión laboral. Finalmente, se promoverían proyectos agrícolas sostenibles y transferencias condicionadas que fortalezcan la seguridad alimentaria y los ingresos familiares.\n",
        "\n",
        "Esta política permitiría mejorar los indicadores de bienestar y reducir la pobreza, contribuyendo al cumplimiento de los ODS 1 (Fin de la Pobreza), ODS 3 (Salud y Bienestar) y ODS 8 (Trabajo Decente y Crecimiento Económico)."
      ],
      "metadata": {
        "id": "GfVhnD3cMI3A"
      }
    }
  ],
  "metadata": {
    "kernelspec": {
      "display_name": "Python 3",
      "language": "python",
      "name": "python3"
    },
    "language_info": {
      "codemirror_mode": {
        "name": "ipython",
        "version": 3
      },
      "file_extension": ".py",
      "mimetype": "text/x-python",
      "name": "python",
      "nbconvert_exporter": "python",
      "pygments_lexer": "ipython3",
      "version": "3.8.8"
    },
    "colab": {
      "provenance": []
    }
  },
  "nbformat": 4,
  "nbformat_minor": 0
}